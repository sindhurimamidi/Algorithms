{
 "cells": [
  {
   "cell_type": "markdown",
   "metadata": {},
   "source": [
    "# Python Tricks by Dan Bader"
   ]
  },
  {
   "cell_type": "markdown",
   "metadata": {},
   "source": [
    "# Assert"
   ]
  },
  {
   "cell_type": "markdown",
   "metadata": {},
   "source": [
    "- Caveat Don’t Use Asserts for Data Validation The biggest caveat with using asserts in Python is that assertions can be globally disabled3 with the -O and -OO command line switches, as well as the PYTHONOPTIMIZE environment variable in CPython.\n"
   ]
  },
  {
   "cell_type": "markdown",
   "metadata": {},
   "source": [
    "# With"
   ]
  },
  {
   "cell_type": "markdown",
   "metadata": {},
   "source": [
    "\n",
    "- Opening files using the with statement is generally recommended because it ensures that open file descriptors are closed automatically after program execution leaves the context of the with statement.\n",
    "- What’s a context manager? It’s a simple “protocol” (or interface) that your object needs to follow in order to support the with statement. Basically, all you need to do is add __enter__ and __exit__ methods to an object if you want it to function as a context manager. Python will call these two methods at the appropriate times in the resource management cycle.\n",
    "- The with statement simplifies exception handling by encapsulating standard uses of try/ finally statements in so-called context managers. Most commonly it is used to manage the safe acquisition and release of system resources. Resources are acquired by the with statement and released automatically when execution leaves the with context. Using with effectively can help you avoid resource leaks and make your code easier to read."
   ]
  },
  {
   "cell_type": "markdown",
   "metadata": {},
   "source": [
    "# Functions"
   ]
  },
  {
   "cell_type": "markdown",
   "metadata": {},
   "source": [
    "\n",
    "- Everything in Python is an object, including functions. You can assign them to variables, store them in data structures, and pass or return them to and from other\n",
    "functions (first-class functions.) \n",
    "- First-class functions allow you to abstract away and pass around behavior in your programs. Functions can be nested and they can capture and carry some of the parent function’s state with them. Functions that do this are called closures. \n",
    "- Objects can be made callable. In many cases this allows you to treat them like functions."
   ]
  },
  {
   "cell_type": "markdown",
   "metadata": {},
   "source": [
    "# Decorators"
   ]
  },
  {
   "cell_type": "markdown",
   "metadata": {},
   "source": [
    "\n",
    "- Decorators define reusable building blocks you can apply to a callable to modify its behavior without permanently modifying the callable itself. \n",
    "- The @ syntax is just a shorthand for calling the decorator on an input function. Multiple decorators on a single function are applied bottom to top (decorator stacking). \n",
    "- As a debugging best practice, use the functools.wraps helper in your own decorators to carry over metadata from the undecorated callable to the decorated one. \n",
    "- Just like any other tool in the software development toolbox, decorators are not a cure-all and they should not be overused. It’s important to balance the need to “get stuff done” with the goal of “not getting tangled up in a horrible, unmaintainable mess of a code base.”"
   ]
  },
  {
   "cell_type": "markdown",
   "metadata": {},
   "source": [
    "# args,kargs"
   ]
  },
  {
   "cell_type": "markdown",
   "metadata": {},
   "source": [
    " \n",
    "- If we call the function with additional arguments, args will collect extra positional arguments as a tuple because the parameter name has a '*' prefix. \n",
    "- Likewise, kwargs will collect extra keyword arguments as a dictionary because the parameter name has a '**' prefix. The '*' and '**' operators can be used to unpack function arguments from sequences and dictionaries. Using argument unpacking effectively can help you write more flexible interfaces for your modules and functions.\n"
   ]
  },
  {
   "cell_type": "markdown",
   "metadata": {},
   "source": [
    "# Shallow vs Deep copy"
   ]
  },
  {
   "cell_type": "markdown",
   "metadata": {},
   "source": [
    "\n",
    "- An is expression evaluates to True if two variables point to the same (identical) object. An = = expression evaluates to True if the objects referred to by the variables are equal (have the same contents).\n",
    "- Making a shallow copy of an object won’t clone child objects. Therefore, the copy is not fully independent of the original. \n",
    "- A deep copy of an object will recursively clone child objects. The clone is fully independent of the original, but creating a deep copy is slower. You can copy arbitrary objects (including custom classes) with the copy module."
   ]
  },
  {
   "cell_type": "markdown",
   "metadata": {},
   "source": [
    "# Class"
   ]
  },
  {
   "cell_type": "markdown",
   "metadata": {},
   "source": [
    "- Class variables vs instance variables\n",
    "- Class variables are for data shared by all instances of a class. They belong to a class, not a specific instance and are shared among all instances of a class. \n",
    "- Instance variables are for data that is unique to each instance. They belong to individual object instances and are not shared among the other instances of a class. \n",
    "- Each instance variable gets a unique backing store specific to the instance. Because class variables can be “shadowed” by instance variables of the same name, it’s easy to (accidentally) override class variables in a way that introduces bugs and odd behavior."
   ]
  },
  {
   "cell_type": "markdown",
   "metadata": {},
   "source": [
    "# Iterators "
   ]
  },
  {
   "cell_type": "markdown",
   "metadata": {},
   "source": [
    "\n",
    "\n",
    "- Iterators provide a sequence interface to Python objects that’s memory efficient and considered Pythonic. Behold the beauty of the for-in loop! \n",
    "- To support iteration an object needs to implement the iterator protocol by providing the __iter__ and __next__ dunder methods. \n",
    "- Class-based iterators are only one way to write iterable objects in Python. Also consider generators and generator expressions.\n"
   ]
  },
  {
   "cell_type": "markdown",
   "metadata": {},
   "source": [
    "# Generator"
   ]
  },
  {
   "cell_type": "code",
   "execution_count": 1,
   "metadata": {},
   "outputs": [
    {
     "data": {
      "text/plain": [
       "[1, 4, 9, 16, 25, 36, 49, 64]"
      ]
     },
     "execution_count": 1,
     "metadata": {},
     "output_type": "execute_result"
    }
   ],
   "source": [
    "# when a return statement is invoked inside a function, it permanently passes control back to the caller of the function. When a yield is invoked, it also passes control back to the caller of the function—but it only does so temporarily.\n",
    "\n",
    "# Building data pipelines with generators \n",
    "def integers(): \n",
    "    for i in range( 1, 9): \n",
    "        yield i\n",
    "\n",
    "def squared( seq): \n",
    "    for i in seq: \n",
    "        yield i * i \n",
    "\n",
    "# This is what our “data pipeline” or “chain of generators” would do now:\n",
    "chain = squared(integers())\n",
    "list(chain)\n",
    "[1, 4, 9, 16, 25, 36, 49, 64]"
   ]
  },
  {
   "cell_type": "markdown",
   "metadata": {},
   "source": [
    "# Dictionaries "
   ]
  },
  {
   "cell_type": "code",
   "execution_count": null,
   "metadata": {},
   "outputs": [],
   "source": [
    "collections.OrderedDict\n",
    "collections.defaultdict\n",
    "collections.ChainMap\n",
    "\n",
    "\n",
    "def greeting( userid): \n",
    "return 'Hi %s!' % name_for_userid.get(userid, 'there')\n",
    "\n",
    "xs = {'a': 4, 'c': 2, 'b': 3, 'd': 1}\n",
    "# sorting by keys\n",
    "sorted(xs.items()) \n",
    "[('a', 4), ('b', 3), ('c', 2), ('d', 1)]\n",
    "\n",
    "# sorting dictionary by value\n",
    "sorted(xs.items(), key = lambda x: x[ 1]) \n",
    "[('d', 1), ('c', 2), ('b', 3), ('a', 4)]\n",
    "\n",
    "# Merging Dicts\n",
    "xs = {1:'3'}\n",
    "ys = {1:'e'}\n",
    "zs={}\n",
    "zs.update(xs)\n",
    "zs.update(ys) # takes precendence\n",
    "zs = dict(xs, **ys)\n",
    "\n",
    "#Pretty printing dictionaries\n",
    "mapping = {'a':32, 'b':34, 'c':0xc0ffee}\n",
    "import json\n",
    "json.dumps(mapping, indent = 2, sort_keys=True)"
   ]
  },
  {
   "cell_type": "markdown",
   "metadata": {},
   "source": [
    "# Arrays"
   ]
  },
  {
   "cell_type": "markdown",
   "metadata": {},
   "source": [
    "Arrays \n",
    "- list – Mutable Dynamic Arrays\n",
    "- tuple – Immutable Containers\n",
    "- array.array – Basic Typed Arrays\n",
    "- str – Immutable Arrays of Unicode Characters\n",
    "- bytes – Immutable Arrays of Single Bytes, only range from 0-256\n",
    "- bytearray – Mutable Arrays of Single Bytes\n",
    "\n",
    "- Syntax sugar list comprehension\n",
    "- values = [expression\n",
    "            for item in collection\n",
    "            if condition]\n"
   ]
  },
  {
   "cell_type": "markdown",
   "metadata": {},
   "source": [
    "## Dictionaries"
   ]
  },
  {
   "cell_type": "markdown",
   "metadata": {},
   "source": [
    "- How to merge two dictionaries in Python 3.5+"
   ]
  },
  {
   "cell_type": "code",
   "execution_count": 4,
   "metadata": {},
   "outputs": [
    {
     "name": "stdout",
     "output_type": "stream",
     "text": [
      "{'a': 1, 'b': 3, 'c': 4}\n"
     ]
    }
   ],
   "source": [
    "x = {'a': 1, 'b': 2}\n",
    "y = {'b': 3, 'c': 4}\n",
    "z = {**x, **y}\n",
    "print(z)\n"
   ]
  },
  {
   "cell_type": "code",
   "execution_count": null,
   "metadata": {},
   "outputs": [],
   "source": [
    "Set, frozen set \n",
    "Collections.counter \n",
    "len( inventory) 3 # Unique elements \n",
    "sum( inventory.values()) 6 # Total no. of elements\n",
    "\n",
    "\n",
    "Stacks- list,collections.deque, (append,pop) queue.LifoQueue\n",
    "Queues-list,collections.deque(append,popleft), queue.Queue"
   ]
  },
  {
   "cell_type": "code",
   "execution_count": 66,
   "metadata": {},
   "outputs": [
    {
     "data": {
      "text/plain": [
       "'abc'"
      ]
     },
     "execution_count": 66,
     "metadata": {},
     "output_type": "execute_result"
    }
   ],
   "source": [
    "ddr = abc\n",
    "ddr(\"dnsk\")\n",
    "ddr.__name__"
   ]
  },
  {
   "cell_type": "code",
   "execution_count": 75,
   "metadata": {},
   "outputs": [
    {
     "data": {
      "text/plain": [
       "'WHAT'"
      ]
     },
     "execution_count": 75,
     "metadata": {},
     "output_type": "execute_result"
    }
   ],
   "source": [
    "def get(text,vol):\n",
    "    def whisper():\n",
    "        return text.lower()\n",
    "    def yell():\n",
    "        return text.upper()\n",
    "    if vol>0.5:\n",
    "        return yell\n",
    "    else:\n",
    "        return whisper\n",
    "\n",
    "get(\"What\",0.8)()"
   ]
  },
  {
   "cell_type": "code",
   "execution_count": 191,
   "metadata": {},
   "outputs": [
    {
     "data": {
      "text/plain": [
       "[(1, 3), (2, 4)]"
      ]
     },
     "execution_count": 191,
     "metadata": {},
     "output_type": "execute_result"
    }
   ],
   "source": [
    "s=[[1,2],[3,4]]qq\n",
    "zip(s[0],s[1])"
   ]
  },
  {
   "cell_type": "code",
   "execution_count": 202,
   "metadata": {},
   "outputs": [
    {
     "data": {
      "text/plain": [
       "'hello'"
      ]
     },
     "execution_count": 202,
     "metadata": {},
     "output_type": "execute_result"
    }
   ],
   "source": [
    "#decorator\n",
    "def uppercase(func):\n",
    "    def wrapper():\n",
    "        return func().lower()\n",
    "    return wrapper\n",
    "\n",
    "@uppercase\n",
    "def greet():\n",
    "    return \"Hello\" \n",
    "        \n",
    "greet()"
   ]
  },
  {
   "cell_type": "code",
   "execution_count": 208,
   "metadata": {},
   "outputs": [
    {
     "name": "stdout",
     "output_type": "stream",
     "text": [
      "(5, {2: 3}) {}\n"
     ]
    },
    {
     "data": {
      "text/plain": [
       "3"
      ]
     },
     "execution_count": 208,
     "metadata": {},
     "output_type": "execute_result"
    }
   ],
   "source": [
    "def add(a,*args,**kwargs):\n",
    "    print args,kwargs\n",
    "    return a\n",
    "\n",
    "add(3,5)"
   ]
  },
  {
   "cell_type": "code",
   "execution_count": 230,
   "metadata": {},
   "outputs": [
    {
     "name": "stdout",
     "output_type": "stream",
     "text": [
      "1 2 3\n",
      "2 3 7\n"
     ]
    }
   ],
   "source": [
    "#using *args as a list argument and **kwargs as dict.\n",
    "args=(1,2,3)\n",
    "kwargs={'x':2,'y':3,'z':7}\n",
    "\n",
    "def print_vec(x,y,z):\n",
    "    print x,y,z\n",
    "\n",
    "print_vec(*args)\n",
    "print_vec(**kwargs)"
   ]
  },
  {
   "cell_type": "code",
   "execution_count": 270,
   "metadata": {},
   "outputs": [
    {
     "name": "stdout",
     "output_type": "stream",
     "text": [
      "yt\n",
      "<__main__.car instance at 0x10f2b3830>\n"
     ]
    }
   ],
   "source": [
    "color=\"dfs\"\n",
    "\n",
    "\n",
    "class car:\n",
    "    def __init__(self,color,miles):\n",
    "        self.color = color\n",
    "        self.miles = miles\n",
    "        \n",
    "    def fun(self,color):\n",
    "        print color\n",
    "        \n",
    "C = car(\"red\", 12) \n",
    "#print car(\"red\",12)\n",
    "C.fun(\"yt\")\n",
    "print C"
   ]
  },
  {
   "cell_type": "code",
   "execution_count": 20,
   "metadata": {},
   "outputs": [],
   "source": [
    "class Point:\n",
    "    def __init__(self,a):\n",
    "        self.a=a\n",
    "\n",
    "    def __repr__(self):\n",
    "        return f'{self.a!r}'"
   ]
  },
  {
   "cell_type": "code",
   "execution_count": 23,
   "metadata": {},
   "outputs": [
    {
     "name": "stdout",
     "output_type": "stream",
     "text": [
      "12\n",
      "12\n"
     ]
    },
    {
     "data": {
      "text/plain": [
       "(True, True)"
      ]
     },
     "execution_count": 23,
     "metadata": {},
     "output_type": "execute_result"
    }
   ],
   "source": [
    "import copy\n",
    "x = Point(12)\n",
    "print(x)\n",
    "y = x\n",
    "print(y)\n",
    "x==y,x is y"
   ]
  },
  {
   "cell_type": "code",
   "execution_count": 33,
   "metadata": {},
   "outputs": [],
   "source": [
    "# As far as python is considered, True,1,1.0 all represent same thing, so interpreter evaluates dict expression \n",
    "# and repeatedly overwrites the value for the key True.\n",
    "{True:'yes',1:'no',1.0:'maybe'}\n"
   ]
  },
  {
   "cell_type": "code",
   "execution_count": null,
   "metadata": {},
   "outputs": [],
   "source": [
    "# Interleave\n",
    "x = [[1,2,3],  \n",
    "     [9,0], \n",
    "     [5], \n",
    "     [-4,-5,-2,-3,-1],\n",
    "     [5,7]\n",
    "    ]; \n",
    "from itertools import chain, izip_longest\n",
    "[z for z in list(chain.from_iterable(izip_longest(*x))) if z is not None]"
   ]
  },
  {
   "cell_type": "code",
   "execution_count": 7,
   "metadata": {},
   "outputs": [
    {
     "name": "stdout",
     "output_type": "stream",
     "text": [
      "[1, 11]\n",
      "[1, 12]\n",
      "[2, 23]\n",
      "[3]\n",
      "[3]\n",
      "[2, 23]\n",
      "[3]\n"
     ]
    },
    {
     "data": {
      "text/plain": [
       "['aabc', 'aaw', 'alc', 'kbc', 'kw']"
      ]
     },
     "execution_count": 7,
     "metadata": {},
     "output_type": "execute_result"
    }
   ],
   "source": [
    "def helper(current, i, num_str, result):\n",
    "    L = len(num_str)\n",
    "    if i == L:\n",
    "        result.append(current)\n",
    "        return\n",
    "    \n",
    "    n_s = [int(num_str[i])]\n",
    "    \n",
    "    \n",
    "    if i + 1 < len(num_str):\n",
    "        n_s.append(int(num_str[i] + num_str[i+1]))\n",
    "    print (n_s)\n",
    "    # if use on digit, delta is 1, else 2\n",
    "    delta = 1\n",
    "    for n in n_s:\n",
    "        if 1 <= n and n <= 26:\n",
    "            c = chr(ord('a') + n -1)\n",
    "            helper(current + c, i + delta, num_str, result)\n",
    "        delta += 1\n",
    "\n",
    "        \n",
    "def numDecodings(num_str):\n",
    "    result = []\n",
    "    helper(\"\", 0, num_str, result)\n",
    "    return result\n",
    "\n",
    "numDecodings('1123')"
   ]
  },
  {
   "cell_type": "markdown",
   "metadata": {},
   "source": [
    "# Codingbat"
   ]
  },
  {
   "cell_type": "code",
   "execution_count": 10,
   "metadata": {},
   "outputs": [
    {
     "data": {
      "text/plain": [
       "[1, 2, 3]"
      ]
     },
     "execution_count": 10,
     "metadata": {},
     "output_type": "execute_result"
    }
   ],
   "source": [
    "#split to numbers int. 123 to [1,2,3]\n",
    "def numbs(n):\n",
    "    return [int(x) for x in list(str(n))]\n",
    "numbs(123)"
   ]
  },
  {
   "cell_type": "code",
   "execution_count": 130,
   "metadata": {},
   "outputs": [
    {
     "data": {
      "text/plain": [
       "5"
      ]
     },
     "execution_count": 130,
     "metadata": {},
     "output_type": "execute_result"
    }
   ],
   "source": [
    "def centered_average(li):\n",
    "    rem = len(li)%2\n",
    "    half = int(len(li)/2)\n",
    "    if rem == 0:\n",
    "        return (li[half]+li[half+1])/2\n",
    "    else:\n",
    "        return li[half]\n",
    "centered_average([100, 0, 5, 3, 4]) "
   ]
  },
  {
   "cell_type": "code",
   "execution_count": 66,
   "metadata": {},
   "outputs": [
    {
     "name": "stdout",
     "output_type": "stream",
     "text": [
      "Cho\n",
      "Cooae\n"
     ]
    }
   ],
   "source": [
    "str='Chocolate'\n",
    "print(str[:3])\n",
    "print(str[::2]) #skips alternate letter"
   ]
  },
  {
   "cell_type": "code",
   "execution_count": 84,
   "metadata": {},
   "outputs": [
    {
     "data": {
      "text/plain": [
       "'CCoCodCode'"
      ]
     },
     "execution_count": 84,
     "metadata": {},
     "output_type": "execute_result"
    }
   ],
   "source": [
    "#string_splosion\n",
    "def string_splosion(str):\n",
    "  li=[]\n",
    "  for i in range(len(str)):\n",
    "    li.append(str[i])\n",
    "    if i == len(str)-1:\n",
    "        break\n",
    "    else:\n",
    "        li.append(str[:i+1])\n",
    "  return \"\".join(li)\n",
    "    \n",
    "string_splosion('Code')"
   ]
  },
  {
   "cell_type": "code",
   "execution_count": 11,
   "metadata": {},
   "outputs": [
    {
     "data": {
      "text/plain": [
       "1"
      ]
     },
     "execution_count": 11,
     "metadata": {},
     "output_type": "execute_result"
    }
   ],
   "source": [
    "#last 2\n",
    "def last2(st):\n",
    "    if st:\n",
    "        count =0\n",
    "        subst = st[-2:]\n",
    "        for i in range(len(st)):\n",
    "            find = (st[i:i+2])\n",
    "            if find == subst:\n",
    "                count += 1\n",
    "        return count -1\n",
    "    return 0\n",
    "last2('hixxhi')"
   ]
  },
  {
   "cell_type": "code",
   "execution_count": 12,
   "metadata": {},
   "outputs": [
    {
     "data": {
      "text/plain": [
       "1"
      ]
     },
     "execution_count": 12,
     "metadata": {},
     "output_type": "execute_result"
    }
   ],
   "source": [
    "def array_count9(nums):\n",
    "    count=0\n",
    "    for i in nums:\n",
    "        if i==9:\n",
    "            count+=1\n",
    "    return count\n",
    "\n",
    "array_count9([1,6,9])"
   ]
  },
  {
   "cell_type": "code",
   "execution_count": 20,
   "metadata": {},
   "outputs": [
    {
     "data": {
      "text/plain": [
       "False"
      ]
     },
     "execution_count": 20,
     "metadata": {},
     "output_type": "execute_result"
    }
   ],
   "source": [
    "def array_front9(nums):\n",
    "    for i in nums[:4]:\n",
    "        if i==9:\n",
    "            return True\n",
    "    return False\n",
    "array_count9([1,0,4,5])"
   ]
  },
  {
   "cell_type": "code",
   "execution_count": 53,
   "metadata": {},
   "outputs": [
    {
     "data": {
      "text/plain": [
       "False"
      ]
     },
     "execution_count": 53,
     "metadata": {},
     "output_type": "execute_result"
    }
   ],
   "source": [
    "def array123(nums):\n",
    "    for i in range(len(nums)-2):\n",
    "        if nums[i]==1 and nums[i+1]==2 and nums[i+2]==3:\n",
    "            return True\n",
    "    return False\n",
    "        \n",
    "array123([1,0,2,3,4])"
   ]
  },
  {
   "cell_type": "code",
   "execution_count": 74,
   "metadata": {},
   "outputs": [
    {
     "data": {
      "text/plain": [
       "3"
      ]
     },
     "execution_count": 74,
     "metadata": {},
     "output_type": "execute_result"
    }
   ],
   "source": [
    "def string_match(a, b):\n",
    "    count =0\n",
    "    for i in range(len(a)-1):\n",
    "        if a[i:i+2]==b[i:i+2]:\n",
    "            count+=1\n",
    "    return count\n",
    "\n",
    "#string_match('xxcaazz', 'xxbaaz')\n",
    "#string_match('abc', 'abc')\n",
    "#string_match('aabbccdd', 'abbbxxd') \n",
    "#string_match('aaxxaaxx', 'iaxxai') \n",
    "string_match('iaxxai', 'aaxxaaxx') "
   ]
  },
  {
   "cell_type": "code",
   "execution_count": 99,
   "metadata": {},
   "outputs": [
    {
     "name": "stdout",
     "output_type": "stream",
     "text": [
      "5\n",
      "0\n",
      "-1\n",
      "-2\n",
      "-3\n"
     ]
    },
    {
     "data": {
      "text/plain": [
       "False"
      ]
     },
     "execution_count": 99,
     "metadata": {},
     "output_type": "execute_result"
    }
   ],
   "source": [
    "def make_bricks(small, big, goal):\n",
    "\n",
    "make_bricks(3, 2, 10) "
   ]
  },
  {
   "cell_type": "code",
   "execution_count": 78,
   "metadata": {},
   "outputs": [
    {
     "data": {
      "text/plain": [
       "False"
      ]
     },
     "execution_count": 78,
     "metadata": {},
     "output_type": "execute_result"
    }
   ],
   "source": [
    "def cigar_party(cigars, is_weekend):\n",
    "  if ((cigars >= 40 and cigars <= 60 and not is_weekend) or (cigars >= 40 and is_weekend)):\n",
    "    return True\n",
    "  return False\n",
    "  \n",
    "cigar_party(60, False)"
   ]
  },
  {
   "cell_type": "code",
   "execution_count": 105,
   "metadata": {},
   "outputs": [
    {
     "name": "stdout",
     "output_type": "stream",
     "text": [
      "6\n"
     ]
    },
    {
     "data": {
      "text/plain": [
       "True"
      ]
     },
     "execution_count": 105,
     "metadata": {},
     "output_type": "execute_result"
    }
   ],
   "source": [
    "def first_last6(nums):\n",
    "    if nums[::-1][0]==6 or nums[0]==6:\n",
    "        return True\n",
    "    return False\n",
    "first_last6([13, 6, 1, 2, 6])"
   ]
  },
  {
   "cell_type": "code",
   "execution_count": 112,
   "metadata": {},
   "outputs": [
    {
     "name": "stdout",
     "output_type": "stream",
     "text": [
      "0\n"
     ]
    },
    {
     "data": {
      "text/plain": [
       "True"
      ]
     },
     "execution_count": 112,
     "metadata": {},
     "output_type": "execute_result"
    }
   ],
   "source": [
    "def make_bricks(small,big,goal):\n",
    "    print (goal%5)\n",
    "    if goal > big*5+small:\n",
    "        return False\n",
    "    if goal %5 > small:\n",
    "        return False\n",
    "    return True\n",
    "    \n",
    "make_bricks(3, 2, 10)"
   ]
  },
  {
   "cell_type": "code",
   "execution_count": 129,
   "metadata": {},
   "outputs": [
    {
     "data": {
      "text/plain": [
       "1"
      ]
     },
     "execution_count": 129,
     "metadata": {},
     "output_type": "execute_result"
    }
   ],
   "source": [
    "def lone_sum(a, b, c):\n",
    "    if a==b==c:\n",
    "        return 0\n",
    "    elif a==b:\n",
    "        return c\n",
    "    elif b==c:\n",
    "          return a\n",
    "    elif c==a:\n",
    "          return b\n",
    "    else:\n",
    "          return (a+b+c)\n",
    "  \n",
    "\n",
    "lone_sum(2, 2, 1)"
   ]
  },
  {
   "cell_type": "code",
   "execution_count": 156,
   "metadata": {},
   "outputs": [
    {
     "data": {
      "text/plain": [
       "60"
      ]
     },
     "execution_count": 156,
     "metadata": {},
     "output_type": "execute_result"
    }
   ],
   "source": [
    "def round_sum(a, b, c):\n",
    "    li=[a,b,c]\n",
    "    return sum(round10(r) for r in li)\n",
    "  \n",
    "def round10(num):\n",
    "    rem = num%10\n",
    "    if num%10 >= 5:\n",
    "        return num+(10-rem)\n",
    "    else:\n",
    "        return num-rem\n",
    "\n",
    "round_sum(16, 17, 18)"
   ]
  },
  {
   "cell_type": "code",
   "execution_count": 175,
   "metadata": {},
   "outputs": [
    {
     "data": {
      "text/plain": [
       "4"
      ]
     },
     "execution_count": 175,
     "metadata": {},
     "output_type": "execute_result"
    }
   ],
   "source": [
    "def make_chocolate(small, big, goal):\n",
    "    if goal > big*5:\n",
    "        rem = goal-(big*5)\n",
    "    else:\n",
    "        rem = goal%5\n",
    "    if rem <=small:\n",
    "        return rem\n",
    "    return -1\n",
    "    \n",
    "make_chocolate(4, 1, 9)\n",
    "#make_chocolate(4, 1, 10) "
   ]
  },
  {
   "cell_type": "code",
   "execution_count": null,
   "metadata": {},
   "outputs": [],
   "source": [
    "def make_chocolate(small, big, goal):\n",
    "    if goal >= 5 * big:\n",
    "        remainder = goal - 5 * big\n",
    "    else:\n",
    "        remainder = goal % 5\n",
    "        \n",
    "    if remainder <= small:\n",
    "        return remainder\n",
    "        \n",
    "    return -1"
   ]
  },
  {
   "cell_type": "code",
   "execution_count": 187,
   "metadata": {},
   "outputs": [
    {
     "data": {
      "text/plain": [
       "3.0"
      ]
     },
     "execution_count": 187,
     "metadata": {},
     "output_type": "execute_result"
    }
   ],
   "source": [
    "def centered_average(nums):\n",
    "    return sum(sorted(nums)[1:len(nums)-1])/(len(nums)-2)\n",
    "\n",
    "centered_average([1, 2, 3, 4, 100])"
   ]
  },
  {
   "cell_type": "code",
   "execution_count": 247,
   "metadata": {},
   "outputs": [
    {
     "name": "stdout",
     "output_type": "stream",
     "text": [
      "0\n"
     ]
    },
    {
     "data": {
      "text/plain": [
       "0"
      ]
     },
     "execution_count": 247,
     "metadata": {},
     "output_type": "execute_result"
    }
   ],
   "source": [
    "def sum13(nums):\n",
    "    sum,i=0,0\n",
    "    if len(nums)==0:\n",
    "        return 0\n",
    "    while i < len(nums):\n",
    "        print(i)\n",
    "        if nums[i]==13:\n",
    "            if i<(len(nums)-2) and nums[i+2]!=13:\n",
    "                i=i+2\n",
    "            else:\n",
    "                break\n",
    "        sum=sum+nums[i]\n",
    "        i+=1\n",
    "    return sum\n",
    "sum13([13, 1, 13])     "
   ]
  },
  {
   "cell_type": "code",
   "execution_count": 249,
   "metadata": {},
   "outputs": [
    {
     "name": "stdout",
     "output_type": "stream",
     "text": [
      "1\n",
      "2\n",
      "2\n"
     ]
    },
    {
     "data": {
      "text/plain": [
       "5"
      ]
     },
     "execution_count": 249,
     "metadata": {},
     "output_type": "execute_result"
    }
   ],
   "source": [
    "def sum67(nums):\n",
    "    sum,i=0,0\n",
    "    while i < len(nums):\n",
    "        if nums[i]!=6:\n",
    "            sum=sum+nums[i]\n",
    "        else:\n",
    "            while nums[i]!=7:\n",
    "                i=i+1\n",
    "        i=i+1        \n",
    "    return sum\n",
    "    \n",
    "sum67([1, 2, 2, 6, 99, 99, 7]) "
   ]
  },
  {
   "cell_type": "code",
   "execution_count": 260,
   "metadata": {},
   "outputs": [
    {
     "name": "stdout",
     "output_type": "stream",
     "text": [
      "AB\n",
      "BC\n",
      "Ch\n",
      "hi\n",
      "ih\n",
      "hi\n"
     ]
    },
    {
     "data": {
      "text/plain": [
       "2"
      ]
     },
     "execution_count": 260,
     "metadata": {},
     "output_type": "execute_result"
    }
   ],
   "source": [
    "def count_hi(s):\n",
    "    count=0\n",
    "    s=s.replace(\" \", \"\")\n",
    "    for i in range(len(s)-1):\n",
    "        print(s[i:i+2])\n",
    "        if s[i:i+2]=='hi':\n",
    "            count+=1\n",
    "    return count\n",
    "count_hi('ABChi hi') "
   ]
  },
  {
   "cell_type": "code",
   "execution_count": 283,
   "metadata": {},
   "outputs": [
    {
     "data": {
      "text/plain": [
       "False"
      ]
     },
     "execution_count": 283,
     "metadata": {},
     "output_type": "execute_result"
    }
   ],
   "source": [
    "def cat_dog(s):\n",
    "    cat,dog=0,0\n",
    "    if len(s)>=6:\n",
    "        for i in range(len(s)-2):\n",
    "            if s[i:i+3]=='cat':\n",
    "                #print('cat')\n",
    "                cat+=1\n",
    "            if s[i:i+3]=='dog':\n",
    "                #print('dog')\n",
    "                dog+=1\n",
    "        if cat==dog!=0 :\n",
    "            return True\n",
    "    return False\n",
    "\n",
    "cat_dog('')\n"
   ]
  },
  {
   "cell_type": "code",
   "execution_count": 299,
   "metadata": {},
   "outputs": [
    {
     "data": {
      "text/plain": [
       "True"
      ]
     },
     "execution_count": 299,
     "metadata": {},
     "output_type": "execute_result"
    }
   ],
   "source": [
    "def end_other(a, b):\n",
    "    a=a.lower()\n",
    "    b=b.lower()\n",
    "    return (a[-len(b):]==b) or (b[-len(a):]==a)\n",
    "\n",
    "end_other('abc','Bc')"
   ]
  },
  {
   "cell_type": "code",
   "execution_count": 308,
   "metadata": {},
   "outputs": [
    {
     "name": "stdout",
     "output_type": "stream",
     "text": [
      "xyz c\n"
     ]
    },
    {
     "data": {
      "text/plain": [
       "True"
      ]
     },
     "execution_count": 308,
     "metadata": {},
     "output_type": "execute_result"
    }
   ],
   "source": [
    "def xyz_there(s):\n",
    "    for i in range(len(s)-2):\n",
    "        print(s[i:i+3],s[i-1])\n",
    "        if s[i:i+3]=='xyz' and s[i-1]!='.':\n",
    "            return True\n",
    "    return False\n",
    "    \n",
    "xyz_there('xyz.abc')"
   ]
  },
  {
   "cell_type": "code",
   "execution_count": 309,
   "metadata": {},
   "outputs": [
    {
     "name": "stdout",
     "output_type": "stream",
     "text": [
      "[]\n",
      "[3, 2] [1, 3]\n"
     ]
    },
    {
     "data": {
      "text/plain": [
       "'No'"
      ]
     },
     "execution_count": 309,
     "metadata": {},
     "output_type": "execute_result"
    }
   ],
   "source": [
    "def canReach(x1,y1,x2,y2):\n",
    "    start = [x1,y1]\n",
    "    dest = [x2,y2]\n",
    "    Q=[]\n",
    "    Q.append(start)\n",
    "    while len(Q)!=0:\n",
    "        current = Q[0]\n",
    "        Q.pop(0)\n",
    "        print (Q)\n",
    "        next1,next2 = [current[0] + current[1],current[1]],[current[0],current[0]+current[1]]\n",
    "        print (next1,next2)\n",
    "        if (current[0] == dest[0] and current[1] == dest[1]):\n",
    "            return 'Yes'\n",
    "        if (next1[0] <= dest[0] and next1[1] <= dest[1]):\n",
    "            print (1)\n",
    "            Q.append(next1)\n",
    "        if (next2[0] <= dest[0] and next2[1] <= dest[1]):\n",
    "            print (2)\n",
    "            Q.append(next2)\n",
    "    return 'No'\n",
    "        \n",
    "canReach(1,2,3,1)      "
   ]
  }
 ],
 "metadata": {
  "kernelspec": {
   "display_name": "Python 3",
   "language": "python",
   "name": "python3"
  },
  "language_info": {
   "codemirror_mode": {
    "name": "ipython",
    "version": 3
   },
   "file_extension": ".py",
   "mimetype": "text/x-python",
   "name": "python",
   "nbconvert_exporter": "python",
   "pygments_lexer": "ipython3",
   "version": "3.6.5"
  }
 },
 "nbformat": 4,
 "nbformat_minor": 1
}
