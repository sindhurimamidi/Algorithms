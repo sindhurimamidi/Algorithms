{
 "cells": [
  {
   "cell_type": "markdown",
   "metadata": {},
   "source": [
    "#PYTHON BASICS"
   ]
  },
  {
   "cell_type": "markdown",
   "metadata": {},
   "source": [
    "### HANDY STUFF"
   ]
  },
  {
   "cell_type": "code",
   "execution_count": 53,
   "metadata": {},
   "outputs": [
    {
     "name": "stdout",
     "output_type": "stream",
     "text": [
      "[(2, 1), (3, 1)]\n",
      "[('bl', [2]), ('red', [1, 3])]\n"
     ]
    }
   ],
   "source": [
    "#Dictionary : Dictionary doesn't have reverse lookup\n",
    "\n",
    "#counting occurances using dictionary key, val as count.\n",
    "dic={2:0,3:0}\n",
    "for val in dic.keys():\n",
    "    dic[val]=dic.get(val,0)+1  \n",
    "print dic.items()\n",
    "    \n",
    "#default dictionary\n",
    "import collections\n",
    "l = [('red',1),('bl',2),('red',3)]\n",
    "d= collections.defaultdict(list)\n",
    "for k,v in l:\n",
    "    d[k].append(v)\n",
    "print d.items()"
   ]
  },
  {
   "cell_type": "code",
   "execution_count": null,
   "metadata": {},
   "outputs": [],
   "source": [
    "#heap\n",
    "heapq.heappush(heap, item)\n",
    "heapq.heappop(heap)\n",
    "heapq.heappushpop(heap, item)\n",
    "heapq.heapify(x)\n",
    "heapq.heapreplace(heap, item)"
   ]
  },
  {
   "cell_type": "code",
   "execution_count": 56,
   "metadata": {},
   "outputs": [
    {
     "name": "stdout",
     "output_type": "stream",
     "text": [
      "Remove None\n",
      "Insert None\n",
      "implementing map [2, 4, 6, 8]\n",
      "implementing reduce 10\n",
      "200 1\n",
      "201 2\n",
      "202 3\n",
      "203 4\n",
      "a b\n",
      "a c\n",
      "b c\n",
      "[None, None, None]\n",
      "extending sets:  set([1, 2, 3, 4, 5])\n",
      "[0, 1, 4, 9, 16, 25, 36, 49, 64, 81]\n",
      "[[1, 2], [3, 4], [5, 6], [7, 8], [9]]\n",
      "[1, 2, 3, 4, 5, 6]\n",
      "zipping:  [(1, 4), (2, 5), (3, 6)] unzipping:  [(1, 2, 3), (4, 5, 6)]\n",
      "polynomial: [17, 29, 45]\n"
     ]
    }
   ],
   "source": [
    "# Assigning a value initially before minimum value\n",
    "min = None #and then set the lowest value\n",
    "l=[1,2,3,4]\n",
    "x=set(l)\n",
    "r=[[2,3,1],[1,2,3]]\n",
    "#Remove all duplicates of x\n",
    "print\"Remove\", l.remove(2)\n",
    "print \"Insert\",l.insert(1,2) #l.insert(index,num/str)\n",
    "\n",
    "#map(functon,a,b) a,b are lists of equal lengths\n",
    "print \"implementing map\", map(lambda x,y:x+y,l,l)\n",
    "print \"implementing reduce\",reduce(lambda x,y:x+y,l)\n",
    "\n",
    "#implementing enumerate\n",
    "for i,ele in enumerate(l,200):\n",
    "    print i,ele\n",
    "    \n",
    "import itertools\n",
    "for i,j in itertools.combinations(\"abc\",2):\n",
    "    print i,j\n",
    "    \n",
    "#sort elements in ascending column1 and descending column2\n",
    "sorted(r,key=lambda x:(x[0],-x[1]))\n",
    "\n",
    "#create empty list\n",
    "s=[None]*3\n",
    "print s\n",
    "\n",
    "#re.findall(pattern,string,flag=0)\n",
    "#re.sub(pattern,string/function, string,count=0,flag=0)\n",
    "\n",
    "#extend sets\n",
    "x.add(5)\n",
    "print \"extending sets: \", x\n",
    "\n",
    "#List comprehension: creating list based on existing lists. \n",
    "T = [y**2 for y in range(10)]\n",
    "print T\n",
    "\n",
    "#remove all None from list:  \n",
    "L=[12,None,132,None,11]\n",
    "L=[x for x in L if x is not None]\n",
    "\n",
    "#splitting lists into buckets or chunks of equal size.\n",
    "l = range(1, 10)\n",
    "print [l[i:i+2] for i in xrange(0, len(l), 2)]\n",
    "\n",
    "#splitting the string into two equal halves.\n",
    "a = ['sder']\n",
    "a[0][:len(a[0])/2], a[0][len(a[0])/2:]\n",
    "\n",
    "#cprofiling\n",
    "#python -m cProfile my_script.py\n",
    "\n",
    "#flatten a list\n",
    "a_list = [[1, 2], [3, 4], [5, 6]]\n",
    "print(list(itertools.chain(*a_list)))\n",
    "\n",
    "#zipping and unzipping\n",
    "x1=[1,2,3]\n",
    "y1=[4,5,6]\n",
    "z1= zip(x1,y1) #zipping them together\n",
    "w1=zip(*z1) #unzipping to previous form\n",
    "print \"zipping: \", z1 ,\"unzipping: \", w1\n",
    "\n",
    "z=lambda x,y:x**2+y**2\n",
    "print \"polynomial:\", map(z,[1,2,3],[4,5,6])\n",
    "\n"
   ]
  },
  {
   "cell_type": "code",
   "execution_count": 252,
   "metadata": {},
   "outputs": [
    {
     "name": "stdout",
     "output_type": "stream",
     "text": [
      "3\n",
      "5\n",
      "8\n",
      "13\n",
      "addition_func was called\n"
     ]
    }
   ],
   "source": [
    "#Iterator, Generator and Decorator.\n",
    "\n",
    "class Fibonacci:\n",
    "    def __init__(self,n):\n",
    "        self.n1=1\n",
    "        self.n2=2\n",
    "        self.n=n\n",
    "        \n",
    "    def __iter__(self):\n",
    "        return self\n",
    "    \n",
    "    def next(self):\n",
    "        if self.n2 > self.n :\n",
    "            raise StopIteration\n",
    "        else:\n",
    "            self.n1,self.n2=self.n2,self.n1+self.n2\n",
    "            return self.n2\n",
    "        \n",
    "for i in Fibonacci(10):\n",
    "    print i\n",
    "        \n",
    "        \n",
    "#Decorator: uses: authentication and logging.\n",
    "from functools import wraps\n",
    "\n",
    "def logit(func):\n",
    "    @wraps(func)\n",
    "    def with_logging(*args, **kwargs):\n",
    "        print(func.__name__ + \" was called\")\n",
    "        return func(*args, **kwargs)\n",
    "    return with_logging\n",
    "\n",
    "@logit\n",
    "def addition_func(x):\n",
    "   \"\"\"Do some math.\"\"\"\n",
    "   return x + x\n",
    "\n",
    "\n",
    "result = addition_func(4)\n",
    "# Output: addition_func was called"
   ]
  },
  {
   "cell_type": "code",
   "execution_count": 212,
   "metadata": {},
   "outputs": [
    {
     "name": "stdout",
     "output_type": "stream",
     "text": [
      "4 4\n",
      "Mustang Ford\n"
     ]
    }
   ],
   "source": [
    "#OOPS\n",
    "class Car(object):\n",
    "    wheels = 4\n",
    "    def __init__(self, make, model):\n",
    "        self.make = make\n",
    "        self.model = model\n",
    "\n",
    "m = Car('Ford','Mustang')  #arguments as many as in init method construction.\n",
    "print m.wheels,Car.wheels\n",
    "print m.model,m.make"
   ]
  },
  {
   "cell_type": "code",
   "execution_count": 574,
   "metadata": {},
   "outputs": [
    {
     "data": {
      "text/plain": [
       "True"
      ]
     },
     "execution_count": 574,
     "metadata": {},
     "output_type": "execute_result"
    }
   ],
   "source": [
    "#prime or not\n",
    "def is_prime(x):\n",
    "    if x > 1:\n",
    "        n = x / 2\n",
    "        for i in range(2, n + 1):\n",
    "            if x % i == 0:\n",
    "                return False\n",
    "        return True\n",
    "    else:\n",
    "        return False\n",
    "is_prime(7)"
   ]
  },
  {
   "cell_type": "code",
   "execution_count": 515,
   "metadata": {},
   "outputs": [
    {
     "data": {
      "text/plain": [
       "4"
      ]
     },
     "execution_count": 515,
     "metadata": {},
     "output_type": "execute_result"
    }
   ],
   "source": [
    "#count primes\n",
    "def countPrimes(n):\n",
    "    count =0\n",
    "    for i in range(2,n):\n",
    "        if is_prime(i):\n",
    "            count+=1\n",
    "    return count\n",
    "    \n",
    "def is_prime(x):\n",
    "    if x > 1:\n",
    "        n = x / 2\n",
    "        for i in range(2, n + 1):\n",
    "            if x % i == 0:\n",
    "                return False\n",
    "        return True\n",
    "    else:\n",
    "        return False        \n",
    "\n",
    "countPrimes(10)"
   ]
  },
  {
   "cell_type": "code",
   "execution_count": 582,
   "metadata": {},
   "outputs": [
    {
     "name": "stdout",
     "output_type": "stream",
     "text": [
      "1\n",
      "2\n",
      "3\n",
      "5\n"
     ]
    }
   ],
   "source": [
    "#fibonacci series\n",
    "def fib(n):\n",
    " a,b = 1,1\n",
    " for i in range(n-1):\n",
    "  a,b = b,a+b\n",
    "  print a\n",
    "\n",
    "fib(5)"
   ]
  },
  {
   "cell_type": "markdown",
   "metadata": {},
   "source": [
    "#STRING MANIPULATION"
   ]
  },
  {
   "cell_type": "code",
   "execution_count": 588,
   "metadata": {},
   "outputs": [
    {
     "name": "stdout",
     "output_type": "stream",
     "text": [
      "3\n",
      "1 4 5\n",
      "2 6 7\n",
      "3 8 9\n",
      "2\n"
     ]
    }
   ],
   "source": [
    "#Diagonal Difference.\n",
    "import sys\n",
    "\n",
    "n = int(raw_input().strip())\n",
    "a = []\n",
    "for a_i in xrange(n):\n",
    "   a_temp = map(int,raw_input().strip().split(' '))\n",
    "   a.append(a_temp)\n",
    "\n",
    "d1 = 0\n",
    "d2 = 0\n",
    "l = len(a[0])\n",
    "for i in xrange(0,len(a)):\n",
    "    d1 += a[i][i]\n",
    "for i in range(l-1,-1,-1):\n",
    "    d2 += a[l-1-i][i]\n",
    "print abs(d1-d2)    "
   ]
  },
  {
   "cell_type": "code",
   "execution_count": null,
   "metadata": {},
   "outputs": [],
   "source": [
    "#unique word abbreviation\n",
    "\n",
    "import collections\n",
    "class ValidWordAbbr(object): \n",
    "    def __init__(self, dictionary):\n",
    "        self.dic = collections.defaultdict(set)\n",
    "        for s in dictionary:\n",
    "            val = s\n",
    "            if len(s) > 2:\n",
    "                s = s[0]+str(len(s)-2)+s[-1]\n",
    "            self.dic[s].add(val)\n",
    "\n",
    "    def isUnique(self, word):\n",
    "        val = word \n",
    "        if len(word) > 2:\n",
    "            word = word[0]+str(len(word)-2)+word[-1]\n",
    "        print self.dic\n",
    "        return len(self.dic[word]) == 0 or (len(self.dic[word]) == 1 and val == list(self.dic[word])[0])\n",
    "    \n",
    "    \n",
    "\n",
    "dictionary = [\"hello\"]\n",
    "vwa = ValidWordAbbr(dictionary)\n",
    "vwa.isUnique(\"hello\")"
   ]
  },
  {
   "cell_type": "code",
   "execution_count": 590,
   "metadata": {},
   "outputs": [
    {
     "name": "stdout",
     "output_type": "stream",
     "text": [
      "  #\n",
      " ##\n",
      "###\n"
     ]
    }
   ],
   "source": [
    "#Staircase problem\n",
    "import sys\n",
    "def staircase(n):\n",
    "    for i in range(1,n+1):\n",
    "        print ((n-i)* ' ')+(i*'#')     \n",
    "staircase(3)"
   ]
  },
  {
   "cell_type": "code",
   "execution_count": 240,
   "metadata": {},
   "outputs": [
    {
     "name": "stdout",
     "output_type": "stream",
     "text": [
      "1 1\n",
      "22 121\n",
      "333 12321\n",
      "4444 1234321\n",
      "55555 123454321\n"
     ]
    }
   ],
   "source": [
    "#Triangle problem \n",
    "def traingle(n):\n",
    "    for i in range(1,n+1): \n",
    "        print (10**i - 1)/(10-1) * i , ((10**i - 1)/(10-1))**2 #multiple of 11*i\n",
    "traingle(5)"
   ]
  },
  {
   "cell_type": "code",
   "execution_count": 243,
   "metadata": {},
   "outputs": [
    {
     "name": "stdout",
     "output_type": "stream",
     "text": [
      "[[1]] [1, 0, 0, 1]\n",
      "[[1], [1, 1]] [1, 1, 0, 0, 1, 1]\n",
      "[[1], [1, 1], [1, 2, 1]] [1, 2, 1, 0, 0, 1, 2, 1]\n",
      "[[1], [1, 1], [1, 2, 1], [1, 3, 3, 1]] [1, 3, 3, 1, 0, 0, 1, 3, 3, 1]\n",
      "[[1], [1, 1], [1, 2, 1], [1, 3, 3, 1], [1, 4, 6, 4, 1]] [1, 4, 6, 4, 1, 0, 0, 1, 4, 6, 4, 1]\n"
     ]
    },
    {
     "data": {
      "text/plain": [
       "[[1], [1, 1], [1, 2, 1], [1, 3, 3, 1], [1, 4, 6, 4, 1], [1, 5, 10, 10, 5, 1]]"
      ]
     },
     "execution_count": 243,
     "metadata": {},
     "output_type": "execute_result"
    }
   ],
   "source": [
    "#pascals traingle\n",
    "from operator import add\n",
    "def pascals(numRows):\n",
    "    answer = [[1]]\n",
    "    for i in range(1, numRows):\n",
    "        new = map(add, (answer[i-1] + [0]), ([0] + answer[i-1]))\n",
    "        print answer,(add(answer[i-1] + [0], [0] + answer[i-1]))\n",
    "        answer.append(new)\n",
    "    return answer\n",
    "        \n",
    "pascals(6)        "
   ]
  },
  {
   "cell_type": "code",
   "execution_count": 598,
   "metadata": {},
   "outputs": [
    {
     "name": "stdout",
     "output_type": "stream",
     "text": [
      "pangram\n"
     ]
    }
   ],
   "source": [
    "#Pangram or not- have all alphabets from a-z\n",
    "import sys\n",
    "\n",
    "s = \"We promptly judged antique ivory buckles for the next prize\" \n",
    "\n",
    "alphabet = \"abcdefghijklmnopqrstuvwxyz\"\n",
    "result = not (set(alphabet) - set(s.lower()))\n",
    "if result is True:\n",
    "    print 'pangram'\n",
    "else:\n",
    "    print 'not pangram'"
   ]
  },
  {
   "cell_type": "code",
   "execution_count": 61,
   "metadata": {},
   "outputs": [
    {
     "name": "stdout",
     "output_type": "stream",
     "text": [
      "anaconda\n",
      "faf\n",
      "9\n"
     ]
    }
   ],
   "source": [
    "#Delete letters in two words to make anagram\n",
    "\n",
    "a = raw_input().strip()\n",
    "b = raw_input().strip()\n",
    "\n",
    "deletions = 0;\n",
    "\n",
    "for letter in \"abcdefghijklmnopqrstuvwxyz\":\n",
    "    deletions += abs(a.count(letter) - b.count(letter));\n",
    "print(deletions);"
   ]
  },
  {
   "cell_type": "code",
   "execution_count": null,
   "metadata": {},
   "outputs": [],
   "source": [
    "import sys\n",
    "T = int(raw_input().strip())\n",
    "\n",
    "list = []\n",
    "deletions = 0\n",
    "for i in sys.stdin:\n",
    "    list.append(i.rstrip())\n",
    "    \n",
    "for i in range(0,len(list)):\n",
    "    if len(list[i])%2 != 0:\n",
    "        print -1\n",
    "    else:\n",
    "        if set(list[i][:len(list[i])/2])== set(list[i][len(list[i])/2:]): # This splits the string into exactly 2 halves.\n",
    "            print 0\n",
    "        else:\n",
    "            deletions += abs( list[i][:len(list[i])/2] - list[i][len(list[i])/2:])\n",
    "            print(deletions)\n",
    "                \n",
    "        "
   ]
  },
  {
   "cell_type": "code",
   "execution_count": 11,
   "metadata": {},
   "outputs": [],
   "source": [
    "#Funny and not funny\n",
    "\n",
    "import sys\n",
    "list=[]\n",
    "for i in sys.stdin:\n",
    "    list.append(i.rstrip())\n",
    "\n",
    "for s in list:    \n",
    "    for i in range(1,len(s)):\n",
    "        if abs(ord(s[i]) - ord(s[i-1])) == abs(ord(s[::-1][i]) - ord(s[::-1][i-1])):\n",
    "            b = True\n",
    "        else:\n",
    "            b = False\n",
    "            break\n",
    "    if b is True:\n",
    "        print \"Funny\"\n",
    "    else:\n",
    "        print \"Not Funny\"\n",
    "          "
   ]
  },
  {
   "cell_type": "code",
   "execution_count": 2,
   "metadata": {},
   "outputs": [
    {
     "name": "stdout",
     "output_type": "stream",
     "text": [
      "2\n"
     ]
    }
   ],
   "source": [
    "import sys\n",
    "T = int(raw_input().strip())\n",
    "list = []\n",
    "\n",
    "for i in sys.stdin:\n",
    "    list.append(i.rstrip())\n",
    "    \n",
    "    \n",
    "for s in list:\n",
    "    deletions = 0\n",
    "    for i in range(0,len(s)-1):\n",
    "        if s[i]==s[i+1]:\n",
    "            deletions +=1\n",
    "        i +=1\n",
    "    print deletions"
   ]
  },
  {
   "cell_type": "code",
   "execution_count": 4,
   "metadata": {},
   "outputs": [
    {
     "name": "stdout",
     "output_type": "stream",
     "text": [
      "3\n",
      "abcdef\n",
      "absol\n",
      "abwe\n",
      "2\n"
     ]
    }
   ],
   "source": [
    "#gem elements:\n",
    "def count_gem_elements(rocks):\n",
    "    element_sets = [set(rock) for rock in rocks]\n",
    "    gem_elements = set.intersection(*element_sets)\n",
    "    return len(gem_elements)\n",
    "\n",
    "\n",
    "if __name__ == '__main__':\n",
    "    rock_count = int(raw_input().strip())\n",
    "    rocks = (raw_input() for _ in range(rock_count))\n",
    "    print(count_gem_elements(rocks))\n",
    "         "
   ]
  },
  {
   "cell_type": "code",
   "execution_count": 605,
   "metadata": {},
   "outputs": [
    {
     "name": "stdout",
     "output_type": "stream",
     "text": [
      "[('a', 'd'), ('b', 'c'), ('c', 'b'), ('d', 'a')]\n",
      "a d\n",
      "b c\n"
     ]
    }
   ],
   "source": [
    "#Determines operations needed to convert word -> palindrome\n",
    "from itertools import islice\n",
    "\n",
    "def count_operations(word):\n",
    "   \n",
    "    difference = lambda x, y: abs(ord(x) - ord(y))\n",
    "    median = len(word) // 2\n",
    "    pairs = zip(word, reversed(word))\n",
    "    print pairs\n",
    "    for x, y in islice(pairs, median):\n",
    "        print x,y\n",
    "\n",
    "count_operations('abcd')    "
   ]
  },
  {
   "cell_type": "code",
   "execution_count": 4,
   "metadata": {},
   "outputs": [
    {
     "name": "stdout",
     "output_type": "stream",
     "text": [
      "1\n",
      "adbad\n",
      "-1\n"
     ]
    }
   ],
   "source": [
    "#Anagram\n",
    "\n",
    "n = input()\n",
    "for _ in xrange(n):\n",
    "    s = raw_input()\n",
    "    if len(s)%2:\n",
    "        print -1\n",
    "        continue\n",
    "    res = 0\n",
    "    for i in xrange(ord('a'), ord('z')+1):\n",
    "        res += min(s[:len(s)/2].count(chr(i)), s[len(s)/2:].count(chr(i)))\n",
    "        print '*',s[:len(s)/2].count(chr(i))\n",
    "    print len(s)/2-res"
   ]
  },
  {
   "cell_type": "code",
   "execution_count": 84,
   "metadata": {},
   "outputs": [
    {
     "name": "stdout",
     "output_type": "stream",
     "text": [
      "[[0, 1], [1, 0], [2, 4], [3, 2]]\n"
     ]
    }
   ],
   "source": [
    "#palindrome pairs\n",
    "words = [\"abcd\", \"dcba\", \"lls\", \"s\", \"sssll\"]\n",
    "def palindromePairs(words):\n",
    "    ans=[]\n",
    "    for i in range(len(words)):\n",
    "        for j in range(len(words)):\n",
    "            if i!=j:\n",
    "                t1 = words[i]+words[j]\n",
    "                if t1==t1[::-1]:\n",
    "                    ans.append([i,j])\n",
    "                \n",
    "    print ans\n",
    "                \n",
    "    \n",
    "palindromePairs(words)"
   ]
  },
  {
   "cell_type": "code",
   "execution_count": null,
   "metadata": {},
   "outputs": [],
   "source": [
    "# Python program for implementation of atoi\n",
    " \n",
    "def myAtoi(string):\n",
    "    res = 0\n",
    "    for i in xrange(len(string)):\n",
    "        print res\n",
    "        res = res*10 + (ord(string[i]) - ord('0'))\n",
    "    return res\n",
    " \n",
    "\n",
    "string = \"89789\"\n",
    "print myAtoi(string)"
   ]
  },
  {
   "cell_type": "markdown",
   "metadata": {},
   "source": [
    "## REGEX > APPLICATIONS"
   ]
  },
  {
   "cell_type": "code",
   "execution_count": null,
   "metadata": {},
   "outputs": [],
   "source": [
    "# Building a Smart IDE: Identifying comments\n",
    "import re\n",
    "import sys\n",
    "fulltext = sys.stdin.read()\n",
    "\n",
    "\n",
    "pattern = '(//.*|/\\*[\\d\\D]*?\\*/)'\n",
    "match = re.findall(pattern, fulltext)\n",
    "for i in match:\n",
    "    j = i.split(\"\\n\")\n",
    "    for k in j:\n",
    "        print k.lstrip()"
   ]
  },
  {
   "cell_type": "code",
   "execution_count": null,
   "metadata": {},
   "outputs": [],
   "source": [
    "#utopian tree\n",
    "\n",
    "n = int(raw_input())\n",
    "for _ in range(n):\n",
    "    cycles = int(raw_input())\n",
    "    k = cycles / 2\n",
    "    m = 1 if cycles % 2 == 0 else 2\n",
    "    print 2**(k+m) - m"
   ]
  },
  {
   "cell_type": "code",
   "execution_count": 52,
   "metadata": {},
   "outputs": [
    {
     "name": "stdout",
     "output_type": "stream",
     "text": [
      "Counter({'s': 2, 'd': 1}) Counter({'e': 2, 'f': 1})\n",
      "2 2 0\n",
      "1 1 0\n",
      "3\n"
     ]
    }
   ],
   "source": [
    "#anagrams\n",
    "from collections import Counter\n",
    "s= 'dsseef'\n",
    "count = 0\n",
    "l = len(s)\n",
    "s1, s2 = Counter(s[:l//2]), Counter(s[l//2:])\n",
    "print s1,s2\n",
    "for char in s2:\n",
    "    current = s2[char] - s1.get(char,0)\n",
    "    print current, s2[char], s1.get(char,0)\n",
    "    if current > 0:\n",
    "        count += current\n",
    "print(count)"
   ]
  },
  {
   "cell_type": "code",
   "execution_count": 657,
   "metadata": {},
   "outputs": [
    {
     "data": {
      "text/plain": [
       "'duoieas'"
      ]
     },
     "execution_count": 657,
     "metadata": {},
     "output_type": "execute_result"
    }
   ],
   "source": [
    "#reverse vowels\n",
    "import re\n",
    "def reverseVowels(s):\n",
    "    vowels = re.findall(r'[aeiou]', s)\n",
    "    con = re.findall(r'[^aeiou]', s)\n",
    "    fn = lambda m: vowels.pop()\n",
    "    return re.sub(r'[aeiou]', fn, s)\n",
    "    \n",
    "reverseVowels('daeious')              "
   ]
  },
  {
   "cell_type": "code",
   "execution_count": 72,
   "metadata": {},
   "outputs": [
    {
     "ename": "KeyboardInterrupt",
     "evalue": "",
     "output_type": "error",
     "traceback": [
      "\u001b[0;31m---------------------------------------------------------------------------\u001b[0m\n\u001b[0;31mKeyboardInterrupt\u001b[0m                         Traceback (most recent call last)",
      "\u001b[0;32m<ipython-input-72-712983ffdcf6>\u001b[0m in \u001b[0;36m<module>\u001b[0;34m()\u001b[0m\n\u001b[1;32m      3\u001b[0m \u001b[0;32mimport\u001b[0m \u001b[0msys\u001b[0m\u001b[0;34m\u001b[0m\u001b[0m\n\u001b[1;32m      4\u001b[0m \u001b[0;34m\u001b[0m\u001b[0m\n\u001b[0;32m----> 5\u001b[0;31m \u001b[0mt\u001b[0m \u001b[0;34m=\u001b[0m \u001b[0mint\u001b[0m\u001b[0;34m(\u001b[0m\u001b[0mraw_input\u001b[0m\u001b[0;34m(\u001b[0m\u001b[0;34m)\u001b[0m\u001b[0;34m.\u001b[0m\u001b[0mstrip\u001b[0m\u001b[0;34m(\u001b[0m\u001b[0;34m)\u001b[0m\u001b[0;34m)\u001b[0m\u001b[0;34m\u001b[0m\u001b[0m\n\u001b[0m\u001b[1;32m      6\u001b[0m \u001b[0;32mfor\u001b[0m \u001b[0ma0\u001b[0m \u001b[0;32min\u001b[0m \u001b[0mxrange\u001b[0m\u001b[0;34m(\u001b[0m\u001b[0mt\u001b[0m\u001b[0;34m)\u001b[0m\u001b[0;34m:\u001b[0m\u001b[0;34m\u001b[0m\u001b[0m\n\u001b[1;32m      7\u001b[0m     \u001b[0mn\u001b[0m \u001b[0;34m=\u001b[0m \u001b[0mint\u001b[0m\u001b[0;34m(\u001b[0m\u001b[0mraw_input\u001b[0m\u001b[0;34m(\u001b[0m\u001b[0;34m)\u001b[0m\u001b[0;34m.\u001b[0m\u001b[0mstrip\u001b[0m\u001b[0;34m(\u001b[0m\u001b[0;34m)\u001b[0m\u001b[0;34m)\u001b[0m\u001b[0;34m\u001b[0m\u001b[0m\n",
      "\u001b[0;32m/Library/Python/2.7/site-packages/IPython/kernel/zmq/ipkernel.pyc\u001b[0m in \u001b[0;36m<lambda>\u001b[0;34m(prompt)\u001b[0m\n\u001b[1;32m    361\u001b[0m         \u001b[0;31m# raw_input in the user namespace.\u001b[0m\u001b[0;34m\u001b[0m\u001b[0;34m\u001b[0m\u001b[0m\n\u001b[1;32m    362\u001b[0m         \u001b[0;32mif\u001b[0m \u001b[0mcontent\u001b[0m\u001b[0;34m.\u001b[0m\u001b[0mget\u001b[0m\u001b[0;34m(\u001b[0m\u001b[0;34m'allow_stdin'\u001b[0m\u001b[0;34m,\u001b[0m \u001b[0mFalse\u001b[0m\u001b[0;34m)\u001b[0m\u001b[0;34m:\u001b[0m\u001b[0;34m\u001b[0m\u001b[0m\n\u001b[0;32m--> 363\u001b[0;31m             \u001b[0mraw_input\u001b[0m \u001b[0;34m=\u001b[0m \u001b[0;32mlambda\u001b[0m \u001b[0mprompt\u001b[0m\u001b[0;34m=\u001b[0m\u001b[0;34m''\u001b[0m\u001b[0;34m:\u001b[0m \u001b[0mself\u001b[0m\u001b[0;34m.\u001b[0m\u001b[0m_raw_input\u001b[0m\u001b[0;34m(\u001b[0m\u001b[0mprompt\u001b[0m\u001b[0;34m,\u001b[0m \u001b[0mident\u001b[0m\u001b[0;34m,\u001b[0m \u001b[0mparent\u001b[0m\u001b[0;34m)\u001b[0m\u001b[0;34m\u001b[0m\u001b[0m\n\u001b[0m\u001b[1;32m    364\u001b[0m             \u001b[0minput\u001b[0m \u001b[0;34m=\u001b[0m \u001b[0;32mlambda\u001b[0m \u001b[0mprompt\u001b[0m\u001b[0;34m=\u001b[0m\u001b[0;34m''\u001b[0m\u001b[0;34m:\u001b[0m \u001b[0meval\u001b[0m\u001b[0;34m(\u001b[0m\u001b[0mraw_input\u001b[0m\u001b[0;34m(\u001b[0m\u001b[0mprompt\u001b[0m\u001b[0;34m)\u001b[0m\u001b[0;34m)\u001b[0m\u001b[0;34m\u001b[0m\u001b[0m\n\u001b[1;32m    365\u001b[0m         \u001b[0;32melse\u001b[0m\u001b[0;34m:\u001b[0m\u001b[0;34m\u001b[0m\u001b[0m\n",
      "\u001b[0;32m/Library/Python/2.7/site-packages/IPython/kernel/zmq/ipkernel.pyc\u001b[0m in \u001b[0;36m_raw_input\u001b[0;34m(self, prompt, ident, parent)\u001b[0m\n\u001b[1;32m    763\u001b[0m             \u001b[0;32mexcept\u001b[0m \u001b[0mKeyboardInterrupt\u001b[0m\u001b[0;34m:\u001b[0m\u001b[0;34m\u001b[0m\u001b[0m\n\u001b[1;32m    764\u001b[0m                 \u001b[0;31m# re-raise KeyboardInterrupt, to truncate traceback\u001b[0m\u001b[0;34m\u001b[0m\u001b[0;34m\u001b[0m\u001b[0m\n\u001b[0;32m--> 765\u001b[0;31m                 \u001b[0;32mraise\u001b[0m \u001b[0mKeyboardInterrupt\u001b[0m\u001b[0;34m\u001b[0m\u001b[0m\n\u001b[0m\u001b[1;32m    766\u001b[0m             \u001b[0;32melse\u001b[0m\u001b[0;34m:\u001b[0m\u001b[0;34m\u001b[0m\u001b[0m\n\u001b[1;32m    767\u001b[0m                 \u001b[0;32mbreak\u001b[0m\u001b[0;34m\u001b[0m\u001b[0m\n",
      "\u001b[0;31mKeyboardInterrupt\u001b[0m: "
     ]
    }
   ],
   "source": [
    "#Find Digits.\n",
    "\n",
    "import sys\n",
    "\n",
    "t = int(raw_input().strip())\n",
    "for a0 in xrange(t):\n",
    "    n = int(raw_input().strip())\n",
    "    count = 0\n",
    "    for i in range(0,len(str(n))):\n",
    "        if str(n)[i] == '0':\n",
    "            continue\n",
    "        elif n % (int(str(n)[i])) == 0:\n",
    "            count +=1\n",
    "    print count\n",
    "                "
   ]
  },
  {
   "cell_type": "code",
   "execution_count": 659,
   "metadata": {},
   "outputs": [
    {
     "data": {
      "text/plain": [
       "'ginortS1324'"
      ]
     },
     "execution_count": 659,
     "metadata": {},
     "output_type": "execute_result"
    }
   ],
   "source": [
    "st = 'Sorting1234'\n",
    "def iseven(x):\n",
    "  if x.isdigit():\n",
    "    return int(x)+9 if int(x)%2==0 else int(x)\n",
    "res=sorted(st, key=lambda x: (x.isdigit(), x.isupper(),iseven(x),ord(x) ))\n",
    "\n",
    "#print ''.join(res)\n",
    "aString=reduce(lambda x,y:x+y,res)  #using reduce instead of join.\n",
    "aString\n",
    "\n",
    "#sorted(list, key=lambda x: (function1(x), function2(x), function3(x))"
   ]
  },
  {
   "cell_type": "code",
   "execution_count": 110,
   "metadata": {},
   "outputs": [
    {
     "name": "stdout",
     "output_type": "stream",
     "text": [
      "cdaad\n",
      "daad\n",
      "aad\n",
      "ad\n",
      "d\n",
      "\n",
      "d\n",
      "\n",
      "\n"
     ]
    },
    {
     "data": {
      "text/plain": [
       "[['c', 'd', 'a', 'a', 'd'], ['c', 'd', 'aa', 'd'], ['c', 'daad']]"
      ]
     },
     "execution_count": 110,
     "metadata": {},
     "output_type": "execute_result"
    }
   ],
   "source": [
    "#131. Palindrome Partitioning: \n",
    "#Given a string s, partition s such that every substring of the partition is a palindrome.\n",
    "#Return all possible palindrome partitioning of s.\n",
    "\n",
    "def partition(s):\n",
    "    res = []\n",
    "    dfs(s, [], res)\n",
    "    return res\n",
    "    \n",
    "def dfs(s, path, res):\n",
    "    print s\n",
    "    if not s: # backtracking\n",
    "        res.append(path)\n",
    "    for i in xrange(1, len(s)+1):\n",
    "        if isPar(s[:i]):\n",
    "            dfs(s[i:], path+[s[:i]], res)\n",
    "            \n",
    "def isPar(s):\n",
    "    return s == s[::-1]\n",
    "\n",
    "partition(\"cdaad\")"
   ]
  },
  {
   "cell_type": "code",
   "execution_count": 132,
   "metadata": {},
   "outputs": [
    {
     "name": "stdout",
     "output_type": "stream",
     "text": [
      "1 1\n",
      "2 1\n",
      "vv\n",
      "3 2\n",
      "avva\n",
      "4 4\n",
      "5 4\n",
      "6 4\n",
      "7 4\n",
      "8 4\n"
     ]
    },
    {
     "data": {
      "text/plain": [
       "'avva'"
      ]
     },
     "execution_count": 132,
     "metadata": {},
     "output_type": "execute_result"
    }
   ],
   "source": [
    "#longest palindromic substring\n",
    "def longestPalindrome(s):\n",
    "    if len(s)==0:\n",
    "        return 0\n",
    "    maxLen=1\n",
    "    start=0\n",
    "    for i in xrange(1,len(s)):\n",
    "        print i,maxLen\n",
    "        if i-maxLen >=1 and s[i-maxLen-1:i+1]==s[i-maxLen-1:i+1][::-1]:\n",
    "            print  s[i-maxLen-1:i+1]\n",
    "            start=i-maxLen-1\n",
    "            maxLen+=2\n",
    "            continue\n",
    "        if i-maxLen >=0 and s[i-maxLen:i+1]==s[i-maxLen:i+1][::-1]:\n",
    "            print  s[i-maxLen:i+1]\n",
    "            start=i-maxLen\n",
    "            maxLen+=1\n",
    "    return s[start:start+maxLen]\n",
    "\n",
    "longestPalindrome(\"avvababcc\") #if two or more same length palindromes, returns first occurrence."
   ]
  },
  {
   "cell_type": "code",
   "execution_count": 6,
   "metadata": {},
   "outputs": [
    {
     "name": "stdout",
     "output_type": "stream",
     "text": [
      "<unbound method Deck.shuffle>\n"
     ]
    }
   ],
   "source": [
    "#Implement playing Card game\n",
    "class Card(object):\n",
    "    suits = (\"Clubs\",\"Hearts\",\"Spades\",\"Diamonds\")\n",
    "    pips = (\"2\",\"3\",\"4\",\"5\",\"6\",\"7\",\"8\",\"9\",\"10\",\"Jack\",\"Queen\",\"King\",\"Ace\")\n",
    "\n",
    "    def __init__(self, pip,suit):\n",
    "        self.pip=pip\n",
    "        self.suit=suit\n",
    "\n",
    "    def __str__(self):\n",
    "        return \"%s %s\"%(self.pip,self.suit)\n",
    "\n",
    "class Deck(object):\n",
    "    def __init__(self):\n",
    "        self.deck = [Card(pip,suit) for suit in Card.suits for pip in Card.pips]\n",
    "\n",
    "    def __str__(self):\n",
    "        return \"[%s]\"%\", \".join( (str(card) for card in self.deck))\n",
    "\n",
    "    def shuffle(self):\n",
    "        random.shuffle(self.deck)\n",
    "\n",
    "    def deal(self):\n",
    "        self.shuffle() \n",
    "        return self.deck.pop(0)\n",
    "\n"
   ]
  },
  {
   "cell_type": "markdown",
   "metadata": {},
   "source": [
    "#BASIC DATA STRUCTURE IMPLEMENTATIONS."
   ]
  },
  {
   "cell_type": "code",
   "execution_count": 59,
   "metadata": {},
   "outputs": [
    {
     "name": "stdout",
     "output_type": "stream",
     "text": [
      "Counter({'i': 2, 'd': 1, 'h': 1, 'n': 1, 'S': 1, 'r': 1, 'u': 1})\n",
      "Counter({'Name': 'Sindhuri', 'Place': 'Milpitas', 'Age': '23'})\n"
     ]
    }
   ],
   "source": [
    "from collections import Counter\n",
    "d = {'Name':'Sindhuri', 'Age':'23','Place':'Milpitas'}\n",
    "print Counter(d['Name'])\n",
    "print Counter(d)"
   ]
  },
  {
   "cell_type": "code",
   "execution_count": null,
   "metadata": {},
   "outputs": [],
   "source": [
    "#LRU Cache - A regular dict does not track the insertion order, and iterating over it produces the values in an arbitrary order. \n",
    "#In an OrderedDict, by contrast, the order the items are inserted is remembered and used when creating an iterator.\n",
    "\n",
    "import collections\n",
    "\n",
    "class LRUCache:\n",
    "    def __init__(self, capacity):\n",
    "        self.capacity = capacity\n",
    "        self.lrucache = collections.OrderedDict()\n",
    "\n",
    "    def get(self, key):\n",
    "        try:\n",
    "            value = self.lrucache.pop(key)  #get it and then again set it back to its form coz order matters in LRU! \n",
    "            self.lrucache[key] = value\n",
    "            return value\n",
    "        except KeyError:\n",
    "            return -1\n",
    "\n",
    "    def set(self, key, value):\n",
    "        try:\n",
    "            self.lrucache.pop(key)\n",
    "        except KeyError:\n",
    "            if len(self.lrucache) >= self.capacity:\n",
    "                self.lrucache.popitem(last=False)  #since last is set to false:FIFO order.\n",
    "        self.lrucache[key] = value\n"
   ]
  },
  {
   "cell_type": "code",
   "execution_count": null,
   "metadata": {},
   "outputs": [],
   "source": [
    "#queue using stacks\n",
    "\n",
    "class Queue(object):\n",
    "    def __init__(self):\n",
    "        self.inp_list=[]\n",
    "        self.out_list=[]\n",
    "    def push(self,x):\n",
    "        self.inp_list.append(x)\n",
    "    def pop(self):\n",
    "        self.peek()\n",
    "        self.out_list.pop()\n",
    "    def peek(self):\n",
    "        if len(self.out_list)==0:\n",
    "            while len(self.inp_list)!=0:\n",
    "                self.out_list.append(self.inp_list.pop())\n",
    "        return self.out_list\n",
    "    def empty(self):\n",
    "        return len(self.inp_list)==0 and len(self.out_list)==0\n",
    "    \n",
    "que = Queue()\n",
    "que.push(10)\n",
    "que.push(20)\n",
    "print que.inp_list,que.out_list\n",
    "que.pop()\n",
    "print que.inp_list,que.out_list "
   ]
  },
  {
   "cell_type": "code",
   "execution_count": 69,
   "metadata": {},
   "outputs": [
    {
     "name": "stdout",
     "output_type": "stream",
     "text": [
      "3\n",
      "2\n"
     ]
    },
    {
     "ename": "ValueError",
     "evalue": "need more than 1 value to unpack",
     "output_type": "error",
     "traceback": [
      "\u001b[0;31m---------------------------------------------------------------------------\u001b[0m\n\u001b[0;31mValueError\u001b[0m                                Traceback (most recent call last)",
      "\u001b[0;32m<ipython-input-69-e896508fc3f2>\u001b[0m in \u001b[0;36m<module>\u001b[0;34m()\u001b[0m\n\u001b[1;32m      5\u001b[0m \u001b[0;34m\u001b[0m\u001b[0m\n\u001b[1;32m      6\u001b[0m \u001b[0;32mfor\u001b[0m \u001b[0m_\u001b[0m \u001b[0;32min\u001b[0m \u001b[0mrange\u001b[0m\u001b[0;34m(\u001b[0m\u001b[0mtest_cases\u001b[0m\u001b[0;34m)\u001b[0m\u001b[0;34m:\u001b[0m\u001b[0;34m\u001b[0m\u001b[0m\n\u001b[0;32m----> 7\u001b[0;31m     \u001b[0mn\u001b[0m\u001b[0;34m,\u001b[0m \u001b[0mk\u001b[0m \u001b[0;34m=\u001b[0m \u001b[0mmap\u001b[0m\u001b[0;34m(\u001b[0m\u001b[0mint\u001b[0m\u001b[0;34m,\u001b[0m \u001b[0mraw_input\u001b[0m\u001b[0;34m(\u001b[0m\u001b[0;34m)\u001b[0m\u001b[0;34m.\u001b[0m\u001b[0mstrip\u001b[0m\u001b[0;34m(\u001b[0m\u001b[0;34m)\u001b[0m\u001b[0;34m.\u001b[0m\u001b[0msplit\u001b[0m\u001b[0;34m(\u001b[0m\u001b[0;34m' '\u001b[0m\u001b[0;34m)\u001b[0m\u001b[0;34m)\u001b[0m\u001b[0;34m\u001b[0m\u001b[0m\n\u001b[0m\u001b[1;32m      8\u001b[0m     \u001b[0minput_list\u001b[0m \u001b[0;34m=\u001b[0m \u001b[0mmap\u001b[0m\u001b[0;34m(\u001b[0m\u001b[0mint\u001b[0m\u001b[0;34m,\u001b[0m \u001b[0mraw_input\u001b[0m\u001b[0;34m(\u001b[0m\u001b[0;34m)\u001b[0m\u001b[0;34m.\u001b[0m\u001b[0mstrip\u001b[0m\u001b[0;34m(\u001b[0m\u001b[0;34m)\u001b[0m\u001b[0;34m.\u001b[0m\u001b[0msplit\u001b[0m\u001b[0;34m(\u001b[0m\u001b[0;34m' '\u001b[0m\u001b[0;34m)\u001b[0m\u001b[0;34m)\u001b[0m\u001b[0;34m\u001b[0m\u001b[0m\n\u001b[1;32m      9\u001b[0m     \u001b[0mget_count\u001b[0m\u001b[0;34m(\u001b[0m\u001b[0minput_list\u001b[0m\u001b[0;34m,\u001b[0m\u001b[0mk\u001b[0m\u001b[0;34m)\u001b[0m\u001b[0;34m\u001b[0m\u001b[0m\n",
      "\u001b[0;31mValueError\u001b[0m: need more than 1 value to unpack"
     ]
    }
   ],
   "source": [
    "#Given a sequence of n positive integers we need to count consecutive sub-sequences whose sum is divisible by k.\n",
    "#https://www.hackerrank.com/contests/w6/challenges/consecutive-subsequences\n",
    "\n",
    "test_cases = input()\n",
    "\n",
    "for _ in range(test_cases):\n",
    "    n, k = map(int, raw_input().strip().split(' '))\n",
    "    input_list = map(int, raw_input().strip().split(' '))\n",
    "    get_count(input_list,k) \n",
    "\n",
    "def get_count(input_list,k):\n",
    "    pref_sum = 0\n",
    "    cnt_mod ={}\n",
    "    for k in cnt_mod:\n",
    "        cnt_mod[k] = 0\n",
    "    for element in input_list:\n",
    "        pref_sum += element\n",
    "        pref_sum %= k\n",
    "        cnt_mod[pref_sum] = int(cnt_mod.get(pref_sum,0))+1\n",
    "    res = 0\n",
    "    for mod in range(0,k):\n",
    "        temp = int(cnt_mod.get(mod,0))\n",
    "        res += (temp * (temp-1))/2\n",
    "    return res\n",
    "\n",
    "   "
   ]
  },
  {
   "cell_type": "code",
   "execution_count": 6,
   "metadata": {},
   "outputs": [
    {
     "name": "stdout",
     "output_type": "stream",
     "text": [
      "1\n",
      "4 2\n",
      "1 4 6 7\n",
      "{0: 0, 1: 0}\n",
      "4\n"
     ]
    }
   ],
   "source": [
    "test_cases = input()\n",
    "\n",
    "for _ in range(test_cases):\n",
    "    n, k = map(int, raw_input().strip().split(' '))\n",
    "    inp_list = map(int, raw_input().strip().split(' '))\n",
    "    \n",
    "    array = []\n",
    "    k_dict = {}\n",
    "    res = 0\n",
    "    \n",
    "    array.append(inp_list[0])\n",
    "\n",
    "    for i in range(1, n):\n",
    "        array.append(array[i - 1] + inp_list[i])\n",
    "    \n",
    "    for i in range(k):\n",
    "        k_dict[i] = 0\n",
    "    print k_dict\n",
    "\n",
    "    for i in array:\n",
    "        mod = i % k\n",
    "        if mod == 0:\n",
    "            res += 1\n",
    "        res += k_dict[mod]\n",
    "        k_dict[mod] += 1\n",
    "\n",
    "    print res\n"
   ]
  },
  {
   "cell_type": "code",
   "execution_count": 18,
   "metadata": {},
   "outputs": [],
   "source": [
    "# Building a Smart IDE: Identifying comments\n",
    "import re\n",
    "import sys\n",
    "fulltext = sys.stdin.read()\n",
    "\n",
    "\n",
    "pattern = '(//.*|/\\*[\\d\\D]*?\\*/)'\n",
    "match = re.findall(pattern, fulltext)\n",
    "for i in match:\n",
    "    j = i.split(\"\\n\")\n",
    "    for k in j:\n",
    "        print k.lstrip()"
   ]
  },
  {
   "cell_type": "code",
   "execution_count": 5,
   "metadata": {},
   "outputs": [
    {
     "data": {
      "text/plain": [
       "2"
      ]
     },
     "execution_count": 5,
     "metadata": {},
     "output_type": "execute_result"
    }
   ],
   "source": [
    "#Maximum difference between two elements of an array, such that larger is after smaller number\n",
    "\n",
    "ip = [2, 3, 10, 6, 4, 8, 1]\n",
    "\n",
    "def maxdiff(ip,n):\n",
    "    difference = ip[1]-ip[0]\n",
    "    current_sum = difference\n",
    "    maximum_sum = current_sum\n",
    "    \n",
    "    for i in range(1,n-1):\n",
    "        difference = ip[i+1]-ip[i]\n",
    "        if current_sum > 0:\n",
    "            current_sum += difference\n",
    "        else:\n",
    "            current_sum = difference\n",
    "        if current_sum > maximum_sum:\n",
    "            maximum_sum = current_sum\n",
    "    return  maximum_sum\n",
    "\n",
    "ip =  [ 7, 9, 5, 6, 3, 2 ]\n",
    "maxdiff(ip,6)"
   ]
  },
  {
   "cell_type": "markdown",
   "metadata": {},
   "source": [
    "#LEETCODE"
   ]
  },
  {
   "cell_type": "code",
   "execution_count": 532,
   "metadata": {},
   "outputs": [
    {
     "name": "stdout",
     "output_type": "stream",
     "text": [
      "10000\n",
      "16000\n",
      "16300\n",
      "16320\n",
      "16329\n"
     ]
    },
    {
     "data": {
      "text/plain": [
       "[1, 6, 3, 3, 0]"
      ]
     },
     "execution_count": 532,
     "metadata": {},
     "output_type": "execute_result"
    }
   ],
   "source": [
    "#plus one (one is added to last number in list and carry to last but one number)\n",
    "def plusOne(digits):\n",
    "    num = 0\n",
    "    for i in range(len(digits)):\n",
    "        num += digits[i] * 10**(len(digits)-1-i)\n",
    "        print num\n",
    "    return [int(i) for i in str(num+1)]   \n",
    "plusOne([1,6,3,2,9]) "
   ]
  },
  {
   "cell_type": "code",
   "execution_count": 544,
   "metadata": {},
   "outputs": [
    {
     "name": "stdout",
     "output_type": "stream",
     "text": [
      "[1, 6, 3, 3, 0]\n"
     ]
    }
   ],
   "source": [
    "#another way\n",
    "num = ''.join(str(x) for x in [1,6,3,2,9])\n",
    "print [int(i) for i in str(int(num)+1)]   \n"
   ]
  },
  {
   "cell_type": "code",
   "execution_count": 308,
   "metadata": {},
   "outputs": [
    {
     "name": "stdout",
     "output_type": "stream",
     "text": [
      "9\n",
      "3\n",
      "1\n"
     ]
    },
    {
     "data": {
      "text/plain": [
       "True"
      ]
     },
     "execution_count": 308,
     "metadata": {},
     "output_type": "execute_result"
    }
   ],
   "source": [
    "#power of 3\n",
    "def isPowerOfThree(n):\n",
    "    if(n>1):\n",
    "        while(n%3==0):\n",
    "            n /= 3\n",
    "            print n\n",
    "    return n==1\n",
    "\n",
    "isPowerOfThree(27)"
   ]
  },
  {
   "cell_type": "code",
   "execution_count": 71,
   "metadata": {},
   "outputs": [
    {
     "data": {
      "text/plain": [
       "True"
      ]
     },
     "execution_count": 71,
     "metadata": {},
     "output_type": "execute_result"
    }
   ],
   "source": [
    "#Strobogrammatic 180 rotation palindrome\n",
    "def isStrobogrammatic(num):\n",
    "    dic = {'1':'1','8':'8','6':'9','9':'6','0':'0'}\n",
    "    for i in range(len(num)):\n",
    "        if num[i] in dic and dic[num[i]] == num[::-1][i]:\n",
    "            continue\n",
    "        else:\n",
    "            return False\n",
    "    return True\n",
    "        \n",
    "isStrobogrammatic('080')"
   ]
  },
  {
   "cell_type": "code",
   "execution_count": 689,
   "metadata": {},
   "outputs": [
    {
     "name": "stdout",
     "output_type": "stream",
     "text": [
      "list ['0', '1', '8']\n"
     ]
    },
    {
     "data": {
      "text/plain": [
       "['101',\n",
       " '609',\n",
       " '808',\n",
       " '906',\n",
       " '111',\n",
       " '619',\n",
       " '818',\n",
       " '916',\n",
       " '181',\n",
       " '689',\n",
       " '888',\n",
       " '986']"
      ]
     },
     "execution_count": 689,
     "metadata": {},
     "output_type": "execute_result"
    }
   ],
   "source": [
    "#Strobogrammatic 180 rotation palindrome extension:\n",
    "def isStrobogrammatic(n):\n",
    "   return listofnums(n,n)\n",
    "    \n",
    "def listofnums(n,m):\n",
    "    res = []\n",
    "    list = []\n",
    "    if n == 0:\n",
    "        res = ['']\n",
    "        return res\n",
    "    if n == 1:\n",
    "        res = ['0','1','8']\n",
    "        return res\n",
    "    list = listofnums(n-2,m)\n",
    "    print \"list\",list\n",
    "    for i in range(len(list)):\n",
    "        s = list[i]\n",
    "        if (n != m): \n",
    "            res.append(\"0\" + s + \"0\");\n",
    "        res.append(\"1\" + s + \"1\");\n",
    "        res.append(\"6\" + s + \"9\");\n",
    "        res.append(\"8\" + s + \"8\");\n",
    "        res.append(\"9\" + s + \"6\");\n",
    "    return res\n",
    "    \n",
    "        \n",
    "isStrobogrammatic(3)"
   ]
  },
  {
   "cell_type": "code",
   "execution_count": 2,
   "metadata": {},
   "outputs": [
    {
     "name": "stdout",
     "output_type": "stream",
     "text": [
      "['the', 'sky', 'is', 'blue']\n",
      "['blue', 'is', 'sky', 'the']\n"
     ]
    },
    {
     "data": {
      "text/plain": [
       "'blue is sky the'"
      ]
     },
     "execution_count": 2,
     "metadata": {},
     "output_type": "execute_result"
    }
   ],
   "source": [
    " def reverseWords(s):\n",
    "    list = s.strip(\" \").split()\n",
    "    print list\n",
    "    print list[::-1]\n",
    "    return ' '.join(list[::-1])\n",
    "reverseWords(\"the sky is blue\")"
   ]
  },
  {
   "cell_type": "code",
   "execution_count": 691,
   "metadata": {},
   "outputs": [
    {
     "data": {
      "text/plain": [
       "True"
      ]
     },
     "execution_count": 691,
     "metadata": {},
     "output_type": "execute_result"
    }
   ],
   "source": [
    "def isReflected(points):\n",
    "    if not points: \n",
    "        return True\n",
    "    X = min(points)[0] + max(points)[0]\n",
    "    return {(x, y) for x, y in points} == {(X - x, y) for x, y in points}\n",
    "\n",
    "isReflected([[-1,1],[1,1]])\n"
   ]
  },
  {
   "cell_type": "code",
   "execution_count": 480,
   "metadata": {},
   "outputs": [
    {
     "name": "stdout",
     "output_type": "stream",
     "text": [
      "set([(-1, 1), (1, 1)])\n"
     ]
    }
   ],
   "source": [
    "points = [[-1,1],[1,1]]\n",
    "print {(x, y) for x, y in points}"
   ]
  },
  {
   "cell_type": "code",
   "execution_count": 64,
   "metadata": {},
   "outputs": [
    {
     "data": {
      "text/plain": [
       "1"
      ]
     },
     "execution_count": 64,
     "metadata": {},
     "output_type": "execute_result"
    }
   ],
   "source": [
    "#perfect squares\n",
    "\n",
    "def numSquares(n):\n",
    "    if n < 2:\n",
    "        return 1\n",
    "    lst = []\n",
    "    new=[]\n",
    "    i=1\n",
    "    while i*i <= n:\n",
    "        lst.append(i*i)\n",
    "        i = i+1\n",
    "\n",
    "    ans = [n]*len(lst)\n",
    "    c=0\n",
    "    while(1):\n",
    "        for i in range(len(lst)):\n",
    "            if lst[i] in ans:\n",
    "                c = c+1\n",
    "                return c\n",
    "        ans = sublist(ans,lst)\n",
    "        c = c+1\n",
    "                 \n",
    "            \n",
    "def sublist(target,lst):\n",
    "    new = set()\n",
    "    for a in target:\n",
    "        for b in lst:\n",
    "            if a-b not in new:\n",
    "                new.add(a-b)\n",
    "    return new\n",
    "\n",
    "    \n",
    "    \n",
    "numSquares(25)"
   ]
  },
  {
   "cell_type": "markdown",
   "metadata": {},
   "source": [
    "##GRID PROBLEMS"
   ]
  },
  {
   "cell_type": "code",
   "execution_count": 65,
   "metadata": {},
   "outputs": [
    {
     "data": {
      "text/plain": [
       "2"
      ]
     },
     "execution_count": 65,
     "metadata": {},
     "output_type": "execute_result"
    }
   ],
   "source": [
    "#islands\n",
    "\n",
    "grid = [['1','1','0'],['1','1','0'],['0','0','1']]\n",
    "\n",
    "def numIslands(grid):\n",
    "    sm = 0\n",
    "    for i in range(len(grid)):\n",
    "        for j in range(len(grid[i])):\n",
    "            sm = sm + delete(i, j)\n",
    "    return sm\n",
    "\n",
    "            \n",
    "\n",
    "def delete(i, j):\n",
    "    if 0 <= i < len(grid) and 0 <= j < len(grid[i]) and grid[i][j] == '1':\n",
    "        grid[i][j] = '0'\n",
    "        delete(i+1,j) \n",
    "        delete(i-1,j)\n",
    "        delete(i,j+1)\n",
    "        delete(i,j-1)\n",
    "        return 1\n",
    "    return 0\n",
    "    \n",
    "numIslands(grid)"
   ]
  },
  {
   "cell_type": "code",
   "execution_count": 402,
   "metadata": {},
   "outputs": [
    {
     "name": "stdout",
     "output_type": "stream",
     "text": [
      "wall at 1,0\n",
      "wall at 1,1\n",
      "visited 0,0\n",
      "wall at 3,2\n",
      "wall at 3,1\n",
      "visited 4,0\n",
      "wall at 5,1\n",
      "visited 3,0\n",
      "wall at 4,1\n",
      "visited 2,0\n",
      "wall at 3,1\n",
      "wall at 1,0\n",
      "visited 2,1\n",
      "wall at 1,1\n",
      "visited 2,2\n",
      "visited 1,2\n",
      "wall at 2,3\n",
      "wall at 1,1\n",
      "visited 0,2\n",
      "wall at 2,3\n",
      "visited 1,2\n",
      "visited 1,3\n",
      "visited 0,2\n",
      "wall at 4,4\n",
      "wall at 5,1\n",
      "visited 5,2\n",
      "wall at 4,1\n",
      "wall at 3,2\n",
      "visited 4,3\n",
      "visited 5,3\n",
      "visited 4,3\n",
      "visited 5,3\n",
      "wall at 4,4\n",
      "found\n"
     ]
    },
    {
     "data": {
      "text/plain": [
       "True"
      ]
     },
     "execution_count": 402,
     "metadata": {},
     "output_type": "execute_result"
    }
   ],
   "source": [
    "# yahoo Maze problem\n",
    "\n",
    "def search(x,y):\n",
    "    if grid[x][y]== 2:\n",
    "        print \"found\"\n",
    "        return True\n",
    "    if grid[x][y] == 1:\n",
    "        print 'wall at %d,%d' % (x, y)\n",
    "        return False\n",
    "    elif grid[x][y]==3:\n",
    "        print 'visited %d,%d' % (x, y)\n",
    "        return False\n",
    "    grid[x][y]=3\n",
    "            \n",
    "    if ((x < len(grid)-1 and search(x+1, y))\n",
    "        or (y > 0 and search(x, y-1))\n",
    "        or (x > 0 and search(x-1, y))\n",
    "        or (y < len(grid)-1 and search(x, y+1))):\n",
    "        return True\n",
    "\n",
    "    return False\n",
    "\n",
    "grid = [[0, 0, 0, 0, 0, 1],\n",
    "        [1, 1, 0, 0, 0, 1],\n",
    "        [0, 0, 0, 1, 0, 0],\n",
    "        [0, 1, 1, 0, 0, 1],\n",
    "        [0, 1, 0, 0, 1, 0],\n",
    "        [0, 1, 0, 0, 0, 2]]\n",
    "search(0,0)\n"
   ]
  },
  {
   "cell_type": "code",
   "execution_count": 136,
   "metadata": {},
   "outputs": [
    {
     "data": {
      "text/plain": [
       "True"
      ]
     },
     "execution_count": 136,
     "metadata": {},
     "output_type": "execute_result"
    }
   ],
   "source": [
    "#search in a 2D matrix:\n",
    "corner cases: m=0,n=0, only m , only n\n",
    "mat=[[1,1]]\n",
    "def search(mat,target):\n",
    "    m = len(mat)\n",
    "    if m==0 and len(mat[0])==0: \n",
    "        return False\n",
    "    if m > 0 and target in mat or len(mat[0])>0 and target in mat[0]:\n",
    "        return True\n",
    "    if m>1 :\n",
    "        row,col= 0, len(mat[0]) - 1\n",
    "        while row<m and col>=0:\n",
    "            if mat[row][col]==target:\n",
    "                return True\n",
    "            if mat[row][col]>target:\n",
    "                col-=1\n",
    "            else:\n",
    "                row+=1\n",
    "    return False\n",
    "\n",
    "search(mat,1)"
   ]
  },
  {
   "cell_type": "code",
   "execution_count": 128,
   "metadata": {},
   "outputs": [
    {
     "name": "stdout",
     "output_type": "stream",
     "text": [
      "2 2\n",
      "[[3, 1], [4, 2]]\n"
     ]
    }
   ],
   "source": [
    "#Rotate image:You are given an n x n matrix.Rotate the image by 90 degrees(clockwise)in place.\n",
    "def rotate(m):\n",
    "    print len(m),len(m[0])\n",
    "    le = len(m) - 1\n",
    "    for i in range((le+2)/2):\n",
    "        for j in range((le+1)/2):\n",
    "            t = m[i][j]\n",
    "            m[i][j] = m[le-j][i]\n",
    "            m[le-j][i] = m[le-i][le-j]\n",
    "            m[le-i][le-j] = m[j][le-i]\n",
    "            m[j][le-i] = t\n",
    "    print m\n",
    "            \n",
    "rotate([[1,2],[3,4]])"
   ]
  },
  {
   "cell_type": "code",
   "execution_count": 92,
   "metadata": {},
   "outputs": [
    {
     "name": "stdout",
     "output_type": "stream",
     "text": [
      "[[6, 4, 2], [6, 4, 2]]\n"
     ]
    }
   ],
   "source": [
    "def rotate(matrix): #matrix[n][m]\n",
    "    n = len(matrix)\n",
    "    m = len(matrix[0])\n",
    "    sol= [[0]*n]*m\n",
    "    for i in range(0,n):\n",
    "        for j in range(0, m):\n",
    "           sol[j][n-1-i] = matrix[i][j]\n",
    "    print sol\n",
    "    \n",
    "rotate([[1,2],[3,4],[5,6]])"
   ]
  },
  {
   "cell_type": "code",
   "execution_count": null,
   "metadata": {},
   "outputs": [],
   "source": [
    "#Given a m x n grid filled with non-negative numbers, find a path from top left to bottom right which minimizes the \n",
    "#sum of all numbers along its path.\n",
    "grid = [[1,2,3],[4,5,6],[7,8,9],[10,11,12]]\n",
    "\n",
    "def minPathSum(grid):\n",
    "        n = len(grid)\n",
    "        m = len(grid[0])\n",
    "        res = []\n",
    "        for i in range(1, n):\n",
    "            grid[i][0] = grid[i-1][0] + grid[i][0]\n",
    "        for i in range(1, m):\n",
    "            grid[0][i] = grid[0][i-1] + grid[0][i]\n",
    "        for i in range(1, m):\n",
    "            for j in range(1, n):\n",
    "                grid[j][i] = min(grid[j][i-1], grid[j-1][i])+grid[j][i]\n",
    "                res.append(grid[j][i])\n",
    "        return grid[n-1][m-1], res\n",
    "\n",
    "minPathSum(grid)\n"
   ]
  },
  {
   "cell_type": "markdown",
   "metadata": {},
   "source": [
    "#ARRAYS"
   ]
  },
  {
   "cell_type": "code",
   "execution_count": 125,
   "metadata": {},
   "outputs": [
    {
     "name": "stdout",
     "output_type": "stream",
     "text": [
      "1\n",
      "1\n"
     ]
    },
    {
     "data": {
      "text/plain": [
       "[]"
      ]
     },
     "execution_count": 125,
     "metadata": {},
     "output_type": "execute_result"
    }
   ],
   "source": [
    "#merge k sorts\n",
    "from Queue import PriorityQueue\n",
    "def mergekSortedArrays(arrays):\n",
    "    sol=[]\n",
    "    q = PriorityQueue()\n",
    "    for array in arrays:\n",
    "        if array:\n",
    "            q.put((array[::-1].pop(),1))\n",
    "    while not q.empty():\n",
    "        print q.get()[1]\n",
    "    return sol\n",
    "        \n",
    "    \n",
    "mergekSortedArrays([[1,6,8],[2,5]])"
   ]
  },
  {
   "cell_type": "code",
   "execution_count": null,
   "metadata": {},
   "outputs": [],
   "source": [
    "def mergeKLists(self, lists):\n",
    "        dummy = ListNode(None)\n",
    "        curr = dummy\n",
    "        q = PriorityQueue()\n",
    "        for node in lists:\n",
    "            if node: q.put((node.val,node))\n",
    "        while q.qsize()>0:\n",
    "            curr.next = q.get()[1]\n",
    "            curr=curr.next\n",
    "            if curr.next: \n",
    "                q.put((curr.next.val, curr.next))\n",
    "        return dummy.next"
   ]
  },
  {
   "cell_type": "code",
   "execution_count": null,
   "metadata": {},
   "outputs": [],
   "source": [
    "#maxsubarray\n",
    "def maxSubArray(nums):\n",
    "    for i in xrange(1,len(nums)):\n",
    "        nums[i]=max(nums[i], nums[i]+nums[i-1])\n",
    "    return max(nums)\n",
    "    \n",
    "nums = [1,2,3,-5,6,-7,0]\n",
    "maxSubArray(nums)"
   ]
  },
  {
   "cell_type": "code",
   "execution_count": null,
   "metadata": {},
   "outputs": [],
   "source": [
    "def sortTransformedArray(nums, a, b, c):\n",
    "    fun = lambda x,a,b,c:a*x**2+b*x+c\n",
    "    res = []\n",
    "    for i in nums:\n",
    "        res.append(fun(i,a,b,c))\n",
    "    return sorted(res)\n",
    "            \n",
    "nums = [-4, -2, 2, 4]\n",
    "a,b,c = 1,3,5\n",
    "sortTransformedArray(nums, a, b, c)\n"
   ]
  },
  {
   "cell_type": "code",
   "execution_count": 480,
   "metadata": {},
   "outputs": [
    {
     "data": {
      "text/plain": [
       "['--+', '+--']"
      ]
     },
     "execution_count": 480,
     "metadata": {},
     "output_type": "execute_result"
    }
   ],
   "source": [
    "#flip game:\n",
    "def generatePossibleNextMoves(s):\n",
    "    ans = []\n",
    "    n=len(s)-1\n",
    "    for i in range(n):\n",
    "        if s[i:i+2] == \"++\":\n",
    "            ans.append(s[:i]+\"--\"+s[i+2:])\n",
    "    return ans\n",
    "            \n",
    "    \n",
    "generatePossibleNextMoves(\"+++\")"
   ]
  },
  {
   "cell_type": "code",
   "execution_count": 481,
   "metadata": {},
   "outputs": [
    {
     "data": {
      "text/plain": [
       "True"
      ]
     },
     "execution_count": 481,
     "metadata": {},
     "output_type": "execute_result"
    }
   ],
   "source": [
    "#flip challenge\n",
    "def canWin(s):\n",
    "    n = len(s)-1\n",
    "    for i in range(n):\n",
    "        if s[i:i+2] == \"++\":\n",
    "            if (not canWin(s[:i]+\"--\"+s[i+2:])):\n",
    "                return True\n",
    "    return False\n",
    "\n",
    "        \n",
    "canWin(\"+-++\")"
   ]
  },
  {
   "cell_type": "code",
   "execution_count": 706,
   "metadata": {},
   "outputs": [
    {
     "data": {
      "text/plain": [
       "True"
      ]
     },
     "execution_count": 706,
     "metadata": {},
     "output_type": "execute_result"
    }
   ],
   "source": [
    "#one edit distance\n",
    "\n",
    "def isOneEditDistance(s, t):\n",
    "    if len(s) > len(t):\n",
    "        return isOneEditDistance(t, s)\n",
    "    if abs(len(s) - len(t)) > 1 or s == t:\n",
    "        return False\n",
    "    for i in range(len(s)):\n",
    "        if s[i] != t[i]:\n",
    "            return s[i+1:] == t[i+1:] or s[i:] == t[i+1:]\n",
    "    return True\n",
    "\n",
    "isOneEditDistance(\"bat\", \"bats\")"
   ]
  },
  {
   "cell_type": "code",
   "execution_count": 235,
   "metadata": {},
   "outputs": [
    {
     "data": {
      "text/plain": [
       "2"
      ]
     },
     "execution_count": 235,
     "metadata": {},
     "output_type": "execute_result"
    }
   ],
   "source": [
    "#minimum edit distance\n",
    "\n",
    "def minDistance(word1, word2):\n",
    "    n, m = len(word1), len(word2)\n",
    "    if n*m == 0:\n",
    "        return n or m\n",
    "\n",
    "    word1 = ' '+ word1\n",
    "    word2 = ' '+ word2\n",
    "\n",
    "    prev = range(n+1)\n",
    "    for j in range(1, m+1):\n",
    "        current = [j] + [0]*n\n",
    "        for i in range(1, n+1):\n",
    "            possible_cost = 1 if word1[i] != word2[j] else 0\n",
    "\n",
    "            current[i] = min(prev[i-1] + possible_cost, prev[i] + 1, current[i-1] + 1)\n",
    "        prev = current\n",
    "    return prev[-1]\n",
    "    \n",
    "minDistance(\"sea\", \"eat\")"
   ]
  },
  {
   "cell_type": "code",
   "execution_count": 729,
   "metadata": {},
   "outputs": [
    {
     "name": "stdout",
     "output_type": "stream",
     "text": [
      "5\n",
      "8\n"
     ]
    },
    {
     "data": {
      "text/plain": [
       "-13"
      ]
     },
     "execution_count": 729,
     "metadata": {},
     "output_type": "execute_result"
    }
   ],
   "source": [
    "#implement a basic calculator\n",
    "s = \"(-5-8)\" \n",
    "\n",
    "def calculate(s):\n",
    "    ans, num, sign, d = 0, 0, 1, []\n",
    "    for i in s:\n",
    "        if i.isdigit():\n",
    "            num = 10*num + int(i)\n",
    "            print num\n",
    "        elif i in [\"-\", \"+\"]:\n",
    "            ans += sign*num\n",
    "            num = 0\n",
    "            sign = (1 if i==\"+\" else -1)\n",
    "        elif i == \"(\":\n",
    "            d.append(ans)\n",
    "            d.append(sign)\n",
    "            sign, ans = 1, 0\n",
    "        elif i == \")\":\n",
    "            ans += sign*num\n",
    "            ans *= d.pop()\n",
    "            ans += d.pop()\n",
    "            num = 0\n",
    "            \n",
    "    return ans + num*sign\n",
    "\n",
    "    \n",
    "      \n",
    "calculate(s)"
   ]
  },
  {
   "cell_type": "code",
   "execution_count": 487,
   "metadata": {},
   "outputs": [
    {
     "data": {
      "text/plain": [
       "16"
      ]
     },
     "execution_count": 487,
     "metadata": {},
     "output_type": "execute_result"
    }
   ],
   "source": [
    "#fence paint\n",
    "\n",
    "def numWays(n,k):\n",
    "    if n == 0:\n",
    "        return 0\n",
    "    if n ==1:\n",
    "        return k\n",
    "    same, dif = k, k*(k-1)\n",
    "    for i in range(3, n+1):\n",
    "        same, dif = dif, (same+dif)*(k-1)\n",
    "    return same + dif\n",
    "\n",
    "numWays(5,2)"
   ]
  },
  {
   "cell_type": "code",
   "execution_count": 467,
   "metadata": {},
   "outputs": [],
   "source": [
    "#another method\n",
    "def numWays(n, k):\n",
    "        a, b, c = 0, k, k*k\n",
    "        for _ in xrange(n):\n",
    "            a = b \n",
    "            b = c\n",
    "            c =(b+c) * (k-1)\n",
    "        return a\n"
   ]
  },
  {
   "cell_type": "markdown",
   "metadata": {},
   "source": [
    "#LINKED LISTS"
   ]
  },
  {
   "cell_type": "code",
   "execution_count": null,
   "metadata": {},
   "outputs": [],
   "source": [
    "#Implement delete a node from linked list\n",
    "class Node(object):\n",
    "    def __init__(self,x):\n",
    "        self.val=x\n",
    "        self.next=None\n",
    "        \n",
    "    def deleteNode(self,node):\n",
    "        node.val=node.next.val\n",
    "        node.next=node.next.next\n",
    "        "
   ]
  },
  {
   "cell_type": "code",
   "execution_count": null,
   "metadata": {},
   "outputs": [],
   "source": [
    "#find kth from last element in a linked list \n",
    "    def FindNthFromEnd(self, head, n):\n",
    "        assert n > 0\n",
    "        dummy = ListNode(-1)\n",
    "        dummy.next = head\n",
    "        slow, fast = dummy, dummy\n",
    "        for i in range(n):\n",
    "            fast = fast.next\n",
    "            assert fast\n",
    "        while fast.next:\n",
    "            fast = fast.next\n",
    "            slow = slow.next\n",
    "        slow.next = slow.next.next\n",
    "        return dummy.next"
   ]
  },
  {
   "cell_type": "code",
   "execution_count": null,
   "metadata": {},
   "outputs": [],
   "source": [
    "#find middle element from linkedlist\n",
    "\n",
    "def middlele(self,head,length):\n",
    "    temp = ListNode(1)\n",
    "    temp.next = head\n",
    "    singlepass,twopass = temp,temp\n",
    "    for i in range(length):\n",
    "        twopass = twopass.next\n",
    "    while twopass.next:\n",
    "        twopass = twopass.next\n",
    "        singlepass = single.next\n",
    "    return singlepass\n",
    "    \n",
    "        "
   ]
  },
  {
   "cell_type": "code",
   "execution_count": null,
   "metadata": {},
   "outputs": [],
   "source": [
    "# Reverse Linked list\n",
    "def Reverse(head):\n",
    "    prevnode = None\n",
    "    while head:\n",
    "        current = head\n",
    "        head = head.next\n",
    "        current.next = prevnode\n",
    "        prevnode = current\n",
    "    return prevnode"
   ]
  },
  {
   "cell_type": "code",
   "execution_count": null,
   "metadata": {},
   "outputs": [],
   "source": [
    "#add 2 linked lists:\n",
    "def addTwoNumbers(self, l1, l2):\n",
    "        head = temp = ListNode(0)\n",
    "        carry = 0\n",
    "\n",
    "        while l1 or l2 or carry:\n",
    "            temp1 = l1.val if l1 else 0\n",
    "            temp2 = l2.val if l2 else 0\n",
    "            tempSum = temp1 + temp2 + carry\n",
    "\n",
    "            temp.next = ListNode(tempSum % 10)\n",
    "            temp = temp.next\n",
    "            carry = tempSum // 10\n",
    "\n",
    "            if l1:\n",
    "                l1 = l1.next\n",
    "            if l2:\n",
    "                l2 = l2.next\n",
    "\n",
    "        return head.next"
   ]
  },
  {
   "cell_type": "code",
   "execution_count": null,
   "metadata": {},
   "outputs": [],
   "source": [
    "#Remove duplicates\n",
    "def RemoveDup(head):\n",
    "    curr = head\n",
    "    while curr:\n",
    "        while curr.next and curr.next.val == curr.val:\n",
    "            curr.next=curr.next.next\n",
    "        curr=curr.next\n",
    "    return head"
   ]
  },
  {
   "cell_type": "code",
   "execution_count": null,
   "metadata": {},
   "outputs": [],
   "source": [
    "#linked list palindrome\n",
    " def isPalindrome(self, head):\n",
    "        \"\"\"\n",
    "        :type head: ListNode\n",
    "        :rtype: bool\n",
    "        \"\"\"\n",
    "        slow=fast=head\n",
    "        rev=None\n",
    "        while fast and fast.next:\n",
    "            fast = fast.next.next\n",
    "            rev, rev.next, slow = slow, rev, slow.next\n",
    "        if fast:\n",
    "            slow = slow.next\n",
    "        while rev and rev.val == slow.val:\n",
    "            slow=slow.next\n",
    "            rev=rev.next\n",
    "        return not rev"
   ]
  },
  {
   "cell_type": "code",
   "execution_count": 93,
   "metadata": {},
   "outputs": [
    {
     "data": {
      "text/plain": [
       "7"
      ]
     },
     "execution_count": 93,
     "metadata": {},
     "output_type": "execute_result"
    }
   ],
   "source": [
    "import heapq\n",
    "def kthSmallest(matrix, k):\n",
    "        return list(heapq.merge(*matrix))[k-1]\n",
    "\n",
    "kthSmallest([[1,3,4],[23,9,2],[8,7,6]],5)"
   ]
  },
  {
   "cell_type": "markdown",
   "metadata": {},
   "source": [
    "#STRING MANIPULATIONS"
   ]
  },
  {
   "cell_type": "code",
   "execution_count": null,
   "metadata": {},
   "outputs": [],
   "source": [
    "# To Determine if s and t are anagrams of each other\n",
    "\n",
    "input= “abc bac exd cba def fed”\n",
    "output= “abc bac cba def fed”\n",
    "\n",
    "def ifanagram(s,t):\n",
    "    if sorted(s)== sorted(t):\n",
    "        return True\n",
    "    else:\n",
    "        return False\n",
    "\n",
    "def anagram_list(inp):\n",
    "#splitting the inp into input list\n",
    "    inp_list = inp.split(' ')\n",
    "    outlist = []\n",
    "    for i in range(0,len(inp_list)):\n",
    "        first = inp_list[i].lower()\n",
    "        for j in range(0,len(inp_list)):\n",
    "            if i == j:\n",
    "                continue\n",
    "            second = inp_list[j].lower()\n",
    "            if ifanagram(first,second):\n",
    "                outlist.append(inp_list[i])\n",
    "                break\n",
    "\n",
    "    print outlist\n"
   ]
  },
  {
   "cell_type": "code",
   "execution_count": null,
   "metadata": {},
   "outputs": [],
   "source": [
    "#reverse string in place: in python strings are immutable.\n",
    "a = 'women'\n",
    "li = []\n",
    "li.extend(a)\n",
    "print li\n",
    "size = len(li)\n",
    "for i in range(0, size/2):\n",
    "    print i,size-1-i\n",
    "    li[i], li[size-1-i] = li[size-1-i], li[i]\n",
    "print li"
   ]
  },
  {
   "cell_type": "code",
   "execution_count": 117,
   "metadata": {},
   "outputs": [
    {
     "data": {
      "text/plain": [
       "'a2b2a2c1'"
      ]
     },
     "execution_count": 117,
     "metadata": {},
     "output_type": "execute_result"
    }
   ],
   "source": [
    "#compress a sring: aabbaac becomes a2b2a2c\n",
    "def compressString(string):\n",
    "    last = string[0]\n",
    "    result = []\n",
    "    count = 1\n",
    "    for c in string[1:]:\n",
    "        if c == last:\n",
    "            count += 1\n",
    "        else:\n",
    "            result.append(last + `count`)\n",
    "            count = 1\n",
    "            last = c\n",
    "    result.append(last + `count`)\n",
    "    return ''.join(result)\n",
    "compressString(\"aabbaac\")"
   ]
  },
  {
   "cell_type": "code",
   "execution_count": null,
   "metadata": {},
   "outputs": [],
   "source": [
    "#string interleave\n",
    "def interleave(s,s1,s2):\n",
    "    if len(s) != len(s1)+len(s2):\n",
    "        return False\n",
    "    a=list(s1)\n",
    "    b=list(s2)\n",
    "    c=list(s)\n",
    "    for _ in range(len(c)):\n",
    "        while len(a)!=0 and len(b)!=0 and len(c)!=0:\n",
    "            if c[-1] == a[-1]:\n",
    "                a.pop()\n",
    "                c.pop()\n",
    "            elif c[-1] == b[-1]:\n",
    "                c.pop()\n",
    "                b.pop()\n",
    "        if len(c)==0 or (len(a)==0 and len(b)==0):\n",
    "            return True\n",
    "    return False\n",
    "    \n",
    "    \n",
    "s1 = \"a\"\n",
    "s2 = \"\"\n",
    "s3 = \"a\"\n",
    "interleave(s3,s1,s2)"
   ]
  },
  {
   "cell_type": "code",
   "execution_count": null,
   "metadata": {},
   "outputs": [],
   "source": [
    "\n",
    "class Solution:\n",
    "    # @return a list of strings, [s1, s2]\n",
    "    def letterCombinations(self, digits):\n",
    "        if '' == digits: \n",
    "            return []\n",
    "        mappings = {\n",
    "            '2': 'abc',\n",
    "            '3': 'def',\n",
    "            '4': 'ghi',\n",
    "            '5': 'jkl',\n",
    "            '6': 'mno',\n",
    "            '7': 'pqrs',\n",
    "            '8': 'tuv',\n",
    "            '9': 'wxyz'\n",
    "        }\n",
    "        return reduce(lambda acc, digit: [x + y for x in acc for y in mappings[digit]], digits, [''])\n",
    "    \n",
    "ans = Solution()\n",
    "ans.letterCombinations('23')"
   ]
  },
  {
   "cell_type": "code",
   "execution_count": null,
   "metadata": {},
   "outputs": [],
   "source": [
    "#num to words : integer to english words\n",
    "\n",
    "def numberToWords(num):\n",
    "    to19 = 'One Two Three Four Five Six Seven Eight Nine Ten Eleven Twelve ' \\\n",
    "           'Thirteen Fourteen Fifteen Sixteen Seventeen Eighteen Nineteen'.split()\n",
    "    tens = 'Twenty Thirty Forty Fifty Sixty Seventy Eighty Ninety'.split()\n",
    "    def words(n):\n",
    "        if n < 20:\n",
    "            return to19[n-1:n]\n",
    "        if n < 100:\n",
    "            return [tens[n/10-2]] + words(n%10)\n",
    "        if n < 1000:\n",
    "            return [to19[n/100-1]] + ['Hundred'] + words(n%100)\n",
    "        for p, w in enumerate(('Thousand', 'Million', 'Billion'), 1):\n",
    "            if n < 1000**(p+1):\n",
    "                return words(n/1000**p) + [w] + words(n%1000**p)\n",
    "    return ' '.join(words(num)) or 'Zero'\n",
    "        \n",
    "\n",
    "numberToWords(1319)"
   ]
  },
  {
   "cell_type": "code",
   "execution_count": null,
   "metadata": {},
   "outputs": [],
   "source": [
    "#roman to integer\n",
    "def romanToInt(s):\n",
    "    result=0\n",
    "    dic={'I':1,'V':5,'X':10,'L':50,'C':100,'D':500,'M':1000}\n",
    "    for i in s[::-1]:\n",
    "        symbol=1\n",
    "        if (i in ['I','X','C']) and result>=5*dic[i]:\n",
    "            symbol=-1\n",
    "        result+=dic[i]*symbol\n",
    "    return result\n",
    "\n",
    "romanToInt('IV')"
   ]
  },
  {
   "cell_type": "code",
   "execution_count": null,
   "metadata": {},
   "outputs": [],
   "source": [
    "#group shifted strings\n",
    "from collections import defaultdict\n",
    "def groupStrings(strings):\n",
    "    d = defaultdict(list)\n",
    "    for s in strings:\n",
    "        key = tuple((ord(character) - ord(s[0])) % 26 for character in s) #grouping keys by shifts \n",
    "        d[key].append(s)\n",
    "    print d\n",
    "    return d.values()\n",
    "\n",
    "\n",
    "strings = [\"abc\",\"bcd\",\"acef\",\"xyz\",\"za\",\"ba\",\"a\",\"z\",\"ab\"]\n",
    "groupStrings(strings)"
   ]
  },
  {
   "cell_type": "code",
   "execution_count": null,
   "metadata": {},
   "outputs": [],
   "source": [
    "string = ['yellow','blue','yellow','blue']\n",
    "d = defaultdict(list)\n",
    "for v in string:\n",
    "    key = len(v)\n",
    "    d[key].append(v)\n",
    "print d"
   ]
  },
  {
   "cell_type": "markdown",
   "metadata": {},
   "source": [
    "#DYNAMIC PROGRAMMING"
   ]
  },
  {
   "cell_type": "code",
   "execution_count": 621,
   "metadata": {},
   "outputs": [],
   "source": [
    "#Coins problem - Given different types of coins with different denominations. \n",
    "#write a program that gives number of ways of getting sum N.\n",
    "\n",
    "def coinChange(self, coins, amount):\n",
    "    MAX = float('inf')\n",
    "    dp = [0] + [MAX] * amount\n",
    "    for i in xrange(1, amount + 1):\n",
    "        dp[i] = min([dp[i - c] if i - c >= 0 else MAX for c in coins]) + 1\n",
    "    return [dp[amount], -1][dp[amount] == MAX]\n"
   ]
  },
  {
   "cell_type": "code",
   "execution_count": 25,
   "metadata": {},
   "outputs": [
    {
     "name": "stdout",
     "output_type": "stream",
     "text": [
      "higher remainder 1 1 0\n",
      "[1, 1, 0, 0, 0, 0]\n",
      "higher remainder 1 2 1\n",
      "[1, 1, 1, 0, 0, 0]\n",
      "higher remainder 1 3 2\n",
      "[1, 1, 1, 1, 0, 0]\n",
      "higher remainder 1 4 3\n",
      "[1, 1, 1, 1, 1, 0]\n",
      "higher remainder 1 5 4\n",
      "[1, 1, 1, 1, 1, 1]\n",
      "higher remainder 3 3 0\n",
      "[1, 1, 1, 2, 1, 1]\n",
      "higher remainder 3 4 1\n",
      "[1, 1, 1, 2, 2, 1]\n",
      "higher remainder 3 5 2\n",
      "[1, 1, 1, 2, 2, 2]\n",
      "higher remainder 5 5 0\n",
      "[1, 1, 1, 2, 2, 3]\n"
     ]
    },
    {
     "data": {
      "text/plain": [
       "3"
      ]
     },
     "execution_count": 25,
     "metadata": {},
     "output_type": "execute_result"
    }
   ],
   "source": [
    "def number_of_ways(amount, denominations):\n",
    "    ways_of_doing_n_cents = [0] * (amount + 1)\n",
    "    ways_of_doing_n_cents[0] = 1\n",
    "\n",
    "    for coin in denominations:\n",
    "        for higher_amount in xrange(coin, amount + 1):\n",
    "            higher_amount_remainder = higher_amount - coin\n",
    "            print 'higher remainder',coin,higher_amount,higher_amount_remainder\n",
    "            ways_of_doing_n_cents[higher_amount] += ways_of_doing_n_cents[higher_amount_remainder]\n",
    "            print ways_of_doing_n_cents\n",
    "\n",
    "    return ways_of_doing_n_cents[amount]\n",
    "    \n",
    "number_of_ways(5,[1,3,5])"
   ]
  },
  {
   "cell_type": "code",
   "execution_count": 41,
   "metadata": {},
   "outputs": [
    {
     "name": "stdout",
     "output_type": "stream",
     "text": [
      "-5\n",
      "h 10 10 1\n",
      "1\n",
      "h 10 10 -5\n",
      "-100\n",
      "h 10 10 -5\n"
     ]
    },
    {
     "data": {
      "text/plain": [
       "5000"
      ]
     },
     "execution_count": 41,
     "metadata": {},
     "output_type": "execute_result"
    }
   ],
   "source": [
    "from itertools import islice\n",
    "\n",
    "def highest_product_of_3(list_of_ints):\n",
    "    if len(list_of_ints) < 3:\n",
    "        raise Exception('Less than 3 items!')\n",
    "    highest = max(list_of_ints[0], list_of_ints[1])\n",
    "    lowest  = min(list_of_ints[0], list_of_ints[1])\n",
    "    highest_product_of_2 = list_of_ints[0] * list_of_ints[1]\n",
    "    lowest_product_of_2  = list_of_ints[0] * list_of_ints[1]\n",
    "    highest_product_of_3 = list_of_ints[0] * list_of_ints[1] * list_of_ints[2]\n",
    "    for current in islice(list_of_ints, 2, None):\n",
    "        print current\n",
    "        highest_product_of_3 = max(\n",
    "            highest_product_of_3,\n",
    "            current * highest_product_of_2,\n",
    "            current * lowest_product_of_2)\n",
    "        highest_product_of_2 = max(\n",
    "            highest_product_of_2,\n",
    "            current * highest,\n",
    "            current * lowest)\n",
    "        lowest_product_of_2 = min(\n",
    "            lowest_product_of_2,\n",
    "            current * highest,\n",
    "            current * lowest)\n",
    "        highest = max(highest, current)\n",
    "        lowest = min(lowest, current)\n",
    "       \n",
    "\n",
    "    return highest_product_of_3\n",
    "\n",
    "highest_product_of_3([1,10,-5,1,-100])"
   ]
  },
  {
   "cell_type": "code",
   "execution_count": 55,
   "metadata": {},
   "outputs": [
    {
     "name": "stdout",
     "output_type": "stream",
     "text": [
      "(3, 8)\n",
      "(9, 12)\n"
     ]
    },
    {
     "data": {
      "text/plain": [
       "[(0, 1), (3, 8), (9, 12)]"
      ]
     },
     "execution_count": 55,
     "metadata": {},
     "output_type": "execute_result"
    }
   ],
   "source": [
    "def merge_meeting(meetings):\n",
    "    sorted_meetings = sorted(meetings)\n",
    "    merged_meetings = [sorted_meetings[0]]\n",
    "    for current_meeting_start, current_meeting_end in sorted_meetings[1:]:\n",
    "        last_merged_meeting_start, last_merged_meeting_end = merged_meetings[-1]\n",
    "        if (current_meeting_start <= last_merged_meeting_end):\n",
    "            merged_meetings[-1] = (last_merged_meeting_start,max(last_merged_meeting_end, current_meeting_end))\n",
    "            print merged_meetings[-1]\n",
    "        else:\n",
    "            merged_meetings.append((current_meeting_start, current_meeting_end))\n",
    "    return merged_meetings\n",
    "\n",
    "merge_meeting([(0, 1), (3, 5), (4, 8), (10, 12), (9, 10)])"
   ]
  },
  {
   "cell_type": "code",
   "execution_count": null,
   "metadata": {},
   "outputs": [],
   "source": [
    "list = [1,2,3,4,5,6]\n",
    "list"
   ]
  },
  {
   "cell_type": "code",
   "execution_count": 165,
   "metadata": {},
   "outputs": [
    {
     "name": "stdout",
     "output_type": "stream",
     "text": [
      "[0] 0\n",
      "[0, 28] 28\n",
      "[0, 28, 13] 28\n",
      "[0, 28, 13, 8] 28\n",
      "[0, 28, 13, 8, -1] 28\n"
     ]
    },
    {
     "data": {
      "text/plain": [
       "79"
      ]
     },
     "execution_count": 165,
     "metadata": {},
     "output_type": "execute_result"
    }
   ],
   "source": [
    "#stocks profit.\n",
    "\n",
    "def maxProfit(prices):\n",
    "    if len(prices)==0:\n",
    "        return 0\n",
    "    dp=[]\n",
    "    dp.append(0)\n",
    "    max=dp[0]\n",
    "    min=prices[0]\n",
    "    i=1\n",
    "    while i<len(prices):\n",
    "        print dp,max\n",
    "        dp.append(prices[i]-min)\n",
    "        if(prices[i]<min):\n",
    "            min=prices[i]\n",
    "        if(dp[i]>max):\n",
    "            max=dp[i]\n",
    "        i+=1\n",
    "    return max\n",
    "\n",
    "prices = [2, 30, 15, 10, 1, 80]\n",
    "maxProfit(prices)"
   ]
  },
  {
   "cell_type": "code",
   "execution_count": 141,
   "metadata": {},
   "outputs": [
    {
     "name": "stdout",
     "output_type": "stream",
     "text": [
      "2 2 0\n",
      "30 2 0\n",
      "15 2 28\n",
      "10 2 28\n",
      "1 1 28\n",
      "80 1 28\n",
      "1000 1 79\n"
     ]
    },
    {
     "data": {
      "text/plain": [
       "999"
      ]
     },
     "execution_count": 141,
     "metadata": {},
     "output_type": "execute_result"
    }
   ],
   "source": [
    "def maxProfit(prices):\n",
    "    max, minm = 0, prices[0]\n",
    "    for i in prices:\n",
    "        minm = min(i,minm)\n",
    "        print i,minm,max\n",
    "        if i-minm>max:\n",
    "            max=i-minm\n",
    "    return max\n",
    "\n",
    "maxProfit([2, 30, 15, 10, 1, 80,1000])"
   ]
  },
  {
   "cell_type": "code",
   "execution_count": 272,
   "metadata": {},
   "outputs": [],
   "source": [
    "class Logger(object):\n",
    "\n",
    "    def __init__(self):\n",
    "        \"\"\"\n",
    "        Initialize your data structure here.\n",
    "        \"\"\"\n",
    "        self.dic = {}      \n",
    "\n",
    "    def shouldPrintMessage(self, timestamp, message):\n",
    "        \"\"\"\n",
    "        Returns true if the message should be printed in the given timestamp, otherwise returns false.\n",
    "        If this method returns false, the message will not be printed.\n",
    "        The timestamp is in seconds granularity.\n",
    "        :type timestamp: int\n",
    "        :type message: str\n",
    "        :rtype: bool\n",
    "        \"\"\"\n",
    "        if (message in self.dic.keys()) and ((timestamp - self.dic[message] ) < 10) :\n",
    "            print self.dic.items(),timestamp\n",
    "            return False\n",
    "                \n",
    "        self.dic[message] = timestamp\n",
    "        return True\n",
    "        "
   ]
  },
  {
   "cell_type": "code",
   "execution_count": 273,
   "metadata": {},
   "outputs": [],
   "source": [
    "class MovingAverage(object):\n",
    "\n",
    "    def __init__(self, size):\n",
    "        self.queue = collections.deque(maxlen=size)\n",
    "\n",
    "\n",
    "    def next(self, val):\n",
    "        queue = self.queue\n",
    "        queue.append(val)\n",
    "        return float(sum(queue))/len(queue)"
   ]
  },
  {
   "cell_type": "markdown",
   "metadata": {},
   "source": [
    "#BINARY TREES"
   ]
  },
  {
   "cell_type": "code",
   "execution_count": 2,
   "metadata": {},
   "outputs": [],
   "source": [
    "# closest binary tree\n",
    "\n",
    "# Definition for a binary tree node.\n",
    "# class TreeNode(object):\n",
    "#     def __init__(self, x):\n",
    "#         self.val = x\n",
    "#         self.left = None\n",
    "#         self.right = None\n",
    "\n",
    "class Solution(object):\n",
    "    def closestValue(self, root, target):\n",
    "        r = root.val\n",
    "        while root:\n",
    "            if abs(root.val - target) < abs(r - target):\n",
    "                r = root.val\n",
    "            if target < root.val:\n",
    "                root = root.left \n",
    "            else:\n",
    "                root = root.right\n",
    "        return r\n"
   ]
  },
  {
   "cell_type": "code",
   "execution_count": null,
   "metadata": {},
   "outputs": [],
   "source": [
    "#Binary tree paths\n",
    "# Definition for a binary tree node.\n",
    "# class TreeNode:\n",
    "#     def __init__(self, x):\n",
    "#         self.val = x\n",
    "#         self.left = None\n",
    "#         self.right = None\n",
    "\n",
    "class Solution:\n",
    "    # @param {TreeNode} root\n",
    "    # @return {string[]}\n",
    "    def binaryTreePaths(self, root):\n",
    "        res = []\n",
    "        if root == None:\n",
    "            return res\n",
    "        self.getpaths(root,\"\",res)\n",
    "        return res\n",
    "        \n",
    "    def getpaths(self,root,s,res):\n",
    "        if(root.left == None) and (root.right == None):\n",
    "            res.append(s+str(root.val))\n",
    "        if(root.left !=None):\n",
    "            self.getpaths(root.left,s+str(root.val)+\"->\",res)\n",
    "        if(root.right !=None):\n",
    "            self.getpaths(root.right,s+str(root.val)+\"->\",res)\n",
    "            "
   ]
  },
  {
   "cell_type": "code",
   "execution_count": 2,
   "metadata": {},
   "outputs": [],
   "source": [
    "#BST or not\n",
    "\n",
    "def isValid(root):\n",
    "     return isValidBST(root, Integer.MIN_VALUE,\n",
    "          Integer.MAX_VALUE)\n",
    "    \n",
    "def isValidBST(node,MIN,MAX):\n",
    "     if(node == null):\n",
    "         return true;\n",
    "     if(node.value > MIN and node.value < MAX and  isValidBST(node.left, MIN, node.value) and isValidBST(node.right, node.value, MAX)):\n",
    "         return true\n",
    "     else: \n",
    "         return false\n",
    "\n",
    "\n"
   ]
  },
  {
   "cell_type": "code",
   "execution_count": 140,
   "metadata": {},
   "outputs": [
    {
     "data": {
      "text/plain": [
       "True"
      ]
     },
     "execution_count": 140,
     "metadata": {},
     "output_type": "execute_result"
    }
   ],
   "source": [
    "#valid parenthesis\n",
    "def validparen(s):\n",
    "    stack = []\n",
    "    dict = {\"]\":\"[\", \"}\":\"{\", \")\":\"(\"}\n",
    "    for char in s:\n",
    "        if char in dict.values():\n",
    "            stack.append(char)\n",
    "        elif char in dict.keys():\n",
    "            if stack == [] or dict[char] != stack.pop():\n",
    "                return False\n",
    "        else:\n",
    "            return False\n",
    "    return stack == []\n",
    "\n",
    "validparen(\"{[()]}\")"
   ]
  },
  {
   "cell_type": "code",
   "execution_count": 1,
   "metadata": {},
   "outputs": [],
   "source": [
    "#longest consecutive binary tree\n",
    "def longestConsecutive(root):\n",
    "    if not root:\n",
    "        return 0\n",
    "    return max( helper(root, root.left, 1), helper(root, root.right, 1))\n",
    "\n",
    "def helper(parent, root, length):\n",
    "    if not root:\n",
    "        return length\n",
    "    if root.val-parent.val == 1:\n",
    "        length += 1\n",
    "    else:\n",
    "        length = 1\n",
    "    return max(length, helper(root, root.left, length), helper(root, root.right, length))\n",
    "\n"
   ]
  },
  {
   "cell_type": "code",
   "execution_count": null,
   "metadata": {},
   "outputs": [],
   "source": [
    "#print a binary tree in zig zag order\n",
    "def zigzagLevelOrder(self, root):\n",
    "    queue = collections.deque([root])\n",
    "    res = []\n",
    "    while queue:\n",
    "        r = []\n",
    "        for _ in range(len(queue)):\n",
    "            q = queue.popleft()\n",
    "            if q:\n",
    "                r.append(q.val)\n",
    "                queue.append(q.left)\n",
    "                queue.append(q.right)\n",
    "        r = r[::-1] if len(res) % 2 else r\n",
    "        if r:\n",
    "            res.append(r)\n",
    "    return res"
   ]
  },
  {
   "cell_type": "code",
   "execution_count": 223,
   "metadata": {},
   "outputs": [
    {
     "data": {
      "text/plain": [
       "2"
      ]
     },
     "execution_count": 223,
     "metadata": {},
     "output_type": "execute_result"
    }
   ],
   "source": [
    "intervals = [[0, 30],[5, 10],[15, 20]]\n",
    "\n",
    "def minMeetingRooms(intervals):\n",
    "    n = len(intervals)\n",
    "    start = []\n",
    "    end = []\n",
    "    endindex = 0\n",
    "    for i in range(n):\n",
    "        start.append(intervals[i][0])\n",
    "        end.append(intervals[i][1])\n",
    "    \n",
    "    for j in range(n):\n",
    "        if start[j] >= end[endindex]:\n",
    "            endindex += 1\n",
    "    return j-endindex\n",
    "        \n",
    "    \n",
    "minMeetingRooms(intervals)"
   ]
  },
  {
   "cell_type": "code",
   "execution_count": 389,
   "metadata": {},
   "outputs": [
    {
     "data": {
      "text/plain": [
       "True"
      ]
     },
     "execution_count": 389,
     "metadata": {},
     "output_type": "execute_result"
    }
   ],
   "source": [
    "#addiditive number\n",
    "import itertools\n",
    "num = \"235813\"\n",
    "def isAdditiveNumber(num):\n",
    "    n = len(num)\n",
    "    for i, j in itertools.combinations(range(1, n), 2):\n",
    "        a, b = num[:i], num[i:j]\n",
    "        while j < n:\n",
    "            c = str(int(a) + int(b))\n",
    "            if not num[j:].startswith(c):\n",
    "                break\n",
    "            j = j+len(c)\n",
    "            a,b=b,c\n",
    "        if j==n:\n",
    "            return True\n",
    "    return False\n",
    "            \n",
    "    \n",
    "        \n",
    "            \n",
    "isAdditiveNumber(num)"
   ]
  },
  {
   "cell_type": "code",
   "execution_count": 523,
   "metadata": {},
   "outputs": [
    {
     "name": "stdout",
     "output_type": "stream",
     "text": [
      "[-1, 1, 3, 50, 75, 100]\n"
     ]
    },
    {
     "data": {
      "text/plain": [
       "['0', '2', '4->49', '51->74', '76->99']"
      ]
     },
     "execution_count": 523,
     "metadata": {},
     "output_type": "execute_result"
    }
   ],
   "source": [
    "def findMissingRanges(nums, lower, upper):\n",
    "    nums.insert(0,lower-1)  #inserting lower-1 at zero index\n",
    "    nums.append(upper+1)  #appending upper+1 at last index\n",
    "    print nums\n",
    "    ans = []\n",
    "    for i in range(1,len(nums)):\n",
    "        left,right = nums[i-1],nums[i]\n",
    "        if left!=right-1:\n",
    "            if right-left==2:\n",
    "                ans.append(str(right-1))\n",
    "            else:\n",
    "                ans.append(str(left+1)+\"->\"+str(right-1))\n",
    "    return ans\n",
    "\n",
    "findMissingRanges([1,3,50,75], 0, 99)"
   ]
  },
  {
   "cell_type": "code",
   "execution_count": null,
   "metadata": {},
   "outputs": [],
   "source": [
    "YAHOO\n",
    "\n",
    "#median from steam of data - max/min heap concept\n",
    "#find if two binary trees are same.\n",
    "#longest common subsequence\n",
    "#1) Queues with stacks, 2) permutations of a given string 3) grammar checker \n",
    "#1) Given an array of increasing and decreasing number find the max number in best complexity \n",
    "#2) find if the given two strings are interleaving of other third string.\n",
    "#Given a single linked list , how would you find the middle of the linked list?  \n",
    "#binary search tree - common ancestor.\n",
    "#Merge arrays in order.  \n",
    "#remove duplicates from un/sorted array.\n",
    "#biz buz problem, tic tac toe, reverse linked list  \n",
    "\n",
    "Java and databases.\n",
    "Read through github anti mail datesets\n"
   ]
  },
  {
   "cell_type": "code",
   "execution_count": null,
   "metadata": {},
   "outputs": [],
   "source": [
    "'''\n",
    "Given an input string and ordering string, need to return true if the ordering string is present in Input string. \n",
    "input = \"hello world!\" \n",
    "ordering = \"hlo!\" \n",
    "result = FALSE (all Ls are not before all Os) \n",
    "input = \"hello world!\" \n",
    "ordering = \"he!\" \n",
    "result = TRUE \n",
    "'''"
   ]
  },
  {
   "cell_type": "code",
   "execution_count": null,
   "metadata": {},
   "outputs": [],
   "source": [
    "'''\n",
    "Add a third dimension of time to a hashmap , so ur hashmap will look something like this - \n",
    "HashMap<K, t, V> where t is a float value. Implement the get and put methods to this map. \n",
    "The get method should be something like - map.get(K,t) which should give us the value. \n",
    "If t does not exists then map should return the closest t' such that t' is smaller than t. \n",
    "For example, if map contains (K,1,V1) and (K,2,V2) and the user does a get(k,1.5) \n",
    "then the output should be v1 as 1 is the next smallest number to 1.5\n",
    "'''\n"
   ]
  },
  {
   "cell_type": "markdown",
   "metadata": {},
   "source": [
    "##UBER  GLASSDOOR AND CAREERCUP"
   ]
  },
  {
   "cell_type": "code",
   "execution_count": 40,
   "metadata": {},
   "outputs": [
    {
     "data": {
      "text/plain": [
       "'e'"
      ]
     },
     "execution_count": 40,
     "metadata": {},
     "output_type": "execute_result"
    }
   ],
   "source": [
    "def findTheDifference(s, t):\n",
    "    a = list(s)\n",
    "    b = list(t)\n",
    "    for i in a:\n",
    "        if len(a)!=0 and i in b:\n",
    "            b.remove(i)\n",
    "    return \"\".join(b)\n",
    "\n",
    "findTheDifference(\"abcd\", \"abcde\")"
   ]
  },
  {
   "cell_type": "code",
   "execution_count": 164,
   "metadata": {},
   "outputs": [
    {
     "data": {
      "text/plain": [
       "False"
      ]
     },
     "execution_count": 164,
     "metadata": {},
     "output_type": "execute_result"
    }
   ],
   "source": [
    "#write code for this function matchstr() given \"ab\" in a(1)b(1) ---> true \n",
    "#\"z\" in a(4)b(4) --> false \"aaaa\" in a(3)b(3) ---> false \"aab\" in a(3)b(3) ---> true \"aaba\" in a(3)b(3) ---> true\n",
    "\n",
    "\n",
    "def matchstr(s,p):\n",
    "    patdic,strdic ={},{}\n",
    "    result=[]\n",
    "    count = 1\n",
    "    last = s[0]\n",
    "    for j in s[1:]:\n",
    "        if j==last:\n",
    "            count +=1\n",
    "        else:\n",
    "            result.append(last + `count`)\n",
    "            count = 1\n",
    "            last = j\n",
    "    result.append(last + `count`)\n",
    "    st= ''.join(result)\n",
    "    for i in range(len(st)):\n",
    "        if st[i-1]==p[i-1] and st[i] < p[i]:\n",
    "            return True\n",
    "        else:\n",
    "            return False\n",
    "matchstr('aab','a3b3')\n"
   ]
  },
  {
   "cell_type": "code",
   "execution_count": 114,
   "metadata": {},
   "outputs": [
    {
     "data": {
      "text/plain": [
       "240"
      ]
     },
     "execution_count": 114,
     "metadata": {},
     "output_type": "execute_result"
    }
   ],
   "source": [
    "def numsquares(n,m):\n",
    "    sum=0\n",
    "    if (m!=0 and n!=0):\n",
    "        sum = n*m+numsquares(n-1,m-1)\n",
    "    return sum\n",
    "    \n",
    "numsquares(8,9)"
   ]
  },
  {
   "cell_type": "code",
   "execution_count": null,
   "metadata": {},
   "outputs": [],
   "source": [
    "'''\n",
    "meeting rooms\n",
    "Given an array of meeting time intervals consisting of start and end times [[s1,e1],[s2,e2],...] (si < ei), \n",
    "determine if a person could attend all meetings.\n",
    "For example, Given [[0, 30],[5, 10],[15, 20]], return false.\n",
    "'''\n"
   ]
  },
  {
   "cell_type": "code",
   "execution_count": null,
   "metadata": {},
   "outputs": [],
   "source": [
    "146\tLRU Cache\n",
    "139\tWord Break\n",
    "10\tRegular Expression Matchin\n",
    "297\tSerialize and Deserialize Binary Tre\n",
    "36\tValid Sudok\n",
    "54\tSpiral Matrix\n",
    "17\tLetter Combinations of a Phone Number\n",
    "49\tGroup Anagrams\n",
    "262\tTrips and User\n",
    "290\tWord Patter\n",
    "91\tDecode Ways\n",
    "13\tRoman to Intege\n",
    "138\tCopy List with Random Pointe\n",
    "39\tCombination Sum\t\n",
    "1\tTwo Sum\n",
    "186\tReverse Words in a String II\n",
    "380\tInsert Delete GetRandom O(1\n",
    "291\tWord Pattern II\n",
    "22\tGenerate Parentheses\n",
    "24\tSwap Nodes in Pair\n",
    "254\tFactor Combinations \n",
    "230\tKth Smallest Element in a BST\n",
    "208\tImplement Trie (Prefix Tree)\n",
    "133\tClone Graph\n",
    "76\tMinimum Window Substrin\n",
    "23\tMerge k Sorted List\n",
    "202\tHappy Numbe\n",
    "37\tSudoku Solve\n",
    "206\tReverse Linked Lis\n",
    "242\tValid Anagra\n",
    "249\tGroup Shifted Strings\n",
    "125\tValid Palindrom\n",
    "33\tSearch in Rotated Sorted Arra\n",
    "140\tWord Break I\n",
    "104\tMaximum Depth of Binary Tre\n",
    "161\tOne Edit Distance\n",
    "337\tHouse Robber III\n",
    "8\tString to Integer (atoi)\n",
    "121\tBest Time to Buy and Sell Stoc\n",
    "266\tPalindrome Permutation\n",
    "78\tSubsets\n",
    "373\tFind K Pairs with Smallest Sums\n",
    "171\tExcel Sheet Column Numbe\n",
    "155\tMin Stac"
   ]
  },
  {
   "cell_type": "code",
   "execution_count": 197,
   "metadata": {},
   "outputs": [
    {
     "name": "stdout",
     "output_type": "stream",
     "text": [
      "[False, False, False, False, False, False, False, False] False\n",
      "[False, False, False, False, False, False, False, False] False\n",
      "[False, False, False, False, False, False, False, False] False\n",
      "[False, False, False, False, False, False, False, False] False\n",
      "[False, False, False, False, False, False, False, False] False\n",
      "[False, False, False, False, False, False, False, False] False\n",
      "[False, False, False, False, False, False, False, False] False\n",
      "[False, False, False, True, False, False, False, False] False\n",
      "[False, False, False, True, False, False, False, False] False\n",
      "[False, False, False, True, False, False, False, False] False\n",
      "[False, False, False, True, False, False, False, False] False\n",
      "[False, False, False, True, False, False, False, False] False\n",
      "[False, False, False, True, False, False, False, False] False\n",
      "[False, False, False, True, False, False, False, False] False\n",
      "[False, False, False, True, False, False, False, False] True\n",
      "[False, False, False, True, False, False, False, False] True\n",
      "True\n"
     ]
    }
   ],
   "source": [
    "#wordbreak in dp\n",
    "\n",
    "def word_break(s, words):\n",
    "    d = [False] * len(s)\n",
    "    for i in range(len(s)):\n",
    "        for w in words:\n",
    "            print d,d[i-len(w)]\n",
    "            if w == s[i-len(w)+1:i+1] and (d[i-len(w)] or i-len(w) == -1):\n",
    "                d[i] = True\n",
    "    print d[-1]\n",
    "\n",
    "\n",
    "word_break(\"leetcode\",[\"leet\", \"code\"])"
   ]
  },
  {
   "cell_type": "code",
   "execution_count": 148,
   "metadata": {},
   "outputs": [
    {
     "data": {
      "text/plain": [
       "True"
      ]
     },
     "execution_count": 148,
     "metadata": {},
     "output_type": "execute_result"
    }
   ],
   "source": [
    "'''\n",
    "Regular expression matching\n",
    "'.' Matches any single character.\n",
    "'*' Matches zero or more of the preceding element.\n",
    "\n",
    "The matching should cover the entire input string (not partial).\n",
    "\n",
    "The function prototype should be:\n",
    "bool isMatch(const char *s, const char *p)\n",
    "\n",
    "Some examples:\n",
    "isMatch(\"aa\",\"a\") → false\n",
    "isMatch(\"aa\",\"aa\") → true\n",
    "isMatch(\"aaa\",\"aa\") → false\n",
    "isMatch(\"aa\", \"a*\") → true\n",
    "isMatch(\"aa\", \".*\") → true\n",
    "isMatch(\"ab\", \".*\") → true\n",
    "isMatch(\"aab\", \"c*a*b\") → true\n",
    "'''\n",
    "def isMatch(s,p):\n",
    "    dp = [[False] * (len(s) + 1) for _ in range(len(p) + 1)]\n",
    "    dp[0][0] = True\n",
    "    for i in range(1, len(p)):\n",
    "        dp[i + 1][0] = dp[i - 1][0] and p[i] == '*'\n",
    "    for i in range(len(p)):\n",
    "        for j in range(len(s)):\n",
    "            if p[i] == '*':\n",
    "                dp[i + 1][j + 1] = dp[i - 1][j + 1] or dp[i][j + 1]\n",
    "                if p[i - 1] == s[j] or p[i - 1] == '.':\n",
    "                    dp[i + 1][j + 1] |= dp[i + 1][j]\n",
    "            else:\n",
    "                dp[i + 1][j + 1] = dp[i][j] and (p[i] == s[j] or p[i] == '.')\n",
    "    return dp[-1][-1]\n",
    "\n",
    "isMatch(\"abbb\", \"ab*\")"
   ]
  },
  {
   "cell_type": "code",
   "execution_count": 137,
   "metadata": {},
   "outputs": [],
   "source": [
    "#Insert Delete get random in o(1)\n",
    "import random\n",
    "class RandomizedSet(object):\n",
    "\n",
    "    def __init__(self):\n",
    "        self.nums, self.pos = [], {}\n",
    "        \n",
    "    def insert(self, val):\n",
    "        if val not in self.pos:\n",
    "            self.nums.append(val)\n",
    "            self.pos[val] = len(self.nums) - 1\n",
    "            return True\n",
    "        return False\n",
    "        \n",
    "\n",
    "    def remove(self, val):\n",
    "        if val in self.pos:\n",
    "            idx, last = self.pos[val], self.nums[-1]\n",
    "            self.nums[idx], self.pos[last] = last, idx\n",
    "            self.nums.pop(); self.pos.pop(val, 0)\n",
    "            return True\n",
    "        return False\n",
    "            \n",
    "    def getRandom(self):\n",
    "        return self.nums[random.randint(0, len(self.nums) - 1)]\n"
   ]
  },
  {
   "cell_type": "code",
   "execution_count": 60,
   "metadata": {},
   "outputs": [],
   "source": [
    "'''297. Serialize and Deserialize Binary Tree  \n",
    "Serialization is the process of converting a data structure or object into a sequence of bits so that it can be stored in a file \n",
    "or memory buffer, or transmitted across a network connection link to be reconstructed later in the same or another computer environment.\n",
    "\n",
    "Design an algorithm to serialize and deserialize a binary tree. \n",
    "There is no restriction on how your serialization/deserialization algorithm should work. \n",
    "You just need to ensure that a binary tree can be serialized to a string and this string can be deserialized to the original tree structure.\n",
    "\n",
    "For example, you may serialize the following tree\n",
    "\n",
    "    1\n",
    "   / \\\n",
    "  2   3\n",
    "     / \\\n",
    "    4   5\n",
    "as \"[1,2,3,null,null,4,5]\", just the same as how LeetCode OJ serializes a binary tree. You do not necessarily need to follow this format, \n",
    "so please be creative and come up with different approaches yourself.\n",
    "Note: Do not use class member/global/static variables to store states. Your serialize and deserialize algorithms should be stateless.\n",
    "'''\n",
    "\n",
    "\n",
    "def serialize(self, root):\n",
    "    preorder = ''\n",
    "    if not root:\n",
    "        preorder += ',None'\n",
    "        return preorder\n",
    "    preorder += ','+str(root.val)\n",
    "    preorder += self.serialize(root.left)\n",
    "    preorder += self.serialize(root.right)\n",
    "    return preorder\n",
    "\n",
    "def deserialize(self, encode_data):\n",
    "    pos = -1\n",
    "    data = encode_data[1:].split(',')\n",
    "    for i in xrange(len(data)):\n",
    "        if data[i] == 'None':\n",
    "            data[i] = None\n",
    "        else:\n",
    "            data[i] = int(data[i])\n",
    "    root, count = self.buildTree(data, pos)\n",
    "    return root\n",
    "    \n",
    "def buildTree(self, data, pos):\n",
    "    pos += 1\n",
    "    if pos >= len(data) or data[pos]==None:\n",
    "        return None, pos\n",
    "        \n",
    "    root = TreeNode(data[pos])\n",
    "    root.left, pos = self.buildTree(data, pos)\n",
    "    root.right, pos = self.buildTree(data, pos)\n",
    "    return root, pos"
   ]
  },
  {
   "cell_type": "code",
   "execution_count": 183,
   "metadata": {},
   "outputs": [
    {
     "data": {
      "text/plain": [
       "True"
      ]
     },
     "execution_count": 183,
     "metadata": {},
     "output_type": "execute_result"
    }
   ],
   "source": [
    "#valid sudoko\n",
    "'''\n",
    "Thinking:\n",
    "The brute force algorithm is creating the hash-tables to detect the existed number.\n",
    "for each item, we need to check the col, row and the squares(3*3).\n",
    "so we need totally 9 hashtables for the col, 9 hashtables for the row and 9 hashtables for the squares\n",
    "we can optimize both the hashtables and hash function by the fact that value of each item is\n",
    "{0,1,2 ... ,9}. (i.e. we could use nth bit denote whether n exist)\n",
    "'''\n"
   ]
  },
  {
   "cell_type": "code",
   "execution_count": 203,
   "metadata": {},
   "outputs": [
    {
     "name": "stdout",
     "output_type": "stream",
     "text": [
      "[('8', 1), (0, '8'), (0, 0, '8'), ('7', 2), (0, '7'), (0, 0, '7'), ('6', 3), (0, '6'), (0, 1, '6'), ('5', 4), (0, '5'), (0, 1, '5'), ('4', 5), (0, '4'), (0, 1, '4'), ('3', 6), (0, '3'), (0, 2, '3'), ('2', 7), (0, '2'), (0, 2, '2'), ('1', 8), (0, '1'), (0, 2, '1'), ('2', 0), (1, '2'), (0, 0, '2'), ('3', 0), (2, '3'), (0, 0, '3'), ('4', 0), (3, '4'), (1, 0, '4'), ('5', 0), (4, '5'), (1, 0, '5'), ('6', 0), (5, '6'), (1, 0, '6'), ('7', 0), (6, '7'), (2, 0, '7'), ('8', 0), (7, '8'), (2, 0, '8'), ('9', 0), (8, '9'), (2, 0, '9')]\n"
     ]
    },
    {
     "data": {
      "text/plain": [
       "True"
      ]
     },
     "execution_count": 203,
     "metadata": {},
     "output_type": "execute_result"
    }
   ],
   "source": [
    "def isValidSudoku(board):\n",
    "    list = []\n",
    "    for rowno, row in enumerate(board):\n",
    "        for colno, act in enumerate(row):\n",
    "            if act != '.':\n",
    "                list += [(act,colno),(rowno,act),(rowno/3,colno/3,act)]\n",
    "    return len(list) == len(set(list))\n",
    "    \n",
    "isValidSudoku([\".87654321\",\"2........\",\"3........\",\"4........\",\"5........\",\"6........\",\"7........\",\"8........\",\"9........\"])"
   ]
  },
  {
   "cell_type": "code",
   "execution_count": 159,
   "metadata": {},
   "outputs": [
    {
     "data": {
      "text/plain": [
       "[['tan', 'nat'], ['bat'], ['eat', 'tea', 'ate']]"
      ]
     },
     "execution_count": 159,
     "metadata": {},
     "output_type": "execute_result"
    }
   ],
   "source": [
    "#group anagrams\n",
    "from collections import defaultdict\n",
    "def groupAnagrams(s):\n",
    "    d = defaultdict(list)\n",
    "    for i in s:\n",
    "        sors = ''.join(sorted(i))\n",
    "        d[sors].append(i)\n",
    "    return d.values()\n",
    "    \n",
    "    \n",
    "groupAnagrams([\"eat\", \"tea\", \"tan\", \"ate\", \"nat\", \"bat\"])"
   ]
  },
  {
   "cell_type": "code",
   "execution_count": 59,
   "metadata": {},
   "outputs": [
    {
     "data": {
      "text/plain": [
       "[1, 2, 3, 6, 9, 8, 7, 4, 5]"
      ]
     },
     "execution_count": 59,
     "metadata": {},
     "output_type": "execute_result"
    }
   ],
   "source": [
    "def spiralOrder(matrix):\n",
    "    if not matrix or not matrix[0]:\n",
    "        return []\n",
    "    ans = []\n",
    "    m, n = len(matrix), len(matrix[0])\n",
    "    u, d, l, r = 0, m - 1, 0, n - 1\n",
    "    while l < r and u < d:\n",
    "        ans.extend([matrix[u][j] for j in xrange(l, r)])\n",
    "        ans.extend([matrix[i][r] for i in xrange(u, d)])\n",
    "        ans.extend([matrix[d][j] for j in xrange(r, l, -1)])\n",
    "        ans.extend([matrix[i][l] for i in xrange(d, u, -1)])\n",
    "        u, d, l, r = u + 1, d - 1, l + 1, r - 1\n",
    "    if l == r:\n",
    "        ans.extend([matrix[i][r] for i in xrange(u, d + 1)])\n",
    "    elif u == d:\n",
    "        ans.extend([matrix[u][j] for j in xrange(l, r + 1)])\n",
    "    return ans\n",
    "\n",
    "matrix=[\n",
    " [ 1, 2, 3 ],\n",
    " [ 4, 5, 6 ],\n",
    " [ 7, 8, 9 ]\n",
    "]   \n",
    "spiralOrder(matrix)"
   ]
  },
  {
   "cell_type": "code",
   "execution_count": 57,
   "metadata": {},
   "outputs": [
    {
     "data": {
      "text/plain": [
       "False"
      ]
     },
     "execution_count": 57,
     "metadata": {},
     "output_type": "execute_result"
    }
   ],
   "source": [
    "'''\n",
    "word pattern\n",
    "Given a pattern and a string str, find if str follows the same pattern.\n",
    "Here follow means a full match, such that there is a bijection between a letter in pattern \n",
    "and a non-empty word in str.\n",
    "pattern = \"abba\", str = \"dog cat cat dog\" should return true.\n",
    "pattern = \"abba\", str = \"dog cat cat fish\" should return false.\n",
    "'''\n",
    "def wordPattern(pattern, str):\n",
    "    list=str.split(\" \")\n",
    "    dic={}\n",
    "    if len(pattern)!=len(list):\n",
    "        return False\n",
    "    k = zip(pattern,list)\n",
    "    for i in k:\n",
    "        if i[0] not in dic:\n",
    "            if i[1] in dic.values():\n",
    "                return False\n",
    "            dic[i[0]]=i[1]\n",
    "        elif dic[i[0]]!=i[1]:\n",
    "            return False\n",
    "        \n",
    "\n",
    "pattern = \"abba\"\n",
    "str = \"dog dog dog dog\"\n",
    "wordPattern(pattern, str)"
   ]
  },
  {
   "cell_type": "code",
   "execution_count": null,
   "metadata": {},
   "outputs": [],
   "source": [
    "#Trips and Users SQL\n",
    "\n",
    "SELECT Trips.Request_at Day,\n",
    "       round(sum(if(status != 'completed', 1, 0)) / sum(1), 2) 'Cancellation Rate'\n",
    "FROM Trips\n",
    "JOIN Users\n",
    "  ON Trips.Client_Id = Users.Users_Id\n",
    "WHERE Users.Banned = 'No' \n",
    "  AND Trips.Request_at between '2013-10-01' AND '2013-10-03'   \n",
    "GROUP BY Trips.Request_at"
   ]
  },
  {
   "cell_type": "code",
   "execution_count": 255,
   "metadata": {},
   "outputs": [
    {
     "data": {
      "text/plain": [
       "[[2, 2, 3], [7]]"
      ]
     },
     "execution_count": 255,
     "metadata": {},
     "output_type": "execute_result"
    }
   ],
   "source": [
    "#combination sum\n",
    "\n",
    "def combinationSum(candidates, target):\n",
    "    res =[]\n",
    "    dfs(candidates,target,0,[],res)\n",
    "    return res\n",
    "\n",
    "def dfs(list,target,ind,path,res):\n",
    "    if target <0:\n",
    "        return\n",
    "    if target==0:\n",
    "        res.append(path)\n",
    "        return\n",
    "    for i in range(ind,len(list)):\n",
    "        dfs(list,target-list[i],i,path+[list[i]],res)\n",
    "    \n",
    "    \n",
    "candidates=[2, 6, 3, 7]\n",
    "target= 7\n",
    "combinationSum(candidates, target)"
   ]
  },
  {
   "cell_type": "code",
   "execution_count": 236,
   "metadata": {},
   "outputs": [
    {
     "name": "stdout",
     "output_type": "stream",
     "text": [
      "[1, 1, 1, 1, 1] 1\n",
      "[1, 1, 2, 1, 1] 2\n",
      "[1, 1, 2, 2, 1] 3\n",
      "[1, 1, 2, 2, 4] 4\n"
     ]
    },
    {
     "data": {
      "text/plain": [
       "4"
      ]
     },
     "execution_count": 236,
     "metadata": {},
     "output_type": "execute_result"
    }
   ],
   "source": [
    "#Decode ways\n",
    "\n",
    "def numDecodings(s):\n",
    "        r = [1 for x in range(len(s) + 1)]\n",
    "        for i in range(1, len(s) + 1):\n",
    "            if s[i-1] != \"0\" :\n",
    "                r[i] = r[i-1] \n",
    "            else:\n",
    "                0\n",
    "            if i-2 >= 0 and 9 < int(s[i-2:i]) <= 26 :\n",
    "                r[i] += r[i-2] \n",
    "            else:\n",
    "                0\n",
    "            print r,i\n",
    "        if len(r) > 1:\n",
    "            return r[-1] \n",
    "        else:\n",
    "            0\n",
    "            \n",
    "numDecodings(\"2626\")"
   ]
  },
  {
   "cell_type": "code",
   "execution_count": 13,
   "metadata": {},
   "outputs": [
    {
     "data": {
      "text/plain": [
       "5275"
      ]
     },
     "execution_count": 13,
     "metadata": {},
     "output_type": "execute_result"
    }
   ],
   "source": [
    "import math\n",
    "def countNumbersWithUniqueDigits(n):\n",
    "    sum = 10\n",
    "    if n == 0:\n",
    "        return 1\n",
    "    if n == 1:\n",
    "        return sum\n",
    "    for i in range(2,n+1):\n",
    "        sum = sum+((9*(math.factorial(9)))/math.factorial(10-i))\n",
    "    return sum\n",
    "countNumbersWithUniqueDigits(4)"
   ]
  },
  {
   "cell_type": "code",
   "execution_count": 16,
   "metadata": {},
   "outputs": [
    {
     "data": {
      "text/plain": [
       "5275"
      ]
     },
     "execution_count": 16,
     "metadata": {},
     "output_type": "execute_result"
    }
   ],
   "source": [
    "#DP SOLUTION.\n",
    "def countNumbersWithUniqueDigits(n):\n",
    "    pre = 10\n",
    "    sum = 9\n",
    "    if (n == 0):\n",
    "        return 1\n",
    "    for i in range(2,n+1):\n",
    "        sum *= 9-i+2\n",
    "        pre += sum\n",
    "    return pre\n",
    "countNumbersWithUniqueDigits(4)"
   ]
  },
  {
   "cell_type": "code",
   "execution_count": 39,
   "metadata": {},
   "outputs": [
    {
     "data": {
      "text/plain": [
       "True"
      ]
     },
     "execution_count": 39,
     "metadata": {},
     "output_type": "execute_result"
    }
   ],
   "source": [
    "#HAppy number\n",
    "def isHappy(n):\n",
    "    if n > 4:\n",
    "        return isHappy(sum([int(i) ** 2 for i in str(n)])) \n",
    "    else:\n",
    "        return n == 1\n",
    "isHappy(82)\n"
   ]
  },
  {
   "cell_type": "code",
   "execution_count": 17,
   "metadata": {},
   "outputs": [
    {
     "data": {
      "text/plain": [
       "1"
      ]
     },
     "execution_count": 17,
     "metadata": {},
     "output_type": "execute_result"
    }
   ],
   "source": [
    "def singleNumber(nums):\n",
    "    return reduce(lambda x,y:x^y,nums)\n",
    "    \n",
    "singleNumber([1,2,2,3,4,5,5,4,3]) "
   ]
  },
  {
   "cell_type": "code",
   "execution_count": 202,
   "metadata": {},
   "outputs": [
    {
     "name": "stdout",
     "output_type": "stream",
     "text": [
      "{'a': 0} 1 start 0 0\n",
      "{'a': 0, 'b': 1} 2 start 0 1\n",
      "{'a': 0, 'c': 2, 'b': 1} 3 start 0 2\n",
      "{'a': 3, 'c': 2, 'b': 1} 3 start 1 3\n",
      "{'a': 3, 'c': 2, 'b': 4} 3 start 2 4\n",
      "{'a': 3, 'c': 5, 'b': 4} 3 start 3 5\n",
      "{'a': 6, 'c': 5, 'b': 4} 3 start 4 6\n",
      "{'a': 6, 'c': 5, 'b': 7} 3 start 5 7\n",
      "{'a': 6, 'c': 5, 'b': 7, 'g': 8} 4 start 5 8\n",
      "{'a': 6, 'h': 9, 'c': 5, 'b': 7, 'g': 8} 5 start 5 9\n"
     ]
    },
    {
     "data": {
      "text/plain": [
       "5"
      ]
     },
     "execution_count": 202,
     "metadata": {},
     "output_type": "execute_result"
    }
   ],
   "source": [
    "#length of longest substring without repetition \n",
    "\n",
    "def lengthOfLongestSubstring(s):\n",
    "    char={}\n",
    "    start = maxstr =0\n",
    "    for i,c in enumerate(s): \n",
    "        if c in char and char[c]>=start:\n",
    "            start=char[c]+1\n",
    "            char[c]=i\n",
    "        else:\n",
    "            char[c]=i\n",
    "            maxstr = max(maxstr,i-start+1)\n",
    "        print char,maxstr,\"start\",start,char[c]\n",
    "    return maxstr\n",
    "        \n",
    "lengthOfLongestSubstring(\"abcabcabgh\")"
   ]
  },
  {
   "cell_type": "code",
   "execution_count": null,
   "metadata": {},
   "outputs": [],
   "source": [
    "#Smallest sub string that contains all characters in a given string \n",
    "\n",
    "Method 1 ( Brute force solution )\n",
    "a) Generate all substrings of string1 (“this is a test string”)\n",
    "b) For each substring, check whether the substring contains all characters of string2 (“tist”)\n",
    "c) Finally print the smallest substring containing all characters of string2.\n",
    "\n",
    "\n",
    "Method 2 ( Efficient Solution )\n",
    "1) Build a count array count[] for string 2. The count array stores counts of characters.\n",
    "count[‘i’] = 1\n",
    "count[‘t’] = 2\n",
    "count[‘s’] = 1\n",
    "\n",
    "2) Scan the string1 from left to right until we find all the characters of string2. To check if all the characters are there, use count[] built in step 1. So we have substring “this is a t” containing all characters of string2. Note that the first and last characters of the substring must be present in string2. Store the length of this substring as min_len.\n",
    "\n",
    "3) Now move forward in string1 and keep adding characters to the substring “this is a t”. Whenever a character is added, check if the added character matches the left most character of substring. If matches, then add the new character to the right side of substring and remove the leftmost character and all other extra characters after left most character. After removing the extra characters, get the length of this substring and compare with min_len and update min_len accordingly.\n",
    "\n",
    "Basically we add ‘e’ to the substring “this is a t”, then add ‘s’ and then’t’. ‘t’ matches the left most character, so remove ‘t’ and ‘h’ from the left side of the substring. So our current substring becomes “is a test”. Compare length of it with min_len and update min_len.\n",
    "Again add characters to current substring “is a test”. So our string becomes “is a test str”. When we add ‘i’, we remove leftmost extra characters, so current substring becomes “t stri”. Again, compare length of it with min_len and update min_len. Finally add ‘n’ and ‘g’. Adding these characters doesn’t decrease min_len, so the smallest window remains “t stri”.\n",
    "\n",
    "4) Return min_len.\n",
    "\n",
    "\n"
   ]
  },
  {
   "cell_type": "code",
   "execution_count": 59,
   "metadata": {},
   "outputs": [
    {
     "data": {
      "text/plain": [
       "5"
      ]
     },
     "execution_count": 59,
     "metadata": {},
     "output_type": "execute_result"
    }
   ],
   "source": [
    "#wordladder\n",
    "\n",
    "import collections\n",
    "def ladderLength(beginWord, endWord, wordList):\n",
    "        wordList.append(endWord)\n",
    "        queue = collections.deque([[beginWord, 1]])\n",
    "        while queue:\n",
    "            word, length = queue.popleft()\n",
    "            if word == endWord:\n",
    "                return length\n",
    "            for i in range(len(word)):\n",
    "                for c in 'abcdefghijklmnopqrstuvwxyz':\n",
    "                    next_word = word[:i] + c + word[i+1:]\n",
    "                    if next_word in wordList:\n",
    "                        wordList.remove(next_word)\n",
    "                        queue.append([next_word, length + 1])\n",
    "        return 0\n",
    "    \n",
    "ladderLength(\"hit\",\"cog\",[\"hot\",\"dot\",\"dog\",\"lot\",\"log\"])"
   ]
  },
  {
   "cell_type": "code",
   "execution_count": 124,
   "metadata": {},
   "outputs": [
    {
     "name": "stdout",
     "output_type": "stream",
     "text": [
      "[0] 1 0\n",
      "[0] 2 0\n",
      "[0] 3 0\n",
      "[0] 4 0\n",
      "[0, 4] 5 4\n",
      "[0, 4] 5 0\n",
      "[0, 4] 6 4\n",
      "[0, 4] 6 0\n",
      "[0, 4] 7 4\n",
      "[0, 4] 7 0\n",
      "[0, 4] 8 4\n"
     ]
    },
    {
     "data": {
      "text/plain": [
       "True"
      ]
     },
     "execution_count": 124,
     "metadata": {},
     "output_type": "execute_result"
    }
   ],
   "source": [
    "# word break:Given a string s and a dictionary of words dict, determine if s can be segmented into a \n",
    "#space-separated sequence of one or more dictionary words.\n",
    "\n",
    "def wordBreak(s, wordDict):\n",
    "    le = len(s)\n",
    "    ans=[0]\n",
    "    for i in range(1,le+1):\n",
    "        for j in reversed(ans):\n",
    "            print ans,i,j\n",
    "            if s[j:i] in wordDict:\n",
    "                ans.append(i)\n",
    "                break\n",
    "    return ans[-1]==le #checking length till end of the s\n",
    " \n",
    "wordBreak(\"leetcode\", [\"leet\",\"code\"])"
   ]
  },
  {
   "cell_type": "markdown",
   "metadata": {},
   "source": [
    "#Trees and graphs-DFS AND BFS "
   ]
  },
  {
   "cell_type": "code",
   "execution_count": 213,
   "metadata": {},
   "outputs": [
    {
     "name": "stdout",
     "output_type": "stream",
     "text": [
      "0 \n",
      "2 \n",
      "3 \n",
      "4 \n",
      "8 \n",
      "3\n",
      "None\n"
     ]
    }
   ],
   "source": [
    "#Binary tree implementation:\n",
    "\n",
    "class Node:\n",
    "    def __init__(self, val):\n",
    "        self.v = val\n",
    "        self.l = None\n",
    "        self.r = None\n",
    "\n",
    "class Tree:\n",
    "    def __init__(self):\n",
    "        self.root = None\n",
    "\n",
    "    def getRoot(self):\n",
    "        return self.root\n",
    "\n",
    "    def add(self, val):\n",
    "        if(self.root == None):\n",
    "            self.root = Node(val)\n",
    "        else:\n",
    "            self._add(val, self.root)\n",
    "\n",
    "    def _add(self, val, node):\n",
    "        if(val < node.v):\n",
    "            if(node.l != None):\n",
    "                self._add(val, node.l)\n",
    "            else:\n",
    "                node.l = Node(val)\n",
    "        else:\n",
    "            if(node.r != None):\n",
    "                self._add(val, node.r)\n",
    "            else:\n",
    "                node.r = Node(val)\n",
    "\n",
    "    def find(self, val):\n",
    "        if(self.root != None):\n",
    "            return self._find(val, self.root)\n",
    "        else:\n",
    "            return None\n",
    "\n",
    "    def _find(self, val, node):\n",
    "        if(val == node.v):\n",
    "            return node\n",
    "        elif(val < node.v and node.l != None):\n",
    "            self._find(val, node.l)\n",
    "        elif(val > node.v and node.r != None):\n",
    "            self._find(val, node.r)\n",
    "\n",
    "    def deleteTree(self):\n",
    "        # garbage collector will do this for us. \n",
    "        self.root = None\n",
    "\n",
    "    def printTree(self):\n",
    "        if(self.root != None):\n",
    "            self._printTree(self.root)\n",
    "\n",
    "    def _printTree(self, node):\n",
    "        if(node != None):\n",
    "            self._printTree(node.l)\n",
    "            print str(node.v) + ' '\n",
    "            self._printTree(node.r)\n",
    "            \n",
    "#     3\n",
    "# 0     4\n",
    "#   2      8\n",
    "tree = Tree()\n",
    "tree.add(3)\n",
    "tree.add(4)\n",
    "tree.add(0)\n",
    "tree.add(8)\n",
    "tree.add(2)\n",
    "tree.printTree()\n",
    "print (tree.find(3)).v\n",
    "print tree.find(10)\n",
    "tree.deleteTree()\n",
    "tree.printTree()"
   ]
  },
  {
   "cell_type": "code",
   "execution_count": null,
   "metadata": {},
   "outputs": [],
   "source": [
    "#112. path sum\n",
    "# Definition for a binary tree node.\n",
    "# class TreeNode(object):\n",
    "#     def __init__(self, x):\n",
    "#         self.val = x\n",
    "#         self.left = None\n",
    "#         self.right = None\n",
    "\n",
    "class Solution(object):\n",
    "    def hasPathSum(self, root, sum):\n",
    "        if root==None:\n",
    "            return False\n",
    "        elif sum-root.val==0 and root.left==None and root.right==None:\n",
    "            return True\n",
    "        return self.hasPathSum(root.left,sum-root.val) or self.hasPathSum(root.right,sum-root.val)"
   ]
  },
  {
   "cell_type": "code",
   "execution_count": null,
   "metadata": {},
   "outputs": [],
   "source": [
    "#max path sum binary tree\n",
    "class Solution(object):\n",
    "    def maxPathSum(self, root):\n",
    "        self.maxval=None\n",
    "        self.dfs(root)\n",
    "        return self.maxval\n",
    "    \n",
    "    def dfs(self,node):\n",
    "        if not node:\n",
    "            return 0\n",
    "        left=self.dfs(node.left)\n",
    "        right=self.dfs(node.right)\n",
    "        self.maxval=max(self.maxval,left+node.val+right)\n",
    "        return max(node.val+max(left,right),0)"
   ]
  },
  {
   "cell_type": "code",
   "execution_count": 9,
   "metadata": {},
   "outputs": [
    {
     "name": "stdout",
     "output_type": "stream",
     "text": [
      "A\n",
      "B\n",
      "C\n",
      "D\n",
      "E\n",
      "F\n"
     ]
    }
   ],
   "source": [
    "class graph:\n",
    "    def __init__(self):\n",
    "        self.edges = {} #empty dictionary\n",
    "    def neighbor(self,id):\n",
    "        return self.edges[id]\n",
    "    \n",
    "ex_graph = graph()\n",
    "ex_graph.edges = {'A': ['B', 'C'],\n",
    "         'B': ['A', 'D', 'E'],\n",
    "         'C': ['A', 'F'],\n",
    "         'D': ['B'],\n",
    "         'E': ['B', 'F'],\n",
    "         'F': ['C', 'E']}   \n",
    "\n",
    "import collections\n",
    "class Queue:\n",
    "    def __init__(self):\n",
    "        self.elements = collections.deque()\n",
    "\n",
    "    def empty(self):\n",
    "        return len(self.elements) == 0\n",
    "    \n",
    "    def put(self,x):\n",
    "        self.elements.append(x)\n",
    "    \n",
    "    def get(self):\n",
    "        return self.elements.popleft()\n",
    "        \n",
    "#Breadth first search\n",
    "\n",
    "def BFS(graph,start):\n",
    "    frontier = Queue()\n",
    "    frontier.put(start)\n",
    "    visited ={}  #create an empty dictionary\n",
    "    visited[start] = True\n",
    "    \n",
    "    while not frontier.empty():\n",
    "        current = frontier.get()\n",
    "        print current\n",
    "        for next in graph.neighbor(current):\n",
    "            if next not in visited:\n",
    "                frontier.put(next)\n",
    "                visited[next] = True\n",
    "             \n",
    "BFS(ex_graph,'A')"
   ]
  },
  {
   "cell_type": "code",
   "execution_count": 30,
   "metadata": {},
   "outputs": [
    {
     "name": "stdout",
     "output_type": "stream",
     "text": [
      "['0010', '0110', '0100'] [('0', '0', '0'), ('0', '1', '1'), ('1', '1', '0'), ('0', '0', '0')]\n"
     ]
    }
   ],
   "source": [
    "'''\n",
    "302. Smallest Rectangle Enclosing Black Pixels \n",
    "An image is represented by a binary matrix with 0 as a white pixel and 1 as a black pixel. \n",
    "The black pixels are connected, i.e., there is only one black region. \n",
    "Pixels are connected horizontally and vertically. Given the location (x, y) of one of the black pixels, \n",
    "return the area of the smallest (axis-aligned) rectangle that encloses all black pixels.\n",
    "\n",
    "For example, given the following image:\n",
    "\n",
    "[\n",
    "  \"0010\",\n",
    "  \"0110\",\n",
    "  \"0100\"\n",
    "]\n",
    "and x = 0, y = 2,\n",
    "Return 6.\n",
    "'''\n",
    "\n",
    "Image= [\n",
    "  \"0010\",\n",
    "  \"0110\",\n",
    "  \"0100\"\n",
    "]\n",
    "\n",
    "def minArea2(image, x, y):\n",
    "    print sum('1' in r for r in image) * sum('1' in r for r in zip(*image))\n",
    "    #zip(*image) #transpose of matrix with colums\n",
    "\n",
    "def minArea(image, x, y):\n",
    "    top = search(0, x, lambda mid: '1' in image[mid])\n",
    "    bottom = search(x + 1, len(image), lambda mid: '1' not in image[mid])\n",
    "    left = search(0, y, lambda mid: any(image[k][mid] == '1' for k in xrange(top, bottom)))\n",
    "    right = search(y + 1, len(image[0]), lambda mid: all(image[k][mid] == '0' for k in xrange(top, bottom)))\n",
    "    return (right - left) * (bottom - top)\n",
    "\n",
    "def search(i, j, check):\n",
    "    while i != j:\n",
    "        mid = (i + j) / 2\n",
    "        if check(mid):\n",
    "            j = mid\n",
    "        else:\n",
    "            i = mid + 1\n",
    "    return i\n",
    "\n",
    "minArea2(Image,0,2)\n",
    "#minArea(Image,0,2)"
   ]
  },
  {
   "cell_type": "code",
   "execution_count": 39,
   "metadata": {},
   "outputs": [
    {
     "name": "stdout",
     "output_type": "stream",
     "text": [
      "[['0', '0', '0'], ['0', '1', '1'], ['1', '1', '0'], ['0', '0', '0']]\n"
     ]
    },
    {
     "data": {
      "text/plain": [
       "[('0', '0', '1', '0'), ('0', '1', '1', '0'), ('0', '1', '0', '0')]"
      ]
     },
     "execution_count": 39,
     "metadata": {},
     "output_type": "execute_result"
    }
   ],
   "source": [
    "m= [['0', '0', '0'], ['0', '1', '1'], ['1', '1', '0'], ['0', '0', '0']]\n",
    "print m\n",
    "zip(*m)\n"
   ]
  },
  {
   "cell_type": "code",
   "execution_count": 344,
   "metadata": {},
   "outputs": [
    {
     "name": "stdout",
     "output_type": "stream",
     "text": [
      "[[0, 1, 0, 5, 0], [1, 2, 3, 4, 5], [2, 3, 0, 5, 6]]\n",
      "[[0, 6, 0, 6, 0], [6, 6, 6, 6, 6], [8, 8, 0, 8, 8]]\n",
      "[[0, 9, 0, 9, 0], [9, 8, 7, 8, 9], [10, 9, 0, 9, 10]]\n"
     ]
    },
    {
     "data": {
      "text/plain": [
       "7"
      ]
     },
     "execution_count": 344,
     "metadata": {},
     "output_type": "execute_result"
    }
   ],
   "source": [
    "'''\n",
    "317. Shortest Distance from All Buildings  \n",
    "You want to build a house on an empty land which reaches all buildings in the shortest amount of distance. You can only move up, down, left and right. You are given a 2D grid of values 0, 1 or 2, where:\n",
    "\n",
    "Each 0 marks an empty land which you can pass by freely.\n",
    "Each 1 marks a building which you cannot pass through.\n",
    "Each 2 marks an obstacle which you cannot pass through.\n",
    "For example, given three buildings at (0,0), (0,4), (2,2), and an obstacle at (0,2):\n",
    "\n",
    "1 - 0 - 2 - 0 - 1\n",
    "|   |   |   |   |\n",
    "0 - 0 - 0 - 0 - 0\n",
    "|   |   |   |   |\n",
    "0 - 0 - 1 - 0 - 0\n",
    "The point (1,2) is an ideal empty land to build a house, as the total travel distance of 3+3+1=7 is minimal. So return 7.\n",
    "\n",
    "Note:\n",
    "There will be at least one building. If it is not possible to build such house according to the above rules, return -1.\n",
    "'''\n",
    "import collections\n",
    "def shortestDistance(grid):\n",
    "    \n",
    "    if not grid or not grid[0]: return -1\n",
    "    M, N, buildings = len(grid), len(grid[0]), sum(val for line in grid for val in line if val == 1)\n",
    "    reached, distSum = [[0] * N for i in range(M)], [[0] * N for i in range(M)]\n",
    "    \n",
    "    def BFS(start_x, start_y):\n",
    "        visited = [[False] * N for k in range(M)]\n",
    "        visited[start_x][start_y], level, queue = True, 1, collections.deque([(start_x, start_y, 0)])\n",
    "        while queue:\n",
    "            x, y, dist = queue.popleft()\n",
    "            for i, j in ((x + 1, y), (x - 1, y), (x, y + 1), (x, y - 1)):\n",
    "                if 0 <= i < M and 0 <= j < N and not visited[i][j]:\n",
    "                    visited[i][j] = True\n",
    "                    if not grid[i][j]:\n",
    "                        queue.append((i, j, dist + 1))\n",
    "                        reached[i][j] += 1 #How many time a zero in grid is being reached-should be equal to total no.of buildings.\n",
    "                        distSum[i][j] += dist + 1\n",
    "                    elif grid[i][j] == 1:\n",
    "                        level += 1\n",
    "        print distSum #distance from \"0\" to a closest non-zero in grid. This iterates each time and adds up the distance from all zeros to ones in a grid.\n",
    "        return level == buildings  \n",
    "    \n",
    "    for x in range(M):\n",
    "        for y in range(N):\n",
    "            if grid[x][y] == 1:\n",
    "                if not BFS(x, y): \n",
    "                    return -1\n",
    "    return min([distSum[i][j] for i in range(M) for j in range(N) if not grid[i][j] and reached[i][j] == buildings] or [-1])\n",
    "                    \n",
    "\n",
    "grid=[[1,0,2,0,1],[0,0,0,0,0],[0,0,1,0,0]]\n",
    "shortestDistance(grid)\n"
   ]
  },
  {
   "cell_type": "code",
   "execution_count": 1,
   "metadata": {},
   "outputs": [
    {
     "ename": "SyntaxError",
     "evalue": "Missing parentheses in call to 'print'. Did you mean print('vert: ',vertex)? (<ipython-input-1-e5d90ad77ca6>, line 8)",
     "output_type": "error",
     "traceback": [
      "\u001b[0;36m  File \u001b[0;32m\"<ipython-input-1-e5d90ad77ca6>\"\u001b[0;36m, line \u001b[0;32m8\u001b[0m\n\u001b[0;31m    print 'vert: ',vertex\u001b[0m\n\u001b[0m                 ^\u001b[0m\n\u001b[0;31mSyntaxError\u001b[0m\u001b[0;31m:\u001b[0m Missing parentheses in call to 'print'. Did you mean print('vert: ',vertex)?\n"
     ]
    }
   ],
   "source": [
    "#Depth first search and Breadth first search\n",
    "\n",
    "def DFS(graph,start):#stack\n",
    "    stack = [start]\n",
    "    visited = []\n",
    "    while stack:\n",
    "        vertex = stack.pop()\n",
    "        print 'vert: ',vertex\n",
    "        if vertex not in visited:\n",
    "            visited.append(vertex)\n",
    "            stack.extend(set(graph[vertex]) - set(visited)) \n",
    "            print stack\n",
    "            #removing visted nodes from dic keys to get unvisited vertexes.\n",
    "    return visited\n",
    " \n",
    "def BFS(graph,start):#queue\n",
    "    Q = Queue()\n",
    "    Q.put(start)\n",
    "    visited=[]\n",
    "    while not Q.empty():\n",
    "        curr = Q.get()\n",
    "        if curr not in visited:\n",
    "            visited.append(curr)\n",
    "        neighbors = graph[curr]\n",
    "        for i in neighbors:\n",
    "            if i not in visited:\n",
    "                Q.put(i)\n",
    "    print visited\n",
    "    \n",
    "graph = {'A': ['B', 'C'],\n",
    "         'B': ['A', 'D', 'E'],\n",
    "         'C': ['A', 'F'],\n",
    "         'D': ['B'],\n",
    "         'E': ['B', 'F'],\n",
    "         'F': ['C', 'E']}   \n",
    "\n",
    "print\"DFS: \",DFS(graph, 'A')   \n",
    "print \"BFS: \",BFS(graph, 'A') "
   ]
  },
  {
   "cell_type": "code",
   "execution_count": 2,
   "metadata": {},
   "outputs": [
    {
     "ename": "OSError",
     "evalue": "[Errno 2] No such file or directory: '[path to folder]'",
     "output_type": "error",
     "traceback": [
      "\u001b[0;31m---------------------------------------------------------------------------\u001b[0m\n\u001b[0;31mOSError\u001b[0m                                   Traceback (most recent call last)",
      "\u001b[0;32m<ipython-input-2-91f671228454>\u001b[0m in \u001b[0;36m<module>\u001b[0;34m()\u001b[0m\n\u001b[1;32m      2\u001b[0m \u001b[0mrelevant_path\u001b[0m \u001b[0;34m=\u001b[0m \u001b[0;34m\"[path to folder]\"\u001b[0m\u001b[0;34m\u001b[0m\u001b[0m\n\u001b[1;32m      3\u001b[0m \u001b[0mincluded_extenstions\u001b[0m \u001b[0;34m=\u001b[0m \u001b[0;34m[\u001b[0m\u001b[0;34m'jpg'\u001b[0m\u001b[0;34m,\u001b[0m \u001b[0;34m'bmp'\u001b[0m\u001b[0;34m,\u001b[0m \u001b[0;34m'png'\u001b[0m\u001b[0;34m,\u001b[0m \u001b[0;34m'gif'\u001b[0m\u001b[0;34m]\u001b[0m\u001b[0;34m\u001b[0m\u001b[0m\n\u001b[0;32m----> 4\u001b[0;31m file_names = [fn for fn in os.listdir(relevant_path)\n\u001b[0m\u001b[1;32m      5\u001b[0m               if any(fn.endswith(ext) for ext in included_extenstions)]\n",
      "\u001b[0;31mOSError\u001b[0m: [Errno 2] No such file or directory: '[path to folder]'"
     ]
    }
   ],
   "source": [
    "import os\n",
    "relevant_path = \"[path to folder]\"\n",
    "included_extenstions = ['jpg', 'bmp', 'png', 'gif']\n",
    "file_names = [fn for fn in os.listdir(relevant_path)\n",
    "              if any(fn.endswith(ext) for ext in included_extenstions)]"
   ]
  },
  {
   "cell_type": "code",
   "execution_count": null,
   "metadata": {},
   "outputs": [],
   "source": [
    "def minimum_distance(dist, Q):\n",
    "    for ele in Q:\n",
    "        if ele in dist and dist[ele]!=float(\"inf\"):\n",
    "            return ele\n",
    "    \n",
    "def get_neighbours(graph, u):\n",
    "    return [x[1] for x in graph[1] if u in x]\n",
    "\n",
    "def dist_between(graph, u, vertex):\n",
    "    for a,b,c in graph[1]:\n",
    "        if a==u and b==vertex:\n",
    "            break\n",
    "    return c\n",
    "\n",
    "def dijkstra(graph, source):\n",
    "    vertices, edges = graph\n",
    "    dist = dict()\n",
    "    previous = dict()\n",
    "    for vertex in vertices:\n",
    "        dist[vertex] = float(\"inf\")\n",
    "        previous[vertex] = None\n",
    "    dist[source] = 0\n",
    "    Q = set(vertices)\n",
    "    while len(Q) > 0:\n",
    "        print dist\n",
    "        u = minimum_distance(dist, Q)\n",
    "        print 'u',u\n",
    "        Q.remove(u)\n",
    "        if dist[u] == float('inf'):\n",
    "            break\n",
    "        n = get_neighbours(graph, u)\n",
    "        \n",
    "        for vertex in n:\n",
    "            alt = dist[u] + dist_between(graph, u, vertex)\n",
    "            if alt < dist[vertex]:\n",
    "                dist[vertex] = alt\n",
    "                previous[vertex] = u\n",
    "    return previous\n",
    "\n",
    "graph = ({'A', 'B', 'C', 'D'}, {('A', 'B', 5), ('B', 'A', 5),('B', 'C', 10), ('B', 'D', 6), ('D', 'C', 2)})\n",
    "dijkstra(graph, 'A') \n",
    "\n"
   ]
  },
  {
   "cell_type": "code",
   "execution_count": null,
   "metadata": {},
   "outputs": [],
   "source": [
    "#A* Algorithm\n",
    "import heapq\n",
    "\n",
    "class graph:\n",
    "    def __init__(self):\n",
    "        self.edges = {}\n",
    "    \n",
    "    def neighbor(self,id):\n",
    "        return self.edges[id]\n",
    "    \n",
    "\n",
    "class PriorityQueue:\n",
    "    def __init__(self):\n",
    "        self.elements = []\n",
    "    \n",
    "    def empty(self):\n",
    "        return len(self.elements) == 0\n",
    "    \n",
    "    def put(self, item, priority):\n",
    "        heapq.heappush(self.elements, (priority, item))\n",
    "    \n",
    "    def get(self):\n",
    "        return heapq.heappop(self.elements)[1]\n",
    "    \n",
    "def heuristic(a,b):\n",
    "    (x1,y1) = a\n",
    "    (x2,y2) = b\n",
    "    return abs(x1-x2) + abs(y1-y2)\n",
    "\n",
    "def a_star(start,graph,goal):\n",
    "    frontier = PriorityQueue()\n",
    "    frontier.put(start,0)\n",
    "    cost_so_far = {}\n",
    "    came_from = {}\n",
    "    cost_so_far[start] = 0\n",
    "    came_from[start] = None\n",
    "    \n",
    "    while not frontier.empty():\n",
    "        current = frontier.get()\n",
    "        if current == goal:\n",
    "            break\n",
    "        for next in graph.neighbor(current):\n",
    "            new_cost = cost_so_far[current] + graph.cost(current,next)\n",
    "            if next not in cost_so_far or new_cost < cost_so_far[next]:\n",
    "                cost_so_far[next] = new_cost\n",
    "                priority = new_cost + heuristic(goal,next)\n",
    "                frontier.put(next,priority)\n",
    "                came_from[next] = current\n",
    "                \n",
    "        return cost_so_far, came_from\n",
    "    \n",
    "#dijkstra's extension\n",
    "def reconstruct_path(came_from,start,goal):\n",
    "    current = goal\n",
    "    path = [current]\n",
    "    while current != start:\n",
    "        current = came_from[current]\n",
    "        path.append(current)\n",
    "    path.reverse()\n",
    "    return path"
   ]
  },
  {
   "cell_type": "code",
   "execution_count": 212,
   "metadata": {},
   "outputs": [
    {
     "name": "stdout",
     "output_type": "stream",
     "text": [
      "I {'A': 0, 'C': inf, 'B': inf, 'E': inf, 'D': inf, 'F': inf} {'A': None, 'C': None, 'B': None, 'E': None, 'D': None, 'F': None}\n",
      "RE {'A': 0, 'C': inf, 'B': inf, 'E': inf, 'D': inf, 'F': inf} {'A': None, 'C': None, 'B': None, 'E': None, 'D': None, 'F': None}\n",
      "RE {'A': 0, 'C': 3, 'B': 10, 'E': inf, 'D': 12, 'F': inf} {'A': None, 'C': 'A', 'B': 'A', 'E': None, 'D': 'B', 'F': None}\n",
      "RE {'A': 0, 'C': 3, 'B': 9, 'E': 6, 'D': 10, 'F': 7} {'A': None, 'C': 'A', 'B': 'D', 'E': 'C', 'D': 'E', 'F': 'E'}\n",
      "RE {'A': 0, 'C': 3, 'B': 9, 'E': 6, 'D': 10, 'F': 7} {'A': None, 'C': 'A', 'B': 'D', 'E': 'C', 'D': 'E', 'F': 'E'}\n",
      "RE {'A': 0, 'C': 3, 'B': 9, 'E': 6, 'D': 10, 'F': 7} {'A': None, 'C': 'A', 'B': 'D', 'E': 'C', 'D': 'E', 'F': 'E'}\n"
     ]
    },
    {
     "data": {
      "text/plain": [
       "({'A': 0, 'B': 9, 'C': 3, 'D': 10, 'E': 6, 'F': 7},\n",
       " {'A': None, 'B': 'D', 'C': 'A', 'D': 'E', 'E': 'C', 'F': 'E'})"
      ]
     },
     "execution_count": 212,
     "metadata": {},
     "output_type": "execute_result"
    }
   ],
   "source": [
    "#Bellman-ford algorithm\n",
    "\n",
    "def BellmanFord(graph,source):               #Initialize graph\n",
    "    vertices,edges=graph\n",
    "    distance,predecessor={},{}\n",
    "    for v in vertices:\n",
    "        distance[v] = float(\"inf\")\n",
    "        predecessor[v]= None\n",
    "    distance[source]=0\n",
    "    print \"I\", distance,predecessor\n",
    "    \n",
    "    for i in range(1,len(vertices)):         #Relax edges repeadtedly.\n",
    "        print \"RE\", distance,predecessor\n",
    "        for u,v,w in edges:\n",
    "            if distance[u]+w < distance[v]:\n",
    "                distance[v]=distance[u]+w\n",
    "                predecessor[v]=u\n",
    "                \n",
    "    for u,v,w in edges:                       #check for negative cycles\n",
    "        if distance[u] + w < distance[v]:\n",
    "            print \"error-contains negative cycles\"\n",
    "    return distance,predecessor\n",
    "                \n",
    "    \n",
    "graph = ({'A', 'B', 'C', 'D','E','F'}, {('A', 'B', 10),('A', 'C', 3),('C','E',3),('B', 'D', 2), ('D', 'B', -1), ('B', 'E', -3),('E','D',4),('F','D',4),('E','F',1)})\n",
    "BellmanFord(graph, 'A') "
   ]
  },
  {
   "cell_type": "code",
   "execution_count": 17,
   "metadata": {},
   "outputs": [
    {
     "ename": "TypeError",
     "evalue": "unhashable type: 'set'",
     "output_type": "error",
     "traceback": [
      "\u001b[0;31m---------------------------------------------------------------------------\u001b[0m\n\u001b[0;31mTypeError\u001b[0m                                 Traceback (most recent call last)",
      "\u001b[0;32m<ipython-input-17-ba57a46f4ecb>\u001b[0m in \u001b[0;36m<module>\u001b[0;34m()\u001b[0m\n\u001b[1;32m     23\u001b[0m \u001b[0;34m\u001b[0m\u001b[0m\n\u001b[1;32m     24\u001b[0m \u001b[0mgraph\u001b[0m\u001b[0;34m=\u001b[0m\u001b[0;34m(\u001b[0m\u001b[0;34m{\u001b[0m\u001b[0;34m'A'\u001b[0m\u001b[0;34m,\u001b[0m \u001b[0;34m'B'\u001b[0m\u001b[0;34m,\u001b[0m \u001b[0;34m'C'\u001b[0m\u001b[0;34m,\u001b[0m \u001b[0;34m'D'\u001b[0m\u001b[0;34m}\u001b[0m\u001b[0;34m,\u001b[0m \u001b[0;34m{\u001b[0m\u001b[0;34m(\u001b[0m\u001b[0;34m'A'\u001b[0m\u001b[0;34m,\u001b[0m\u001b[0;34m'B'\u001b[0m\u001b[0;34m,\u001b[0m\u001b[0;36m3\u001b[0m\u001b[0;34m)\u001b[0m\u001b[0;34m,\u001b[0m\u001b[0;34m(\u001b[0m\u001b[0;34m'A'\u001b[0m\u001b[0;34m,\u001b[0m\u001b[0;34m'D'\u001b[0m\u001b[0;34m,\u001b[0m\u001b[0;36m15\u001b[0m\u001b[0;34m)\u001b[0m\u001b[0;34m,\u001b[0m\u001b[0;34m(\u001b[0m\u001b[0;34m'D'\u001b[0m\u001b[0;34m,\u001b[0m\u001b[0;34m'A'\u001b[0m\u001b[0;34m,\u001b[0m\u001b[0;36m1\u001b[0m\u001b[0;34m)\u001b[0m\u001b[0;34m,\u001b[0m\u001b[0;34m(\u001b[0m\u001b[0;34m'A'\u001b[0m\u001b[0;34m,\u001b[0m\u001b[0;34m'C'\u001b[0m\u001b[0;34m,\u001b[0m\u001b[0;36m6\u001b[0m\u001b[0;34m)\u001b[0m\u001b[0;34m,\u001b[0m\u001b[0;34m(\u001b[0m\u001b[0;34m'B'\u001b[0m\u001b[0;34m,\u001b[0m\u001b[0;34m'C'\u001b[0m\u001b[0;34m,\u001b[0m\u001b[0;34m-\u001b[0m\u001b[0;36m2\u001b[0m\u001b[0;34m)\u001b[0m\u001b[0;34m,\u001b[0m\u001b[0;34m(\u001b[0m\u001b[0;34m'C'\u001b[0m\u001b[0;34m,\u001b[0m\u001b[0;34m'D'\u001b[0m\u001b[0;34m,\u001b[0m\u001b[0;36m2\u001b[0m\u001b[0;34m)\u001b[0m\u001b[0;34m}\u001b[0m\u001b[0;34m)\u001b[0m\u001b[0;34m\u001b[0m\u001b[0m\n\u001b[0;32m---> 25\u001b[0;31m \u001b[0mFloydWarshall\u001b[0m\u001b[0;34m(\u001b[0m\u001b[0mgraph\u001b[0m\u001b[0;34m)\u001b[0m\u001b[0;34m\u001b[0m\u001b[0m\n\u001b[0m",
      "\u001b[0;32m<ipython-input-17-ba57a46f4ecb>\u001b[0m in \u001b[0;36mFloydWarshall\u001b[0;34m(graph)\u001b[0m\n\u001b[1;32m      5\u001b[0m     \u001b[0mdist\u001b[0m\u001b[0;34m=\u001b[0m\u001b[0;34m{\u001b[0m\u001b[0;34m}\u001b[0m\u001b[0;34m\u001b[0m\u001b[0m\n\u001b[1;32m      6\u001b[0m     \u001b[0;32mfor\u001b[0m \u001b[0mu\u001b[0m \u001b[0;32min\u001b[0m \u001b[0mgraph\u001b[0m\u001b[0;34m:\u001b[0m\u001b[0;34m\u001b[0m\u001b[0m\n\u001b[0;32m----> 7\u001b[0;31m         \u001b[0mdist\u001b[0m\u001b[0;34m[\u001b[0m\u001b[0mu\u001b[0m\u001b[0;34m]\u001b[0m \u001b[0;34m=\u001b[0m \u001b[0;34m{\u001b[0m\u001b[0;34m}\u001b[0m\u001b[0;34m\u001b[0m\u001b[0m\n\u001b[0m\u001b[1;32m      8\u001b[0m         \u001b[0;32mfor\u001b[0m \u001b[0mv\u001b[0m \u001b[0;32min\u001b[0m \u001b[0mgraph\u001b[0m\u001b[0;34m:\u001b[0m\u001b[0;34m\u001b[0m\u001b[0m\n\u001b[1;32m      9\u001b[0m             \u001b[0mdist\u001b[0m\u001b[0;34m[\u001b[0m\u001b[0mu\u001b[0m\u001b[0;34m]\u001b[0m\u001b[0;34m[\u001b[0m\u001b[0mv\u001b[0m\u001b[0;34m]\u001b[0m \u001b[0;34m=\u001b[0m \u001b[0mfloat\u001b[0m\u001b[0;34m(\u001b[0m\u001b[0;34m\"inf\"\u001b[0m\u001b[0;34m)\u001b[0m\u001b[0;34m\u001b[0m\u001b[0m\n",
      "\u001b[0;31mTypeError\u001b[0m: unhashable type: 'set'"
     ]
    }
   ],
   "source": [
    "#FloydWarshall algorithm\n",
    "\n",
    "def FloydWarshall(graph):\n",
    "    vertices,edges=graph\n",
    "    dist={}\n",
    "    for u in graph:\n",
    "        dist[u] = {}\n",
    "        for v in graph:\n",
    "            dist[u][v] = float(\"inf\")\n",
    "        dist[u][u] = 0\n",
    "        \n",
    "    for v in vertices:\n",
    "        dist[v][v] = 0\n",
    "    for u,v,w in edges:\n",
    "        dist[u][v] = w\n",
    "    for k in range(1,len(vertices)):\n",
    "        for i in range(1,len(vertices)):\n",
    "            for j in range(1,len(vertices)):\n",
    "                if dist[i][j] > dist[i][k] + dist[k][j]:\n",
    "                    dist[i][j] = dist[i][k] + dist[k][j]\n",
    "                    \n",
    "    return dist\n",
    "        \n",
    "graph=({'A', 'B', 'C', 'D'}, {('A','B',3),('A','D',15),('D','A',1),('A','C',6),('B','C',-2),('C','D',2)})\n",
    "FloydWarshall(graph)"
   ]
  },
  {
   "cell_type": "code",
   "execution_count": 129,
   "metadata": {},
   "outputs": [
    {
     "data": {
      "text/plain": [
       "[1, 2, 6, 42, 43]"
      ]
     },
     "execution_count": 129,
     "metadata": {},
     "output_type": "execute_result"
    }
   ],
   "source": [
    "#sorting algorithms - quicksort\n",
    "\n",
    "def QuickSort(A,lo,hi):\n",
    "    if lo<hi:\n",
    "        p = Partition(A,lo,hi)\n",
    "        QuickSort(A,lo,p-1)\n",
    "        QuickSort(A,p+1,hi)\n",
    "    return A\n",
    "        \n",
    "def Partition(A,lo,hi):\n",
    "    pivot = A[hi]\n",
    "    i=lo\n",
    "    for j in range(lo,hi):\n",
    "        if A[j]<=pivot:\n",
    "            A[i],A[j]=A[j],A[i]\n",
    "            i=i+1\n",
    "    A[i],A[hi]=A[hi],A[i]\n",
    "    return i\n",
    "\n",
    "QucikSort([2,43,6,1,42],0,4)\n"
   ]
  },
  {
   "cell_type": "code",
   "execution_count": 142,
   "metadata": {},
   "outputs": [],
   "source": [
    "# maximum depth of a binary tree.\n",
    "\n",
    "# Definition for a binary tree node.\n",
    "class TreeNode(object):\n",
    "    def __init__(self, x):\n",
    "        self.val = x\n",
    "        self.left = None\n",
    "        self.right = None\n",
    "\n",
    "class Solution(object):\n",
    "    def maxDepth(self, root):\n",
    "        l,r=1\n",
    "        if root==None:\n",
    "            return 0\n",
    "        if root.left!=None:\n",
    "            l=l+self.maxDepth(root.left)\n",
    "        if root.right!=None:\n",
    "            r=r+self.maxDepth(root.right)\n",
    "        if l>r:\n",
    "            return l\n",
    "        else:\n",
    "            return r"
   ]
  },
  {
   "cell_type": "code",
   "execution_count": 217,
   "metadata": {},
   "outputs": [
    {
     "data": {
      "text/plain": [
       "False"
      ]
     },
     "execution_count": 217,
     "metadata": {},
     "output_type": "execute_result"
    }
   ],
   "source": [
    "def containsNearbyAlmostDuplicate(nums, k, t):\n",
    "    if t < 0: return False\n",
    "    n = len(nums)\n",
    "    d = {}\n",
    "    w = t + 1\n",
    "    for i in xrange(n):\n",
    "        m = nums[i] / w\n",
    "        if m in d:\n",
    "            return True\n",
    "        if m - 1 in d and abs(nums[i] - d[m - 1]) < w:\n",
    "            return True\n",
    "        if m + 1 in d and abs(nums[i] - d[m + 1]) < w:\n",
    "            return True\n",
    "        d[m] = nums[i]\n",
    "        if i >= k: \n",
    "            del d[nums[i - k] / w]\n",
    "    return False\n",
    "\n",
    "containsNearbyAlmostDuplicate([],0,0)"
   ]
  },
  {
   "cell_type": "code",
   "execution_count": 195,
   "metadata": {},
   "outputs": [
    {
     "data": {
      "text/plain": [
       "'6'"
      ]
     },
     "execution_count": 195,
     "metadata": {},
     "output_type": "execute_result"
    }
   ],
   "source": [
    "def fun(num):\n",
    "    res=0\n",
    "    s=str(num)\n",
    "    while len(s)!=1:\n",
    "        res=add(s)\n",
    "        s = res\n",
    "    return res\n",
    "    \n",
    "def add(s):\n",
    "    ans=reduce(lambda x,y:x+y,(int(i) for i in s))\n",
    "    return str(ans)\n",
    "\n",
    "fun(1239)    "
   ]
  },
  {
   "cell_type": "code",
   "execution_count": 286,
   "metadata": {},
   "outputs": [
    {
     "data": {
      "text/plain": [
       "''"
      ]
     },
     "execution_count": 286,
     "metadata": {},
     "output_type": "execute_result"
    }
   ],
   "source": [
    "#alien order - modified dfs algorithm with stacks and topological sort.\n",
    "w1=[\"wrt\",\n",
    "  \"wrf\",\n",
    "  \"er\",\n",
    "  \"ett\",\n",
    "  \"rftt\"]\n",
    "w2=[\"ac\",\"ab\",\"b\"]\n",
    "w=[\"ri\",\"xz\",\"qxf\",\"jhsguaw\",\"dztqrbwbm\",\"dhdqfb\",\"jdv\",\"fcgfsilnb\",\"ooby\"]\n",
    "\n",
    "def alienOrder(words):\n",
    "    chars = set(\"\".join(words))\n",
    "    dic = {x:0 for x in chars} #list comprehension\n",
    "    graph = {}\n",
    "    queue=collections.deque()\n",
    "    ans=\"\"\n",
    "    for pair in zip(words, words[1:]):\n",
    "        for x, y in zip(*pair):\n",
    "            if x != y:\n",
    "                graph[x]=y\n",
    "                dic[y] += 1\n",
    "                break\n",
    "    \n",
    "    for k,v in dic.items():\n",
    "        if v==0:\n",
    "            queue.append(k)\n",
    "    \n",
    "    while len(queue)!=0:\n",
    "        c=queue.popleft()  #dfs and searching for the key in queue.\n",
    "        ans+=c\n",
    "        if c in graph:        \n",
    "            c2=graph[c]\n",
    "            dic[c2]=dic[c2]-1\n",
    "            queue.append(c2)\n",
    "    return ans * (len(ans)==len(dic))\n",
    "        \n",
    "\n",
    "alienOrder(w)"
   ]
  },
  {
   "cell_type": "code",
   "execution_count": 287,
   "metadata": {},
   "outputs": [
    {
     "data": {
      "text/plain": [
       "'acb'"
      ]
     },
     "execution_count": 287,
     "metadata": {},
     "output_type": "execute_result"
    }
   ],
   "source": [
    "#alien words\n",
    "def alienOrder(words):\n",
    "    pre, suc = collections.defaultdict(set), collections.defaultdict(set)\n",
    "    for pair in zip(words, words[1:]):\n",
    "        for a, b in zip(*pair):\n",
    "            if a != b:\n",
    "                suc[a].add(b)\n",
    "                pre[b].add(a)\n",
    "                break\n",
    "    chars = set(''.join(words))\n",
    "    free = chars - set(pre)\n",
    "    order = ''\n",
    "    while free:\n",
    "        a = free.pop()\n",
    "        order += a\n",
    "        for b in suc[a]:\n",
    "            pre[b].remove(a)\n",
    "            if not pre[b]:\n",
    "                free.add(b)\n",
    "    return order * (set(order) == chars) #return only if the order is right else no.\n",
    "\n",
    "    \n",
    "alienOrder(w2)\n"
   ]
  },
  {
   "cell_type": "code",
   "execution_count": null,
   "metadata": {},
   "outputs": [],
   "source": [
    "#are the two trees same?\n",
    "#Definition for a binary tree node.\n",
    "# class TreeNode(object):\n",
    "#     def __init__(self, x):\n",
    "#         self.val = x\n",
    "#         self.left = None\n",
    "#         self.right = None\n",
    "\n",
    "def isSameTree(p, q):\n",
    "    if p is None or q is None:\n",
    "        return p==q\n",
    "    else:\n",
    "        return p.val==q.val and isSameTree(p.left, q.left) and isSameTree(p.right, q.right) "
   ]
  },
  {
   "cell_type": "code",
   "execution_count": null,
   "metadata": {},
   "outputs": [],
   "source": [
    "#balanced binary tree-depth of nodes dont differ by more than 1\n",
    "# Definition for a binary tree node.\n",
    "# class TreeNode(object):\n",
    "#     def __init__(self, x):\n",
    "#         self.val = x\n",
    "#         self.left = None\n",
    "#         self.right = None\n",
    "\n",
    "class Solution(object):\n",
    "    def isBalanced(self, root):\n",
    "        if root==None:\n",
    "            return True\n",
    "        return self.isheightone(root.left,root.right,1)>=0\n",
    "    \n",
    "    def isheightone(self,l,r,d):\n",
    "        lr=d if l is None else self.isheightone(l.left,l.right,d+1)\n",
    "        rr=d if r is None else self.isheightone(r.left,r.right,d+1)\n",
    "        return -d if abs(lr-rr)>1 else max(lr,rr)\n"
   ]
  },
  {
   "cell_type": "code",
   "execution_count": null,
   "metadata": {},
   "outputs": [],
   "source": [
    "#symmetric tree\n",
    "  def isSymmetric(self, root):\n",
    "        return issym(root,root)\n",
    "\n",
    "    def isSym(L,R):\n",
    "        if not L and not R: \n",
    "            return True\n",
    "        if L and R and L.val == R.val: \n",
    "            return isSym(L.left, R.right) and isSym(L.right, R.left)\n",
    "        return False"
   ]
  },
  {
   "cell_type": "code",
   "execution_count": 288,
   "metadata": {},
   "outputs": [
    {
     "name": "stdout",
     "output_type": "stream",
     "text": [
      "[1, 2]\n"
     ]
    },
    {
     "data": {
      "text/plain": [
       "[3, 4]"
      ]
     },
     "execution_count": 288,
     "metadata": {},
     "output_type": "execute_result"
    }
   ],
   "source": [
    "#uber circular meeting example\n",
    "\n",
    "def circular(l):\n",
    "    res_l = []\n",
    "    temp_l = []\n",
    "    new_l=l\n",
    "    while len(new_l) > 2:\n",
    "        temp_l = []\n",
    "        for i in range(len(new_l)):\n",
    "            if ((i+1)%3) == 0:\n",
    "                res_l.append(new_l[i])\n",
    "            else:\n",
    "                temp_l.append(new_l[i])      \n",
    "        new_l = temp_l\n",
    "    print new_l\n",
    "    return res_l\n",
    "\n",
    "\n",
    "    \n",
    "def rotate(l, n):\n",
    "    return l[n:] + l[:n]\n",
    "    \n",
    "        \n",
    "\n",
    "circular([1,2,3,4])\n",
    "#3,6,9,4,8,5,2,7,1\n",
    "\n",
    "#3,6,1,5,2,8,4,7"
   ]
  },
  {
   "cell_type": "code",
   "execution_count": 74,
   "metadata": {},
   "outputs": [
    {
     "data": {
      "text/plain": [
       "[4, 5, 1, 2]"
      ]
     },
     "execution_count": 74,
     "metadata": {},
     "output_type": "execute_result"
    }
   ],
   "source": [
    "def rotate(l, n):\n",
    "    return l[n:] + l[:n]\n",
    "\n",
    "rotate([1,2,4,5],2)"
   ]
  },
  {
   "cell_type": "markdown",
   "metadata": {},
   "source": [
    "#Amazon"
   ]
  },
  {
   "cell_type": "code",
   "execution_count": null,
   "metadata": {},
   "outputs": [],
   "source": [
    "#lowest common ancestor.\n",
    "\n",
    "# Definition for a binary tree node.\n",
    "# class TreeNode(object):\n",
    "#     def __init__(self, x):\n",
    "#         self.val = x\n",
    "#         self.left = None\n",
    "#         self.right = None\n",
    "\n",
    "class Solution(object):\n",
    "    def lowestCommonAncestor(self, root, p, q):\n",
    "        \"\"\"\n",
    "        :type root: TreeNode\n",
    "        :type p: TreeNode\n",
    "        :type q: TreeNode\n",
    "        :rtype: TreeNode\n",
    "        \"\"\"\n",
    "        if root==None or root==p or root==q:\n",
    "            return root\n",
    "        left = self.lowestCommonAncestor(root.left,p,q)\n",
    "        right = self.lowestCommonAncestor(root.right,p,q)\n",
    "        return root if left and right else left or right\n",
    "            "
   ]
  },
  {
   "cell_type": "code",
   "execution_count": null,
   "metadata": {},
   "outputs": [],
   "source": [
    "#min stack: retreive in constant time\n",
    "\n",
    "class MinStack(object):\n",
    "\n",
    "    def __init__(self):\n",
    "        self.list = []\n",
    "        self.min = None\n",
    "\n",
    "    def push(self, x):\n",
    "        self.list.append(x)\n",
    "        if self.min == None:\n",
    "            self.min = x\n",
    "        if x < self.min and self.min != None:\n",
    "            self.min = x\n",
    "            \n",
    "    def pop(self):\n",
    "        del self.list[-1]\n",
    "        if len(self.list) == 0:\n",
    "            self.min = None\n",
    "        else:\n",
    "            self.min = sorted(self.list)[0]\n",
    "\n",
    "    def top(self):\n",
    "        return self.list[-1]\n",
    "        \n",
    "    def getMin(self):\n",
    "        return self.min\n",
    "\n",
    "# Your MinStack object will be instantiated and called as such:\n",
    "# obj = MinStack()\n",
    "# obj.push(x)\n",
    "# obj.pop()\n",
    "# param_3 = obj.top()\n",
    "# param_4 = obj.getMin()"
   ]
  },
  {
   "cell_type": "code",
   "execution_count": 126,
   "metadata": {},
   "outputs": [
    {
     "name": "stdout",
     "output_type": "stream",
     "text": [
      "after 4 2 0 3 0\n",
      "after 4 4 0 3 1\n"
     ]
    },
    {
     "data": {
      "text/plain": [
       "1"
      ]
     },
     "execution_count": 126,
     "metadata": {},
     "output_type": "execute_result"
    }
   ],
   "source": [
    "#Trapping water\n",
    "def trap(height):\n",
    "#type height: List[int]\n",
    "    left=0\n",
    "    right=len(height)-1\n",
    "    maxleft,maxrt,res=0,0,0\n",
    "    while(left<right):\n",
    "        if height[left]<=height[right]:\n",
    "            if height[left]>=maxleft:\n",
    "                maxleft=height[left]\n",
    "            else:\n",
    "                res+=maxleft-height[left]\n",
    "            left+=1\n",
    "        else:\n",
    "            if height[right]>=maxrt:\n",
    "                maxrt = height[right]\n",
    "            else:\n",
    "                res+=maxrt-height[right]\n",
    "            right-=1\n",
    "        print'after', height[left],height[right],maxleft,maxrt,res\n",
    "    return res\n",
    "            \n",
    "trap([4,2,3])            "
   ]
  },
  {
   "cell_type": "code",
   "execution_count": 117,
   "metadata": {},
   "outputs": [
    {
     "name": "stdout",
     "output_type": "stream",
     "text": [
      "[[1, 1, 1, 1, 1, 0], [0, 1, 2, 3, 4, 0], [0, 0, 1, 3, 6, 0], [0, 0, 0, 0, 0, 0]]\n"
     ]
    },
    {
     "data": {
      "text/plain": [
       "6"
      ]
     },
     "execution_count": 117,
     "metadata": {},
     "output_type": "execute_result"
    }
   ],
   "source": [
    "#When m dices with n faces are rolled together, find the number of ways the sum of the faces is k\n",
    "#Dynamic programming\n",
    "# fun(d,s) = fun(d,s-1)+fun(d-1,s-1)=fun(d-1,s-f-1)\n",
    "\n",
    "def find_ways(m,n,x):\n",
    "    if n>x:\n",
    "        return 0\n",
    "    table=[[0 for _ in range(x+1)] for _ in range(n+1)] \n",
    "    for i in range(0,n):\n",
    "        for j in range(i,x):\n",
    "            if not i:\n",
    "                if j<m:\n",
    "                    table[0][j]=1\n",
    "            if i==j:\n",
    "                table[i][j]=1\n",
    "            else:\n",
    "                table[i][j]=table[i][j-1]+table[i-1][j-1]\n",
    "                if (j-m-1)>i-1:\n",
    "                   table[i][j]-= table[i-1][j-m-1]\n",
    "    print table        \n",
    "    return table[n-1][x-1]\n",
    "    \n",
    "find_ways(4,3,5)"
   ]
  },
  {
   "cell_type": "code",
   "execution_count": null,
   "metadata": {},
   "outputs": [],
   "source": [
    "    table=[[0 for _ in range(x+1)] for _ in range(n+1)] \n"
   ]
  },
  {
   "cell_type": "code",
   "execution_count": 42,
   "metadata": {},
   "outputs": [
    {
     "name": "stdout",
     "output_type": "stream",
     "text": [
      "1 0\n",
      "1 0\n",
      "1 0\n",
      "1 1\n",
      "1 1\n",
      "1 1\n"
     ]
    },
    {
     "data": {
      "text/plain": [
       "'BANC'"
      ]
     },
     "execution_count": 42,
     "metadata": {},
     "output_type": "execute_result"
    }
   ],
   "source": [
    "#Smallest sub string that contains all characters in a given string- O(n^2)\n",
    "import collections\n",
    "def minWindow(S, T):\n",
    "     res, rpos, r, Tcount = \"\",[], collections.defaultdict(list), collections.Counter(T)\n",
    "     #print filter(lambda x: x[1] in T,enumerate(S)) #indexes of chars from T in S\n",
    "     for i,c in filter(lambda x: x[1] in T,enumerate(S)): #go only over chars exist in T\n",
    "         if len(r[c]) == Tcount[c]: #reached limit. so we need to remove\n",
    "             rpos.remove(r[c].pop(0))\n",
    "         r[c].append(i) #add to dict\n",
    "         rpos.append(i) #add to array\n",
    "         if len(rpos) == len(T) and (res==\"\" or rpos[-1]-rpos[0]<len(res)):\n",
    "             res = S[rpos[0]:rpos[-1]+1] \n",
    "     return res\n",
    "\n",
    "minWindow(\"ADOBECODEBANC\", \"ABC\")"
   ]
  },
  {
   "cell_type": "code",
   "execution_count": 40,
   "metadata": {},
   "outputs": [
    {
     "data": {
      "text/plain": [
       "2"
      ]
     },
     "execution_count": 40,
     "metadata": {},
     "output_type": "execute_result"
    }
   ],
   "source": [
    "#length of longest subsequence in array\n",
    "def longsub(arr):\n",
    "    sol=[]\n",
    "  \n",
    "    for i in range(0,len(arr)-1):\n",
    "        new_high = None \n",
    "        if arr[i+1] > arr[i] and arr[i+1] > new_high:\n",
    "            if len(sol)==0:\n",
    "                sol.append(arr[i])\n",
    "            sol.append(arr[i+1])\n",
    "            new_high = arr[i+1]\n",
    "        if arr[i+1] == arr[i] and arr[i+1] > new_high:\n",
    "            if len(sol)==0:\n",
    "                sol.append(arr[i])\n",
    "            new_high = arr[i+1]\n",
    "    return len(sol)\n",
    "    \n",
    "    \n",
    "longsub([2,-2,4,4])\n"
   ]
  },
  {
   "cell_type": "code",
   "execution_count": 156,
   "metadata": {},
   "outputs": [
    {
     "name": "stdout",
     "output_type": "stream",
     "text": [
      "[1, 1, 1, 1, 1, 1, 1, 1, 1]\n"
     ]
    },
    {
     "data": {
      "text/plain": [
       "5"
      ]
     },
     "execution_count": 156,
     "metadata": {},
     "output_type": "execute_result"
    }
   ],
   "source": [
    "def lengthOfLIS(nums):\n",
    "    n =len(nums)\n",
    "    T = [1]*n\n",
    "    print T\n",
    "    if n <= 1:\n",
    "        return n\n",
    "    for i in range(1,n):\n",
    "        for j in range(i):\n",
    "            if nums[j]<nums[i]:\n",
    "                if T[j]+1>T[j]:\n",
    "                    T[i] = T[j] + 1\n",
    "    return max(T)\n",
    "                        \n",
    "lengthOfLIS([1,3,6,7,9,4,10,5,6])           "
   ]
  },
  {
   "cell_type": "code",
   "execution_count": 41,
   "metadata": {},
   "outputs": [
    {
     "name": "stdout",
     "output_type": "stream",
     "text": [
      "[(2, 'c'), (4, 'a'), (5, 'b')]\n"
     ]
    }
   ],
   "source": [
    "print filter(lambda x: x[1] in \"bca\",enumerate(\"decfab\"))"
   ]
  },
  {
   "cell_type": "code",
   "execution_count": null,
   "metadata": {},
   "outputs": [],
   "source": [
    "#Implement insert,delete,search and get random in constant time.\n",
    "\n",
    "class Solution():\n",
    "    def __init__(self):\n",
    "        self.data = []\n",
    "        self.hash = {}\n",
    "    def insert(self, a):\n",
    "        if self.search(a):\n",
    "            self.data.append(a)\n",
    "            self.hash[a] = len(self.data)-1\n",
    "    def search(self, a):\n",
    "        return self.hash.has_key(a)\n",
    "    def remove(self, a):\n",
    "        if self.search(a):\n",
    "            del self.data[self.hash[a]]\n",
    "            self.hash.pop(a,None)\n",
    "    def getRandom(self):\n",
    "        import random\n",
    "        if len(self.data) > 0:\n",
    "            return self.data[random.randint(0,len(self.data)-1)]\n",
    "        return"
   ]
  },
  {
   "cell_type": "code",
   "execution_count": null,
   "metadata": {},
   "outputs": [],
   "source": [
    "#top recommended song-Given a song, return the recommended song with the highest rating. \n",
    "#A recommendation can be any song within the network of similarities. (for example, similarities of similarities, etc)\n",
    "private Song getTopRec(Song song)\n",
    "{\n",
    "    HashSet<Song> visited = new HashSet<Song>();\n",
    "    visited.add(song);\n",
    "    return helper(song, visited);\n",
    "}\n",
    "\n",
    "private Song helper(Song song, Set<Song> visited)\n",
    "{\n",
    "    Song top = song;\n",
    "    for (Song s : song.similar)\n",
    "    {\n",
    "    if (!visited.contains(s))\n",
    "    {\n",
    "        visited.add(s);\n",
    "        Song result = helper(s, visited);\n",
    "        if (result.rating > top.rating)\n",
    "        {\n",
    "            top = result;\n",
    "        }\n",
    "    }\n",
    "}\n",
    "return top;\n",
    "}"
   ]
  },
  {
   "cell_type": "code",
   "execution_count": 22,
   "metadata": {},
   "outputs": [
    {
     "name": "stdout",
     "output_type": "stream",
     "text": [
      "dog\n",
      "dog\n"
     ]
    }
   ],
   "source": [
    "'''\n",
    "Find the first word in a stream in which it is not repeated in the rest of the stream\n",
    "Coding exercise:\n",
    "\n",
    "Find the first word in a stream in which it is not repeated in the rest of the stream. \n",
    "Please note that you are being provided a stream as a source for the characters. \n",
    "The stream is guaranteed to eventually terminate (i.e. return false from a call to the hasNext() method), though it could be very long. \n",
    "You will access this stream through the provided interface methods. A call to hasNext() will return whether the stream contains any more characters to process. A call to getNext() will return the next character to be processed in the stream. It is not possible to restart the stream.\n",
    "\n",
    "Example:\n",
    "\n",
    "Input: The angry dog was red. And the cat was also angry.\n",
    "\n",
    "Output: dog\n",
    "\n",
    "In this example, the word ‘dog’ is the first word in the stream in which it is not repeated in the stream.\n",
    "\n",
    "Use one of the following skeletons for your solution:\n",
    "\n",
    "package questions;\n",
    "public interface Stream {\n",
    "    char getNext();\n",
    "    boolean hasNext();\n",
    "}\n",
    "\n",
    "public class QuestionA {\n",
    "    public static String firstWord(final Stream input) {\n",
    "        return \"\";\n",
    "    }\n",
    "}\n",
    "'''\n",
    "\n",
    "from collections import OrderedDict\n",
    "def non_repeated(s):\n",
    "    dict =OrderedDict()\n",
    "    s = s.lower()\n",
    "    for i in s.replace('.','').split(' '):\n",
    "        dict[i]= dict.get(i,0)+1\n",
    "    for i in dict:\n",
    "        if dict[i] ==1:\n",
    "            return i\n",
    "\n",
    "s = \"The angry dog was red. And the cat was red angry\"\n",
    "print non_repeated(s)\n",
    "#Using a word list to store the already existing words,\n",
    "def wordlist(s):\n",
    "    wordlist=[]\n",
    "    s = s.lower()\n",
    "    for i in s.replace('.','').split():\n",
    "        if i in wordlist:\n",
    "            wordlist.remove(i)\n",
    "        else:\n",
    "            wordlist.append(i)\n",
    "    return wordlist[0]\n",
    "\n",
    "s = \"The angry dog was red. And the cat was red angry\"\n",
    "print wordlist(s)"
   ]
  },
  {
   "cell_type": "code",
   "execution_count": 16,
   "metadata": {},
   "outputs": [
    {
     "name": "stdout",
     "output_type": "stream",
     "text": [
      "[[1, 5, 8], [57, 67, 87], [6, 78]]\n"
     ]
    }
   ],
   "source": [
    "#split into equal sized chunks.\n",
    "l=[1,5,8,57,67,87,6,78]\n",
    "m=[]\n",
    "k=3\n",
    "for i in xrange(0, len(l),k):\n",
    "    m.append(l[i:i+k])\n",
    "print m"
   ]
  },
  {
   "cell_type": "code",
   "execution_count": 146,
   "metadata": {},
   "outputs": [
    {
     "name": "stdout",
     "output_type": "stream",
     "text": [
      "[1, 4, 5]\n",
      "[2, 4, 5]\n",
      "[3, 4, 5]\n"
     ]
    }
   ],
   "source": [
    "def perm2(ip,res):\n",
    "    newres = []\n",
    "    for first in res: #[[1], [2], [3]]\n",
    "        for second in ip: #4,5\n",
    "            first.append(second)\n",
    "            \n",
    "        print first \n",
    "        \n",
    "perm2([4,5],[[1], [2], [3]])"
   ]
  },
  {
   "cell_type": "code",
   "execution_count": null,
   "metadata": {},
   "outputs": [],
   "source": [
    "def generateperm(ip,res,depth,curr):\n",
    "    if depth==len(ip):\n",
    "        res.append(curr)\n",
    "        return\n",
    "    for i in range(depth):\n",
    "        generateperm(lists,depth+1,curr,)\n"
   ]
  },
  {
   "cell_type": "code",
   "execution_count": 98,
   "metadata": {},
   "outputs": [
    {
     "name": "stdout",
     "output_type": "stream",
     "text": [
      "('a', [1, 2, 3, 4])\n",
      "('b', [5, 6, 7, 8])\n"
     ]
    }
   ],
   "source": [
    "import collections\n",
    "csv=[['a','b','c','d'],[1,2,3,4],[5,6,7,8]]\n",
    "d= collections.defaultdict(list)\n",
    "\n",
    "for ele in zip(csv[0],csv[1:]):\n",
    "    print ele"
   ]
  },
  {
   "cell_type": "raw",
   "metadata": {},
   "source": [
    "#Unix Directory path structure using DFS \n",
    "\n",
    "import os\n",
    "import re\n",
    "\n",
    "def DFS(path, dirCallback = None, fileCallback = None):\n",
    "    stack = []\n",
    "    ret = []\n",
    "    stack.append(path);\n",
    "    while len(stack) > 0:\n",
    "        tmp = stack.pop(len(stack) - 1)\n",
    "        if(os.path.isdir(tmp)):\n",
    "            ret.append(tmp)\n",
    "            for item in os.listdir(tmp):\n",
    "                stack.append(os.path.join(tmp, item))\n",
    "            if dirCallback:\n",
    "                dirCallback(tmp)\n",
    "        elif(os.path.isfile(tmp)):\n",
    "            #ret.append(tmp)\n",
    "            if re.match(r'.*\\.png', tmp):\n",
    "                ret.append(tmp)\n",
    "            if fileCallback:\n",
    "                if re.match(r'.*\\.jpg', tmp):\n",
    "                    fileCallback(tmp)\n",
    "    return ret \n",
    "\n",
    "def print_directory(path):\n",
    "    print \"dir: \" + path\n",
    "\n",
    "def print_file(path):\n",
    "    print \"file: \" + path\n",
    "\n",
    "home = os.path.expanduser('~')\n",
    "d = DFS(home, print_directory, print_file)\n",
    "\n",
    "\n",
    "print max([x for x in d ],key=lambda x: x.count(\"/\"))"
   ]
  },
  {
   "cell_type": "markdown",
   "metadata": {},
   "source": [
    "# Bit manupulation"
   ]
  },
  {
   "cell_type": "code",
   "execution_count": 35,
   "metadata": {},
   "outputs": [
    {
     "name": "stdout",
     "output_type": "stream",
     "text": [
      "0 0\n",
      "1001 1001 1001 1001\n",
      "1982\n",
      "2047\n"
     ]
    }
   ],
   "source": [
    "def bitmanupulation(x):\n",
    "    print x^x, x&0 #0\n",
    "    print x^0,x&x ,x|x , x|0000 #x\n",
    "    print x^1111# ~x\n",
    "    print x|1111 #1s\n",
    "    \n",
    "    \n",
    "bitmanupulation(1001)"
   ]
  },
  {
   "cell_type": "code",
   "execution_count": 179,
   "metadata": {},
   "outputs": [
    {
     "name": "stdout",
     "output_type": "stream",
     "text": [
      " ['3', '30', '34', '5', '9']\n",
      "['9', '5', '34', '3', '30']\n"
     ]
    },
    {
     "data": {
      "text/plain": [
       "'9534330'"
      ]
     },
     "execution_count": 179,
     "metadata": {},
     "output_type": "execute_result"
    }
   ],
   "source": [
    "def largestNumber(num):\n",
    "    num = [str(x) for x in num]\n",
    "    print num\n",
    "    num.sort(cmp=lambda x, y: cmp(y+x, x+y))\n",
    "    print num\n",
    "    return ''.join(num).lstrip('0') or '0'\n",
    "\n",
    "largestNumber([3, 30, 34, 5, 9])"
   ]
  },
  {
   "cell_type": "code",
   "execution_count": 159,
   "metadata": {},
   "outputs": [
    {
     "name": "stdout",
     "output_type": "stream",
     "text": [
      "12\n"
     ]
    }
   ],
   "source": [
    "def sum(x,y):\n",
    "    z= lambda x,y: x+y\n",
    "    print z(x,y)\n",
    "    \n",
    "sum(10,2)\n",
    "        "
   ]
  },
  {
   "cell_type": "code",
   "execution_count": 75,
   "metadata": {},
   "outputs": [
    {
     "data": {
      "text/plain": [
       "5"
      ]
     },
     "execution_count": 75,
     "metadata": {},
     "output_type": "execute_result"
    }
   ],
   "source": [
    "import collections\n",
    "def ladderLength(beginWord, endWord, wordList):\n",
    "    wordList.append(endWord)\n",
    "    queue = collections.deque([[beginWord, 1]])\n",
    "    while queue:\n",
    "        word, length = queue.popleft()\n",
    "        if word == endWord:\n",
    "            return length\n",
    "        for i in range(len(word)):\n",
    "            for c in 'abcdefghijklmnopqrstuvwxyz':\n",
    "                next_word = word[:i] + c + word[i+1:]\n",
    "                if next_word in wordList:\n",
    "                    wordList.remove(next_word)\n",
    "                    queue.append([next_word, length + 1])\n",
    "    return 0\n",
    "    \n",
    "ladderLength(\"hit\",\"cog\",[\"hot\",\"dot\",\"dog\",\"lot\",\"log\"])"
   ]
  },
  {
   "cell_type": "code",
   "execution_count": null,
   "metadata": {},
   "outputs": [],
   "source": [
    "# uber interview question\n",
    "def canReach(x1,y1,x2,y2):\n",
    "    start = [x1,y1]\n",
    "    dest = [x2,y2]\n",
    "    Q=[]\n",
    "    Q.append(start)\n",
    "    while len(Q)!=0:\n",
    "        current = Q[0]\n",
    "        Q.pop(0)\n",
    "        print (Q)\n",
    "        next1,next2 = [current[0] + current[1],current[1]],[current[0],current[0]+current[1]]\n",
    "        print (next1,next2)\n",
    "        if (current[0] == dest[0] and current[1] == dest[1]):\n",
    "            return 'Yes'\n",
    "        if (next1[0] <= dest[0] and next1[1] <= dest[1]):\n",
    "            print (1)\n",
    "            Q.append(next1)\n",
    "        if (next2[0] <= dest[0] and next2[1] <= dest[1]):\n",
    "            print (2)\n",
    "            Q.append(next2)\n",
    "    return 'No'\n",
    "        \n",
    "canReach(1,2,3,1)      "
   ]
  }
 ],
 "metadata": {
  "kernelspec": {
   "display_name": "Python 3",
   "language": "python",
   "name": "python3"
  },
  "language_info": {
   "codemirror_mode": {
    "name": "ipython",
    "version": 3
   },
   "file_extension": ".py",
   "mimetype": "text/x-python",
   "name": "python",
   "nbconvert_exporter": "python",
   "pygments_lexer": "ipython3",
   "version": "3.6.5"
  }
 },
 "nbformat": 4,
 "nbformat_minor": 1
}
