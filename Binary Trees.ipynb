{
 "metadata": {
  "name": "",
  "signature": "sha256:c0001db0a18b5e114fc46b7b8c7087859723105272eca0a04b065245c871aa31"
 },
 "nbformat": 3,
 "nbformat_minor": 0,
 "worksheets": [
  {
   "cells": [
    {
     "cell_type": "code",
     "collapsed": false,
     "input": [
      "class Node:\n",
      "    def __init__(self, val):\n",
      "        self.val = val\n",
      "        self.left = None\n",
      "        self.right = None\n",
      "    \n",
      "root = Node(2)\n",
      "root.left = Node(4)\n",
      "root.right = Node(5)\n",
      "root.left.left = Node(8)\n",
      "root.left.right = Node(-4)\n",
      "root.right.left = Node(3)        \n",
      "root.right.right = Node(-6)  \n"
     ],
     "language": "python",
     "metadata": {},
     "outputs": [],
     "prompt_number": 107
    },
    {
     "cell_type": "code",
     "collapsed": false,
     "input": [
      "inr = []\n",
      "def Inorder(root):\n",
      "    if root:\n",
      "        Inorder(root.left)\n",
      "        inr.append(root.val)\n",
      "        Inorder(root.right)\n",
      "    return inr\n",
      "\n",
      "Inorder(root)"
     ],
     "language": "python",
     "metadata": {},
     "outputs": [
      {
       "metadata": {},
       "output_type": "pyout",
       "prompt_number": 108,
       "text": [
        "[8, 4, -4, 2, 3, 5, -6]"
       ]
      }
     ],
     "prompt_number": 108
    },
    {
     "cell_type": "code",
     "collapsed": false,
     "input": [
      "pre=[]\n",
      "def Preorder(root):\n",
      "    if root:\n",
      "        pre.append(root.val)\n",
      "        Preorder(root.left)\n",
      "        Preorder(root.right)\n",
      "    return pre\n",
      "Preorder(root)"
     ],
     "language": "python",
     "metadata": {},
     "outputs": [
      {
       "metadata": {},
       "output_type": "pyout",
       "prompt_number": 109,
       "text": [
        "[2, 4, 8, -4, 5, 3, -6]"
       ]
      }
     ],
     "prompt_number": 109
    },
    {
     "cell_type": "code",
     "collapsed": false,
     "input": [
      "post=[]\n",
      "def Postorder(root):\n",
      "    if root:\n",
      "        Postorder(root.left)\n",
      "        Postorder(root.right)\n",
      "        post.append(root.val)\n",
      "    return post\n",
      "Postorder(root)"
     ],
     "language": "python",
     "metadata": {},
     "outputs": [
      {
       "metadata": {},
       "output_type": "pyout",
       "prompt_number": 113,
       "text": [
        "[8, -4, 4, 3, -6, 5, 2]"
       ]
      }
     ],
     "prompt_number": 113
    },
    {
     "cell_type": "code",
     "collapsed": false,
     "input": [
      "import collections\n",
      "class Queue:\n",
      "    def __init__(self):\n",
      "        self.elements = collections.deque()\n",
      "\n",
      "    def empty(self):\n",
      "        return len(self.elements) == 0\n",
      "    \n",
      "    def put(self,x):\n",
      "        self.elements.append(x)\n",
      "    \n",
      "    def get(self):\n",
      "        return self.elements.popleft()\n",
      "\n",
      "graph = {'A': ['B', 'C'],\n",
      "         'B': ['A', 'D', 'E'],\n",
      "         'C': ['A', 'F'],\n",
      "         'D': ['B'],\n",
      "         'E': ['B', 'F'],\n",
      "         'F': ['C', 'E']} \n",
      "\n",
      "def BFS(graph,start):\n",
      "    Q = Queue()\n",
      "    Q.put(start)\n",
      "    visited=[]\n",
      "    while not Q.empty():\n",
      "        curr = Q.get()\n",
      "        if curr not in visited:\n",
      "            visited.append(curr)\n",
      "        neighbors = graph[curr]\n",
      "        for i in neighbors:\n",
      "            if i not in visited:\n",
      "                Q.put(i)\n",
      "    print visited\n",
      "        \n",
      "print BFS(graph, 'A')       "
     ],
     "language": "python",
     "metadata": {},
     "outputs": [
      {
       "output_type": "stream",
       "stream": "stdout",
       "text": [
        "['A', 'B', 'C', 'D', 'E', 'F']\n",
        "None\n"
       ]
      }
     ],
     "prompt_number": 133
    },
    {
     "cell_type": "code",
     "collapsed": false,
     "input": [
      "class BinaryTreeNode:\n",
      "\n",
      "    def __init__(self, value):\n",
      "        self.value = value\n",
      "        self.left  = None\n",
      "        self.right = None\n",
      "\n",
      "    def insert_left(self, value):\n",
      "        self.left = BinaryTreeNode(value)\n",
      "        return self.left\n",
      "\n",
      "    def insert_right(self, value):\n",
      "        self.right = BinaryTreeNode(value)\n",
      "        return self.right"
     ],
     "language": "python",
     "metadata": {},
     "outputs": [],
     "prompt_number": 4
    },
    {
     "cell_type": "code",
     "collapsed": false,
     "input": [
      "node = BinaryTreeNode(50)\n",
      "node.insert_left(30)\n",
      "node.insert_right(80)\n"
     ],
     "language": "python",
     "metadata": {},
     "outputs": [
      {
       "metadata": {},
       "output_type": "pyout",
       "prompt_number": 20,
       "text": [
        "<__main__.BinaryTreeNode instance at 0x103319998>"
       ]
      }
     ],
     "prompt_number": 20
    },
    {
     "cell_type": "code",
     "collapsed": false,
     "input": [
      "def is_binary_search_tree(root):\n",
      "    node_and_bounds_stack = [(root, -float('inf'), float('inf'))]\n",
      "    while len(node_and_bounds_stack):\n",
      "        node, lower_bound, upper_bound = node_and_bounds_stack.pop()\n",
      "        print 'after',node.value, lower_bound, upper_bound\n",
      "        if (node.value <= lower_bound) or (node.value >= upper_bound):\n",
      "            return False\n",
      "        if node.left:\n",
      "            node_and_bounds_stack.append((node.left, lower_bound, node.value))\n",
      "        if node.right:\n",
      "            node_and_bounds_stack.append((node.right, node.value, upper_bound))\n",
      "    return True\n",
      "\n",
      "is_binary_search_tree(node)"
     ],
     "language": "python",
     "metadata": {},
     "outputs": [
      {
       "output_type": "stream",
       "stream": "stdout",
       "text": [
        "after 50 -inf inf\n",
        "after 80 50 inf\n",
        "after 30 -inf 50\n"
       ]
      },
      {
       "metadata": {},
       "output_type": "pyout",
       "prompt_number": 21,
       "text": [
        "True"
       ]
      }
     ],
     "prompt_number": 21
    },
    {
     "cell_type": "code",
     "collapsed": false,
     "input": [
      "class Solution(object):\n",
      "    def maxPathSum(self, root):\n",
      "        self.maxval=None\n",
      "        self.dfs(root)\n",
      "        return self.maxval\n",
      "    \n",
      "    def dfs(self,node):\n",
      "        if not node:\n",
      "            return 0\n",
      "        left=self.dfs(node.left)\n",
      "        right=self.dfs(node.right)\n",
      "        self.maxval=max(self.maxval,left+node.val+right)\n",
      "        return max(node.val+max(left,right),0)\n",
      "        "
     ],
     "language": "python",
     "metadata": {},
     "outputs": []
    },
    {
     "cell_type": "code",
     "collapsed": false,
     "input": [
      "def river():\n",
      "  speed = {'A':10, 'B':3, 'E':5}\n",
      "  topo = {('A','B'):'C',('C','E'):'D'}\n",
      "  stack = []\n",
      "  for k,v in topo.items():\n",
      "    if v not in speed:\n",
      "      stack.append(v)\n",
      "      if k[0] in speed and k[1] in speed:\n",
      "        speed[v] = speed[k[0]]+speed[k[1]]\n",
      "        stack.pop()"
     ],
     "language": "python",
     "metadata": {},
     "outputs": [],
     "prompt_number": 1
    },
    {
     "cell_type": "code",
     "collapsed": false,
     "input": [],
     "language": "python",
     "metadata": {},
     "outputs": []
    }
   ],
   "metadata": {}
  }
 ]
}